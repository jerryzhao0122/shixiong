{
 "cells": [
  {
   "cell_type": "code",
   "execution_count": 1,
   "metadata": {},
   "outputs": [],
   "source": [
    "import torch\n",
    "from sklearn import metrics\n",
    "\n",
    "a = torch.sign(torch.randn(10000000)).cuda()\n",
    "b = torch.sign(torch.randn(10000000)).cuda()\n"
   ]
  },
  {
   "cell_type": "code",
   "execution_count": 5,
   "metadata": {},
   "outputs": [],
   "source": [
    "mean=5\n",
    "var=10\n",
    "a = torch.sign(torch.normal(mean,var,size=a.shape,device=a.device))\n",
    "b = torch.sign(torch.normal(mean,var,size=b.shape,device=b.device))"
   ]
  },
  {
   "cell_type": "code",
   "execution_count": 3,
   "metadata": {},
   "outputs": [],
   "source": [
    "import numpy as np\n",
    "import math\n",
    "def my_NMI(a,b):\n",
    "    a_n = torch.zeros_like(a,device=a.device)\n",
    "    a_n[torch.where(a==-1)]=2\n",
    "    a_n[torch.where(a==0 )]=3\n",
    "    a_n[torch.where(a==1 )]=5\n",
    "    b_n = torch.zeros_like(b,device=b.device)\n",
    "    b_n[torch.where(b==-1)]=11\n",
    "    b_n[torch.where(b==0 )]=23\n",
    "    b_n[torch.where(b==1 )]=31\n",
    "\n",
    "    a_unis = torch.unique(a,return_counts=False).int().cpu().numpy()\n",
    "    b_unis = torch.unique(b,return_counts=False).int().cpu().numpy()\n",
    "    # print(a_unis,b_unis)\n",
    "    # print(a_n)\n",
    "    total = len(a)\n",
    "    eps = 1.4e-45\n",
    "\n",
    "    c_n_dict = {(-1, -1): 13, (-1, 0): 25, (-1, 1): 33, (0, -1): 14, (0, 0): 26, (0, 1): 34, (1, -1): 16, (1, 0): 28, (1, 1): 36}\n",
    "    c_n = a_n + b_n\n",
    "    \n",
    "    # 计算mi\n",
    "    mi=0\n",
    "    for a_u in a_unis:\n",
    "        for b_u in b_unis:\n",
    "            key = (a_u,b_u)\n",
    "            value = c_n_dict[key]\n",
    "\n",
    "            px = 1.0*len(torch.where(a==a_u)[0])/total\n",
    "            py = 1.0*len(torch.where(b==b_u)[0])/total\n",
    "            pxy = 1.0*len(torch.where(c_n==value)[0])/total\n",
    "            # print('key:{},pxy_idx:{}'.format(key,torch.where(c_n==value)[0]))\n",
    "            mi = mi + pxy*math.log(pxy/(px*py)+eps,2)\n",
    "    # print(mi)\n",
    "\n",
    "    # 计算nmi\n",
    "    hx = 0\n",
    "    for a_u in a_unis:\n",
    "        ida_occurCount = 1.0*len(torch.where(a==a_u)[0])\n",
    "        hx = hx - (ida_occurCount/total)*math.log(ida_occurCount/total+eps,2)\n",
    "    hy = 0\n",
    "    for b_u in b_unis:\n",
    "        idb_occurCount = 1.0*len(torch.where(b==b_u)[0])\n",
    "        hy = hy - (idb_occurCount/total)*math.log(idb_occurCount/total+eps,2)\n",
    "    nmi = 2.0*mi/(hx+hy)\n",
    "    return nmi"
   ]
  },
  {
   "cell_type": "code",
   "execution_count": 6,
   "metadata": {},
   "outputs": [
    {
     "data": {
      "text/plain": [
       "3.1340854732906822e-09"
      ]
     },
     "execution_count": 6,
     "metadata": {},
     "output_type": "execute_result"
    }
   ],
   "source": [
    "my_NMI(a,b)"
   ]
  },
  {
   "cell_type": "code",
   "execution_count": 39,
   "metadata": {},
   "outputs": [],
   "source": [
    "def NMI(A,B):\n",
    "    #样本点数\n",
    "    total = len(A)\n",
    "    A_ids = set(A)\n",
    "    B_ids = set(B)\n",
    "    print(A_ids,B_ids)\n",
    "    #互信息计算\n",
    "    MI = 0\n",
    "    eps = 1.4e-45\n",
    "    for idA in A_ids:\n",
    "        for idB in B_ids:\n",
    "            idAOccur = np.where(A==idA)\n",
    "            idBOccur = np.where(B==idB)\n",
    "            idABOccur = np.intersect1d(idAOccur,idBOccur)\n",
    "            px = 1.0*len(idAOccur[0])/total\n",
    "            py = 1.0*len(idBOccur[0])/total\n",
    "            pxy = 1.0*len(idABOccur)/total\n",
    "            print(px,py,pxy)\n",
    "            MI = MI + pxy*math.log(pxy/(px*py)+eps,2)\n",
    "    # 标准化互信息\n",
    "    Hx = 0\n",
    "    for idA in A_ids:\n",
    "        idAOccurCount = 1.0*len(np.where(A==idA)[0])\n",
    "        Hx = Hx - (idAOccurCount/total)*math.log(idAOccurCount/total+eps,2)\n",
    "    Hy = 0\n",
    "    for idB in B_ids:\n",
    "        idBOccurCount = 1.0*len(np.where(B==idB)[0])\n",
    "        Hy = Hy - (idBOccurCount/total)*math.log(idBOccurCount/total+eps,2)\n",
    "    MIhat = 2.0*MI/(Hx+Hy)\n",
    "    return MIhat\n"
   ]
  },
  {
   "cell_type": "code",
   "execution_count": 3,
   "metadata": {},
   "outputs": [
    {
     "name": "stdout",
     "output_type": "stream",
     "text": [
      "[13, 25, 33]\n",
      "[14, 26, 34]\n",
      "[16, 28, 36]\n"
     ]
    }
   ],
   "source": [
    "#a=[-1,0,1]\n",
    "c = [2,3,5] \n",
    "#b=[-1,0,1]\n",
    "d = [11,23,31]\n",
    "e = []\n",
    "for i in c:\n",
    "    f = []\n",
    "    for j in d:\n",
    "        f.append(i+j)\n",
    "    print(f)\n",
    "\n"
   ]
  },
  {
   "cell_type": "code",
   "execution_count": 14,
   "metadata": {},
   "outputs": [
    {
     "name": "stdout",
     "output_type": "stream",
     "text": [
      "[      0       1       3 ... 9999993 9999996 9999998]\n",
      "[]\n",
      "[      7       8      10 ... 9999988 9999992 9999999]\n",
      "[]\n",
      "[]\n",
      "[]\n",
      "[      2       4       5 ... 9999989 9999995 9999997]\n",
      "[]\n",
      "[      6       9      30 ... 9999983 9999991 9999994]\n"
     ]
    }
   ],
   "source": [
    "import numpy as np\n",
    "import math\n",
    "def NMI(a,b):\n",
    "    a_n = torch.zeros_like(a,device=a.device)\n",
    "    a_n[torch.where(a==-1)]=2\n",
    "    a_n[torch.where(a==0 )]=3\n",
    "    a_n[torch.where(a==1 )]=5\n",
    "    b_n = torch.zeros_like(b,device=b.device)\n",
    "    b_n[torch.where(b==-1)]=11\n",
    "    b_n[torch.where(b==0 )]=23\n",
    "    b_n[torch.where(b==1 )]=31\n",
    "\n",
    "    total = len(a)\n",
    "    eps = 1.4e-45\n",
    "\n",
    "    c_n_dict = {13:(-1,-1),25:(-1,0),33:(-1,1),14:(0,-1),26:(0,0),34:(0,1),16:(1,-1),18:(1,0),36:(1,1)}\n",
    "    c_n = (a_n + b_n).cpu().numpy()\n",
    "    \n",
    "    # 计算mi\n",
    "    mi = 0\n",
    "    for key,value in c_n_dict.items():\n",
    "        ab_ = np.where(c_n==key)[0]\n",
    "        if len(ab_) != 0:\n",
    "            px = 1.0*len(torch.where(a==value[0])[0])/total\n",
    "            py = 1.0*len(torch.where(b==value[1])[0])/total\n",
    "            pxy = 1.0*len(ab_)/total\n",
    "            mi = mi + pxy*math.log(pxy/(px*py)+eps,2)\n",
    "    \n",
    "    # 计算h\n",
    "        \n",
    "\n",
    "NMI(a,b)"
   ]
  },
  {
   "cell_type": "code",
   "execution_count": 25,
   "metadata": {},
   "outputs": [
    {
     "ename": "TypeError",
     "evalue": "can't convert cuda:0 device type tensor to numpy. Use Tensor.cpu() to copy the tensor to host memory first.",
     "output_type": "error",
     "traceback": [
      "\u001b[0;31m---------------------------------------------------------------------------\u001b[0m",
      "\u001b[0;31mTypeError\u001b[0m                                 Traceback (most recent call last)",
      "\u001b[0;32m/tmp/ipykernel_452226/786012409.py\u001b[0m in \u001b[0;36m<module>\u001b[0;34m\u001b[0m\n\u001b[0;32m----> 1\u001b[0;31m \u001b[0mmetrics\u001b[0m\u001b[0;34m.\u001b[0m\u001b[0mnormalized_mutual_info_score\u001b[0m\u001b[0;34m(\u001b[0m\u001b[0ma\u001b[0m\u001b[0;34m,\u001b[0m\u001b[0mb\u001b[0m\u001b[0;34m)\u001b[0m\u001b[0;34m\u001b[0m\u001b[0;34m\u001b[0m\u001b[0m\n\u001b[0m",
      "\u001b[0;32m/environment/miniconda3/lib/python3.7/site-packages/sklearn/metrics/cluster/_supervised.py\u001b[0m in \u001b[0;36mnormalized_mutual_info_score\u001b[0;34m(labels_true, labels_pred, average_method)\u001b[0m\n\u001b[1;32m   1018\u001b[0m       \u001b[0;36m0.0\u001b[0m\u001b[0;34m\u001b[0m\u001b[0;34m\u001b[0m\u001b[0m\n\u001b[1;32m   1019\u001b[0m     \"\"\"\n\u001b[0;32m-> 1020\u001b[0;31m     \u001b[0mlabels_true\u001b[0m\u001b[0;34m,\u001b[0m \u001b[0mlabels_pred\u001b[0m \u001b[0;34m=\u001b[0m \u001b[0mcheck_clusterings\u001b[0m\u001b[0;34m(\u001b[0m\u001b[0mlabels_true\u001b[0m\u001b[0;34m,\u001b[0m \u001b[0mlabels_pred\u001b[0m\u001b[0;34m)\u001b[0m\u001b[0;34m\u001b[0m\u001b[0;34m\u001b[0m\u001b[0m\n\u001b[0m\u001b[1;32m   1021\u001b[0m     \u001b[0mclasses\u001b[0m \u001b[0;34m=\u001b[0m \u001b[0mnp\u001b[0m\u001b[0;34m.\u001b[0m\u001b[0munique\u001b[0m\u001b[0;34m(\u001b[0m\u001b[0mlabels_true\u001b[0m\u001b[0;34m)\u001b[0m\u001b[0;34m\u001b[0m\u001b[0;34m\u001b[0m\u001b[0m\n\u001b[1;32m   1022\u001b[0m     \u001b[0mclusters\u001b[0m \u001b[0;34m=\u001b[0m \u001b[0mnp\u001b[0m\u001b[0;34m.\u001b[0m\u001b[0munique\u001b[0m\u001b[0;34m(\u001b[0m\u001b[0mlabels_pred\u001b[0m\u001b[0;34m)\u001b[0m\u001b[0;34m\u001b[0m\u001b[0;34m\u001b[0m\u001b[0m\n",
      "\u001b[0;32m/environment/miniconda3/lib/python3.7/site-packages/sklearn/metrics/cluster/_supervised.py\u001b[0m in \u001b[0;36mcheck_clusterings\u001b[0;34m(labels_true, labels_pred)\u001b[0m\n\u001b[1;32m     44\u001b[0m         \u001b[0mensure_2d\u001b[0m\u001b[0;34m=\u001b[0m\u001b[0;32mFalse\u001b[0m\u001b[0;34m,\u001b[0m\u001b[0;34m\u001b[0m\u001b[0;34m\u001b[0m\u001b[0m\n\u001b[1;32m     45\u001b[0m         \u001b[0mensure_min_samples\u001b[0m\u001b[0;34m=\u001b[0m\u001b[0;36m0\u001b[0m\u001b[0;34m,\u001b[0m\u001b[0;34m\u001b[0m\u001b[0;34m\u001b[0m\u001b[0m\n\u001b[0;32m---> 46\u001b[0;31m         \u001b[0mdtype\u001b[0m\u001b[0;34m=\u001b[0m\u001b[0;32mNone\u001b[0m\u001b[0;34m,\u001b[0m\u001b[0;34m\u001b[0m\u001b[0;34m\u001b[0m\u001b[0m\n\u001b[0m\u001b[1;32m     47\u001b[0m     )\n\u001b[1;32m     48\u001b[0m \u001b[0;34m\u001b[0m\u001b[0m\n",
      "\u001b[0;32m/environment/miniconda3/lib/python3.7/site-packages/sklearn/utils/validation.py\u001b[0m in \u001b[0;36mcheck_array\u001b[0;34m(array, accept_sparse, accept_large_sparse, dtype, order, copy, force_all_finite, ensure_2d, allow_nd, ensure_min_samples, ensure_min_features, estimator)\u001b[0m\n\u001b[1;32m    736\u001b[0m                     \u001b[0marray\u001b[0m \u001b[0;34m=\u001b[0m \u001b[0marray\u001b[0m\u001b[0;34m.\u001b[0m\u001b[0mastype\u001b[0m\u001b[0;34m(\u001b[0m\u001b[0mdtype\u001b[0m\u001b[0;34m,\u001b[0m \u001b[0mcasting\u001b[0m\u001b[0;34m=\u001b[0m\u001b[0;34m\"unsafe\"\u001b[0m\u001b[0;34m,\u001b[0m \u001b[0mcopy\u001b[0m\u001b[0;34m=\u001b[0m\u001b[0;32mFalse\u001b[0m\u001b[0;34m)\u001b[0m\u001b[0;34m\u001b[0m\u001b[0;34m\u001b[0m\u001b[0m\n\u001b[1;32m    737\u001b[0m                 \u001b[0;32melse\u001b[0m\u001b[0;34m:\u001b[0m\u001b[0;34m\u001b[0m\u001b[0;34m\u001b[0m\u001b[0m\n\u001b[0;32m--> 738\u001b[0;31m                     \u001b[0marray\u001b[0m \u001b[0;34m=\u001b[0m \u001b[0mnp\u001b[0m\u001b[0;34m.\u001b[0m\u001b[0masarray\u001b[0m\u001b[0;34m(\u001b[0m\u001b[0marray\u001b[0m\u001b[0;34m,\u001b[0m \u001b[0morder\u001b[0m\u001b[0;34m=\u001b[0m\u001b[0morder\u001b[0m\u001b[0;34m,\u001b[0m \u001b[0mdtype\u001b[0m\u001b[0;34m=\u001b[0m\u001b[0mdtype\u001b[0m\u001b[0;34m)\u001b[0m\u001b[0;34m\u001b[0m\u001b[0;34m\u001b[0m\u001b[0m\n\u001b[0m\u001b[1;32m    739\u001b[0m             \u001b[0;32mexcept\u001b[0m \u001b[0mComplexWarning\u001b[0m \u001b[0;32mas\u001b[0m \u001b[0mcomplex_warning\u001b[0m\u001b[0;34m:\u001b[0m\u001b[0;34m\u001b[0m\u001b[0;34m\u001b[0m\u001b[0m\n\u001b[1;32m    740\u001b[0m                 raise ValueError(\n",
      "\u001b[0;32m/environment/miniconda3/lib/python3.7/site-packages/torch/_tensor.py\u001b[0m in \u001b[0;36m__array__\u001b[0;34m(self, dtype)\u001b[0m\n\u001b[1;32m    676\u001b[0m             \u001b[0;32mreturn\u001b[0m \u001b[0mhandle_torch_function\u001b[0m\u001b[0;34m(\u001b[0m\u001b[0mTensor\u001b[0m\u001b[0;34m.\u001b[0m\u001b[0m__array__\u001b[0m\u001b[0;34m,\u001b[0m \u001b[0;34m(\u001b[0m\u001b[0mself\u001b[0m\u001b[0;34m,\u001b[0m\u001b[0;34m)\u001b[0m\u001b[0;34m,\u001b[0m \u001b[0mself\u001b[0m\u001b[0;34m,\u001b[0m \u001b[0mdtype\u001b[0m\u001b[0;34m=\u001b[0m\u001b[0mdtype\u001b[0m\u001b[0;34m)\u001b[0m\u001b[0;34m\u001b[0m\u001b[0;34m\u001b[0m\u001b[0m\n\u001b[1;32m    677\u001b[0m         \u001b[0;32mif\u001b[0m \u001b[0mdtype\u001b[0m \u001b[0;32mis\u001b[0m \u001b[0;32mNone\u001b[0m\u001b[0;34m:\u001b[0m\u001b[0;34m\u001b[0m\u001b[0;34m\u001b[0m\u001b[0m\n\u001b[0;32m--> 678\u001b[0;31m             \u001b[0;32mreturn\u001b[0m \u001b[0mself\u001b[0m\u001b[0;34m.\u001b[0m\u001b[0mnumpy\u001b[0m\u001b[0;34m(\u001b[0m\u001b[0;34m)\u001b[0m\u001b[0;34m\u001b[0m\u001b[0;34m\u001b[0m\u001b[0m\n\u001b[0m\u001b[1;32m    679\u001b[0m         \u001b[0;32melse\u001b[0m\u001b[0;34m:\u001b[0m\u001b[0;34m\u001b[0m\u001b[0;34m\u001b[0m\u001b[0m\n\u001b[1;32m    680\u001b[0m             \u001b[0;32mreturn\u001b[0m \u001b[0mself\u001b[0m\u001b[0;34m.\u001b[0m\u001b[0mnumpy\u001b[0m\u001b[0;34m(\u001b[0m\u001b[0;34m)\u001b[0m\u001b[0;34m.\u001b[0m\u001b[0mastype\u001b[0m\u001b[0;34m(\u001b[0m\u001b[0mdtype\u001b[0m\u001b[0;34m,\u001b[0m \u001b[0mcopy\u001b[0m\u001b[0;34m=\u001b[0m\u001b[0;32mFalse\u001b[0m\u001b[0;34m)\u001b[0m\u001b[0;34m\u001b[0m\u001b[0;34m\u001b[0m\u001b[0m\n",
      "\u001b[0;31mTypeError\u001b[0m: can't convert cuda:0 device type tensor to numpy. Use Tensor.cpu() to copy the tensor to host memory first."
     ]
    }
   ],
   "source": [
    "metrics.normalized_mutual_info_score(a,b)"
   ]
  },
  {
   "cell_type": "code",
   "execution_count": 5,
   "metadata": {},
   "outputs": [],
   "source": [
    "import cupy as cp\n",
    "from torch.utils.dlpack import to_dlpack,from_dlpack\n",
    "from cupy import fromDlpack"
   ]
  },
  {
   "cell_type": "code",
   "execution_count": 7,
   "metadata": {},
   "outputs": [
    {
     "name": "stderr",
     "output_type": "stream",
     "text": [
      "/environment/miniconda3/lib/python3.7/site-packages/ipykernel_launcher.py:1: DeprecationWarning: This function is deprecated in favor of cupy.from_dlpack\n",
      "  \"\"\"Entry point for launching an IPython kernel.\n",
      "/environment/miniconda3/lib/python3.7/site-packages/ipykernel_launcher.py:2: DeprecationWarning: This function is deprecated in favor of cupy.from_dlpack\n",
      "  \n"
     ]
    }
   ],
   "source": [
    "A = fromDlpack(to_dlpack(a.cuda())) # pytorch -> cupy\n",
    "B = fromDlpack(to_dlpack(b.cuda())) # pytorch -> cupy"
   ]
  },
  {
   "cell_type": "code",
   "execution_count": 16,
   "metadata": {},
   "outputs": [],
   "source": [
    "a_n = a.numpy()\n",
    "b_n = b.numpy()"
   ]
  },
  {
   "cell_type": "code",
   "execution_count": 22,
   "metadata": {},
   "outputs": [],
   "source": [
    "import numpy as np\n",
    "import math\n",
    "\n",
    "\n",
    "def NMI(A,B):\n",
    "    #样本点数\n",
    "    total = len(A)\n",
    "    A_ids = set(A)\n",
    "    B_ids = set(B)\n",
    "    print(A_ids,B_ids)\n",
    "    #互信息计算\n",
    "    MI = 0\n",
    "    eps = 1.4e-45\n",
    "    for idA in A_ids:\n",
    "        for idB in B_ids:\n",
    "            idAOccur = np.where(A==idA)\n",
    "            idBOccur = np.where(B==idB)\n",
    "            idABOccur = np.intersect1d(idAOccur,idBOccur)\n",
    "            px = 1.0*len(idAOccur[0])/total\n",
    "            py = 1.0*len(idBOccur[0])/total\n",
    "            pxy = 1.0*len(idABOccur)/total\n",
    "            print(px,py,pxy)\n",
    "            MI = MI + pxy*math.log(pxy/(px*py)+eps,2)\n",
    "    # 标准化互信息\n",
    "    Hx = 0\n",
    "    for idA in A_ids:\n",
    "        idAOccurCount = 1.0*len(np.where(A==idA)[0])\n",
    "        Hx = Hx - (idAOccurCount/total)*math.log(idAOccurCount/total+eps,2)\n",
    "    Hy = 0\n",
    "    for idB in B_ids:\n",
    "        idBOccurCount = 1.0*len(np.where(B==idB)[0])\n",
    "        Hy = Hy - (idBOccurCount/total)*math.log(idBOccurCount/total+eps,2)\n",
    "    MIhat = 2.0*MI/(Hx+Hy)\n",
    "    return MIhat\n"
   ]
  },
  {
   "cell_type": "code",
   "execution_count": 23,
   "metadata": {},
   "outputs": [
    {
     "name": "stdout",
     "output_type": "stream",
     "text": [
      "{0.0, 1.0, -1.0} {1.0, -1.0}\n",
      "4e-07 0.4999227 3e-07\n",
      "4e-07 0.5000773 1e-07\n",
      "0.499893 0.4999227 0.2498501\n",
      "0.499893 0.5000773 0.2500429\n",
      "0.5001066 0.4999227 0.2500723\n",
      "0.5001066 0.5000773 0.2500343\n"
     ]
    },
    {
     "data": {
      "text/plain": [
       "1.1396913312833996e-07"
      ]
     },
     "execution_count": 23,
     "metadata": {},
     "output_type": "execute_result"
    }
   ],
   "source": [
    "NMI(a_n,b_n)"
   ]
  }
 ],
 "metadata": {
  "kernelspec": {
   "display_name": "Python 3",
   "language": "python",
   "name": "python3"
  },
  "language_info": {
   "codemirror_mode": {
    "name": "ipython",
    "version": 3
   },
   "file_extension": ".py",
   "mimetype": "text/x-python",
   "name": "python",
   "nbconvert_exporter": "python",
   "pygments_lexer": "ipython3",
   "version": "3.9.12"
  },
  "orig_nbformat": 4,
  "vscode": {
   "interpreter": {
    "hash": "940150d48c6d028077f78b77b5d61b235146cd56828089fb81c879a25d816b66"
   }
  }
 },
 "nbformat": 4,
 "nbformat_minor": 2
}
