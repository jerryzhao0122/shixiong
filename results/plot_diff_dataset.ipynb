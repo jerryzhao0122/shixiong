{
 "cells": [
  {
   "cell_type": "code",
   "execution_count": 45,
   "metadata": {},
   "outputs": [],
   "source": [
    "from tensorboard.backend.event_processing import event_accumulator\n",
    "import matplotlib.pyplot as plt\n",
    "import os\n",
    "import numpy as np \n",
    "import plotly.io as pio\n",
    "import plotly.express as px\n",
    "import plotly.graph_objects as go\n",
    "from plotly.subplots import make_subplots\n",
    "import pandas as pd\n",
    "import numpy as np\n",
    "\n",
    "# # 设置plotly默认主题\n",
    "# pio.templates.default = 'plotly_white'\n"
   ]
  },
  {
   "cell_type": "code",
   "execution_count": 46,
   "metadata": {},
   "outputs": [],
   "source": [
    "def read_tensorboard_data(tensorboard_path, val_name):\n",
    "    \"\"\"读取tensorboard数据，\n",
    "    tensorboard_path是tensorboard数据地址val_name是需要读取的变量名称\"\"\"\n",
    "    ea = event_accumulator.EventAccumulator(tensorboard_path)\n",
    "    ea.Reload()\n",
    "    print(ea.scalars.Keys())\n",
    "    val = ea.scalars.Items(val_name)\n",
    "    return val\n",
    "    \n",
    "def get_event_data(tensorboard_path,key):\n",
    "    # print(tensorboard_path)\n",
    "    ea = event_accumulator.EventAccumulator(tensorboard_path)\n",
    "    ea.Reload()\n",
    "    # print(ea.scalars.Keys())\n",
    "    # print(key)\n",
    "    value = [i.value for i in  ea.scalars.Items(key)]\n",
    "    return value\n",
    "\n",
    "def get_file_list(file_path):\n",
    "    dir_list = os.listdir(file_path)\n",
    "    if not dir_list:\n",
    "        return\n",
    "    else:\n",
    "        # 注意，这里使用lambda表达式，将文件按照最后修改时间顺序升序排列\n",
    "        # os.path.getmtime() 函数是获取文件最后修改时间\n",
    "        # os.path.getctime() 函数是获取文件最后创建时间\n",
    "        dir_list = sorted(dir_list,key=lambda x: os.path.getmtime(os.path.join(file_path, x)))\n",
    "        # print(dir_list)\n",
    "        return dir_list\n",
    "\n",
    "def get_event_data_mean(tensorboard_path_list,key):\n",
    "    len_ea = len(tensorboard_path_list)\n",
    "    eas = [event_accumulator.EventAccumulator(i).Reload() for i in tensorboard_path_list]\n",
    "    values = []\n",
    "    for ea in eas:\n",
    "        value = [i.value for i in ea.scalars.Items(key)]\n",
    "        values.append(value)\n",
    "    \n",
    "    values = np.array(values)\n",
    "    values = list(np.mean(values,axis=0))\n",
    "    return values\n",
    "\n",
    "def get_group_data(dataset='mnist',distribution='iid',attack_type='label',define_type='fedavg',key='Server_Acc',attack_round=150,mean_value=False):\n",
    "    '''\n",
    "        attack_type = ['gaussian','label','pixel','replace']\n",
    "        define_type = ['fedavg','fedavg-krum','fedsign','fedsign-krum','fedsign-fadc-nmi','fedsign-fadc-ed']\n",
    "    '''\n",
    "\n",
    "    if dataset == 'cifar10':\n",
    "        model_n = 'alexnet'\n",
    "    else:\n",
    "        model_n = 'lanet'\n",
    "\n",
    "    if define_type == 'majority-vote' or define_type == 'majority-vote-ad' :\n",
    "        r_round = 4000\n",
    "        attack_round=3500\n",
    "    elif define_type == 'dprsa-f' or define_type == 'dprsa-g':\n",
    "        r_round =1000\n",
    "        attack_round = 800\n",
    "    elif define_type in ['fedsign-mipc-mask','fedavg','fedavg-krum'] and dataset == 'cifar10':\n",
    "        r_round=300\n",
    "        attack_round = 250\n",
    "    else:\n",
    "        r_round = 200\n",
    "\n",
    "    dataset_dict = {'mnist':'MNIST','fmnist':'FMNIST','cifar10':''}\n",
    "    define_dict = {'fedavg':'FedAVG','fedavg-krum':'Krumavg','fedsign':'sign','fedsign-krum':'Krum','fedsign-fadc-nmi':'mipc','majority-vote':'MajorityVote',\n",
    "    'fedsign-mipc-mask':'mipc','majority-vote-ad':'MajorityVote_AD','dprsa-f':'DPRSA_F'}\n",
    "    attack_dict = {'gaussian':'gaussian','label':'labelflip','pixel':'pixel','replace':'replace'}\n",
    "\n",
    "    if define_type in ['dprsa-f','majority-vote'] and dataset=='cifar10':\n",
    "        root_path = '/home/featurize/work/tensorboard0127/tensorboard_logs/' + dataset +'/'+ distribution +'/attack/' + attack_type \n",
    "    else:\n",
    "        root_path = '/home/featurize/result/tensorboard_logs/'+ dataset +'/'+ distribution +'/attack/' + attack_type \n",
    "\n",
    "    if dataset == 'cifar10' and define_type == 'dprsa-f':\n",
    "        r_round=500\n",
    "        attack_round = 300\n",
    "    if dataset == 'cifar10' and define_type == 'majority-vote':\n",
    "        r_round=1000\n",
    "        attack_round = 800\n",
    "\n",
    "    if dataset == 'cifar10':\n",
    "        model_n = 'alexnet'\n",
    "        for i,value in define_dict.items():\n",
    "            if i == 'dprsa-f':\n",
    "                define_dict[i] = 'DPRSA_v2_F'\n",
    "            elif i == 'fedsign-mipc-mask':\n",
    "                define_dict[i] = define_dict[i]\n",
    "            else:\n",
    "                define_dict[i] = value + '_v2'\n",
    "\n",
    "    # 如果有mask\n",
    "    if 'mask' in define_type:\n",
    "        str_mask = '_mask'\n",
    "        if dataset == 'cifar10':\n",
    "            str_mask = '_mask_v2'\n",
    "    else:\n",
    "        str_mask = ''\n",
    "\n",
    "    if dataset == 'cifar10' or 'dprsa' in define_type:\n",
    "        name = 'R_' + define_dict[define_type] + '_' + attack_dict[attack_type] + str_mask + '_' + distribution + '_'\n",
    "    else:\n",
    "        name = 'R_' + dataset_dict[dataset] + '_' + define_dict[define_type] + '_' + attack_dict[attack_type] + str_mask + '_' + distribution + '_'\n",
    "    temp = ['attack_num:'+ str(i) + 'attack_frequency:1client_num:20train_num:20train_round:'+ str(r_round) +'(model):'+ model_n +'(experiment):'+ name + str(i) for i in range(2,20,2)]\n",
    "    if attack_type == 'replace':\n",
    "        temp = ['attack_round:' + str(attack_round)+ 'client_num:20train_num:20train_round:'+ str(r_round) +'(model):'+model_n+'(experiment):'+ name + str(i) for i in range(2,20,2)]\n",
    "        # 'attack_round:150client_num:20train_num:20train_round:200(model):lanet(experiment):R_sign_replace_noniid_8'\n",
    "    # print(root_path)\n",
    "\n",
    "    path_list = [root_path + '/' + i for i in temp]\n",
    "    # print(path_list)\n",
    "    test = [len(os.listdir(i)) for i in path_list[:]]\n",
    "    # print(test)\n",
    "\n",
    "    if mean_value == True:\n",
    "        event_path_list=[]\n",
    "        for path in path_list:\n",
    "            tmp_list = []\n",
    "            tmp = path + '/'\n",
    "            file_name_list = get_file_list(path)[-5:]\n",
    "            for file_name in file_name_list:\n",
    "                tmp_list.append(tmp+file_name)\n",
    "            event_path_list.append(tmp_list)\n",
    "        event_data = [get_event_data_mean(i,key) for i in event_path_list]\n",
    "        pass\n",
    "    else:\n",
    "        event_path_list = [i + '/' + get_file_list(i)[-1]  for i in path_list[:]]\n",
    "        # print(event_path_list)\n",
    "        event_data = [get_event_data(i,key) for i in event_path_list]\n",
    "    \n",
    "    return event_data"
   ]
  },
  {
   "cell_type": "code",
   "execution_count": 47,
   "metadata": {},
   "outputs": [
    {
     "data": {
      "text/plain": [
       "[0.9598000049591064,\n",
       " 0.9438999891281128,\n",
       " 0.8992000222206116,\n",
       " 0.11349999904632568,\n",
       " 0.11349999904632568,\n",
       " 0.11349999904632568,\n",
       " 0.11349999904632568,\n",
       " 0.11349999904632568,\n",
       " 0.11349999904632568]"
      ]
     },
     "execution_count": 47,
     "metadata": {},
     "output_type": "execute_result"
    }
   ],
   "source": [
    "[max(i[180:]) for i in get_group_data(dataset='mnist',distribution='iid',attack_type='gaussian',define_type='fedavg')]"
   ]
  },
  {
   "cell_type": "code",
   "execution_count": 48,
   "metadata": {},
   "outputs": [],
   "source": [
    "cov_dict = {'MNIST':'mnist','FMNIST':'fmnist','CIFAR10':'cifar10',\n",
    "            'FedSIGN':'fedsign-mipc-mask','FedAVG':'fedavg',\n",
    "            'Gaussian Noise Attack':'gaussian','Label Flip Attack':'label','Pixel Backdoor Attack':'pixel','Model Replacement Attack':'replace'}\n",
    "\n",
    "all_data = pd.DataFrame()\n",
    "\n",
    "all_data_server_acc = []\n",
    "all_data_malicious = [10,20,30,40,50,60,70,80,90]*3*2*4\n",
    "all_data_dataset = ['MNIST']*2*4*9+['F-MNIST']*2*4*9+['CIFAR10']*2*4*9\n",
    "all_data_framework = (['FedSIGN']*4*9+['FedAVG']*4*9)*3\n",
    "all_data_attack = (['Gaussian Noise Attack']*9+['Label Flip Attack']*9+['Pixel Backdoor Attack']*9+['Model Replacement Attack']*9)*2*3\n",
    "\n",
    "for k in ['MNIST','FMNIST','CIFAR10']:\n",
    "    for i in ['FedSIGN','FedAVG']:\n",
    "        for j in ['Gaussian Noise Attack','Label Flip Attack','Pixel Backdoor Attack','Model Replacement Attack']:\n",
    "            data = [max(i[180:]) for i in get_group_data(dataset=cov_dict[k],distribution='iid',attack_type=cov_dict[j],define_type=cov_dict[i])]\n",
    "            # print(k,i,j,data)\n",
    "            all_data_server_acc = all_data_server_acc + data\n",
    "\n",
    "all_data['Main Task Accuracy'] = all_data_server_acc\n",
    "all_data['Ratio of Malicious Clients (%)'] = all_data_malicious\n",
    "all_data['Dataset'] = all_data_dataset\n",
    "all_data['Framework'] = all_data_framework\n",
    "all_data['Attack Type'] = all_data_attack"
   ]
  },
  {
   "cell_type": "code",
   "execution_count": 49,
   "metadata": {},
   "outputs": [
    {
     "data": {
      "application/vnd.plotly.v1+json": {
       "config": {
        "plotlyServerURL": "https://plot.ly"
       },
       "data": [
        {
         "hovertemplate": "Attack Type=Gaussian Noise Attack<br>Dataset=MNIST<br>Framework=FedSIGN<br>Ratio of Malicious Clients (%)=%{x}<br>Main Task Accuracy=%{y}<extra></extra>",
         "legendgroup": "Gaussian Noise Attack",
         "line": {
          "color": "rgb(31, 119, 180)",
          "dash": "solid"
         },
         "marker": {
          "symbol": "x-open-dot"
         },
         "mode": "markers+lines",
         "name": "Gaussian Noise Attack",
         "orientation": "v",
         "showlegend": true,
         "type": "scatter",
         "x": [
          10,
          20,
          30,
          40,
          50,
          60,
          70,
          80,
          90
         ],
         "xaxis": "x5",
         "y": [
          0.9900000095367432,
          0.9889000058174133,
          0.9890999794006348,
          0.9879999756813049,
          0.9884999990463257,
          0.986299991607666,
          0.9858999848365784,
          0.9846000075340271,
          0.9771000146865845
         ],
         "yaxis": "y5"
        },
        {
         "hovertemplate": "Attack Type=Gaussian Noise Attack<br>Dataset=MNIST<br>Framework=FedAVG<br>Ratio of Malicious Clients (%)=%{x}<br>Main Task Accuracy=%{y}<extra></extra>",
         "legendgroup": "Gaussian Noise Attack",
         "line": {
          "color": "rgb(31, 119, 180)",
          "dash": "solid"
         },
         "marker": {
          "symbol": "x-open-dot"
         },
         "mode": "markers+lines",
         "name": "Gaussian Noise Attack",
         "orientation": "v",
         "showlegend": false,
         "type": "scatter",
         "x": [
          10,
          20,
          30,
          40,
          50,
          60,
          70,
          80,
          90
         ],
         "xaxis": "x6",
         "y": [
          0.9598000049591064,
          0.9438999891281128,
          0.8992000222206116,
          0.11349999904632568,
          0.11349999904632568,
          0.11349999904632568,
          0.11349999904632568,
          0.11349999904632568,
          0.11349999904632568
         ],
         "yaxis": "y6"
        },
        {
         "hovertemplate": "Attack Type=Gaussian Noise Attack<br>Dataset=F-MNIST<br>Framework=FedSIGN<br>Ratio of Malicious Clients (%)=%{x}<br>Main Task Accuracy=%{y}<extra></extra>",
         "legendgroup": "Gaussian Noise Attack",
         "line": {
          "color": "rgb(31, 119, 180)",
          "dash": "solid"
         },
         "marker": {
          "symbol": "x-open-dot"
         },
         "mode": "markers+lines",
         "name": "Gaussian Noise Attack",
         "orientation": "v",
         "showlegend": false,
         "type": "scatter",
         "x": [
          10,
          20,
          30,
          40,
          50,
          60,
          70,
          80,
          90
         ],
         "xaxis": "x3",
         "y": [
          0.8842999935150146,
          0.8704000115394592,
          0.868399977684021,
          0.8683000206947327,
          0.8719000220298767,
          0.8761000037193298,
          0.8680999875068665,
          0.8629000186920166,
          0.8360999822616577
         ],
         "yaxis": "y3"
        },
        {
         "hovertemplate": "Attack Type=Gaussian Noise Attack<br>Dataset=F-MNIST<br>Framework=FedAVG<br>Ratio of Malicious Clients (%)=%{x}<br>Main Task Accuracy=%{y}<extra></extra>",
         "legendgroup": "Gaussian Noise Attack",
         "line": {
          "color": "rgb(31, 119, 180)",
          "dash": "solid"
         },
         "marker": {
          "symbol": "x-open-dot"
         },
         "mode": "markers+lines",
         "name": "Gaussian Noise Attack",
         "orientation": "v",
         "showlegend": false,
         "type": "scatter",
         "x": [
          10,
          20,
          30,
          40,
          50,
          60,
          70,
          80,
          90
         ],
         "xaxis": "x4",
         "y": [
          0.7093999981880188,
          0.6862999796867371,
          0.6585999727249146,
          0.10000000149011612,
          0.10000000149011612,
          0.10000000149011612,
          0.10000000149011612,
          0.10000000149011612,
          0.10000000149011612
         ],
         "yaxis": "y4"
        },
        {
         "hovertemplate": "Attack Type=Gaussian Noise Attack<br>Dataset=CIFAR10<br>Framework=FedSIGN<br>Ratio of Malicious Clients (%)=%{x}<br>Main Task Accuracy=%{y}<extra></extra>",
         "legendgroup": "Gaussian Noise Attack",
         "line": {
          "color": "rgb(31, 119, 180)",
          "dash": "solid"
         },
         "marker": {
          "symbol": "x-open-dot"
         },
         "mode": "markers+lines",
         "name": "Gaussian Noise Attack",
         "orientation": "v",
         "showlegend": false,
         "type": "scatter",
         "x": [
          10,
          20,
          30,
          40,
          50,
          60,
          70,
          80,
          90
         ],
         "xaxis": "x",
         "y": [
          0.7465999722480774,
          0.7451000213623047,
          0.7297000288963318,
          0.717199981212616,
          0.703499972820282,
          0.6852999925613403,
          0.6599000096321106,
          0.6205000281333923,
          0.5468000173568726
         ],
         "yaxis": "y"
        },
        {
         "hovertemplate": "Attack Type=Gaussian Noise Attack<br>Dataset=CIFAR10<br>Framework=FedAVG<br>Ratio of Malicious Clients (%)=%{x}<br>Main Task Accuracy=%{y}<extra></extra>",
         "legendgroup": "Gaussian Noise Attack",
         "line": {
          "color": "rgb(31, 119, 180)",
          "dash": "solid"
         },
         "marker": {
          "symbol": "x-open-dot"
         },
         "mode": "markers+lines",
         "name": "Gaussian Noise Attack",
         "orientation": "v",
         "showlegend": false,
         "type": "scatter",
         "x": [
          10,
          20,
          30,
          40,
          50,
          60,
          70,
          80,
          90
         ],
         "xaxis": "x2",
         "y": [
          0.6348000168800354,
          0.35569998621940613,
          0.22310000658035278,
          0.18369999527931213,
          0.18140000104904175,
          0.10000000149011612,
          0.10000000149011612,
          0.10000000149011612,
          0.10000000149011612
         ],
         "yaxis": "y2"
        },
        {
         "hovertemplate": "Attack Type=Label Flip Attack<br>Dataset=MNIST<br>Framework=FedSIGN<br>Ratio of Malicious Clients (%)=%{x}<br>Main Task Accuracy=%{y}<extra></extra>",
         "legendgroup": "Label Flip Attack",
         "line": {
          "color": "rgb(255, 127, 14)",
          "dash": "solid"
         },
         "marker": {
          "symbol": "cross-open-dot"
         },
         "mode": "markers+lines",
         "name": "Label Flip Attack",
         "orientation": "v",
         "showlegend": true,
         "type": "scatter",
         "x": [
          10,
          20,
          30,
          40,
          50,
          60,
          70,
          80,
          90
         ],
         "xaxis": "x5",
         "y": [
          0.9902999997138977,
          0.9898999929428101,
          0.9884999990463257,
          0.9865000247955322,
          0.9887999892234802,
          0.9846000075340271,
          0.9854000210762024,
          0.9833999872207642,
          0.973800003528595
         ],
         "yaxis": "y5"
        },
        {
         "hovertemplate": "Attack Type=Label Flip Attack<br>Dataset=MNIST<br>Framework=FedAVG<br>Ratio of Malicious Clients (%)=%{x}<br>Main Task Accuracy=%{y}<extra></extra>",
         "legendgroup": "Label Flip Attack",
         "line": {
          "color": "rgb(255, 127, 14)",
          "dash": "solid"
         },
         "marker": {
          "symbol": "cross-open-dot"
         },
         "mode": "markers+lines",
         "name": "Label Flip Attack",
         "orientation": "v",
         "showlegend": false,
         "type": "scatter",
         "x": [
          10,
          20,
          30,
          40,
          50,
          60,
          70,
          80,
          90
         ],
         "xaxis": "x6",
         "y": [
          0.983299970626831,
          0.9825000166893005,
          0.9812999963760376,
          0.9818999767303467,
          0.9799000024795532,
          0.9593999981880188,
          0.29490000009536743,
          0.0414000004529953,
          0.004600000102072954
         ],
         "yaxis": "y6"
        },
        {
         "hovertemplate": "Attack Type=Label Flip Attack<br>Dataset=F-MNIST<br>Framework=FedSIGN<br>Ratio of Malicious Clients (%)=%{x}<br>Main Task Accuracy=%{y}<extra></extra>",
         "legendgroup": "Label Flip Attack",
         "line": {
          "color": "rgb(255, 127, 14)",
          "dash": "solid"
         },
         "marker": {
          "symbol": "cross-open-dot"
         },
         "mode": "markers+lines",
         "name": "Label Flip Attack",
         "orientation": "v",
         "showlegend": false,
         "type": "scatter",
         "x": [
          10,
          20,
          30,
          40,
          50,
          60,
          70,
          80,
          90
         ],
         "xaxis": "x3",
         "y": [
          0.8752999901771545,
          0.8755999803543091,
          0.8711000084877014,
          0.8745999932289124,
          0.8766000270843506,
          0.8586999773979187,
          0.8592000007629395,
          0.850600004196167,
          0.8324999809265137
         ],
         "yaxis": "y3"
        },
        {
         "hovertemplate": "Attack Type=Label Flip Attack<br>Dataset=F-MNIST<br>Framework=FedAVG<br>Ratio of Malicious Clients (%)=%{x}<br>Main Task Accuracy=%{y}<extra></extra>",
         "legendgroup": "Label Flip Attack",
         "line": {
          "color": "rgb(255, 127, 14)",
          "dash": "solid"
         },
         "marker": {
          "symbol": "cross-open-dot"
         },
         "mode": "markers+lines",
         "name": "Label Flip Attack",
         "orientation": "v",
         "showlegend": false,
         "type": "scatter",
         "x": [
          10,
          20,
          30,
          40,
          50,
          60,
          70,
          80,
          90
         ],
         "xaxis": "x4",
         "y": [
          0.8513000011444092,
          0.8464000225067139,
          0.840499997138977,
          0.8173999786376953,
          0.8187999725341797,
          0.7305999994277954,
          0.2928999960422516,
          0.02239999920129776,
          0.011500000022351742
         ],
         "yaxis": "y4"
        },
        {
         "hovertemplate": "Attack Type=Label Flip Attack<br>Dataset=CIFAR10<br>Framework=FedSIGN<br>Ratio of Malicious Clients (%)=%{x}<br>Main Task Accuracy=%{y}<extra></extra>",
         "legendgroup": "Label Flip Attack",
         "line": {
          "color": "rgb(255, 127, 14)",
          "dash": "solid"
         },
         "marker": {
          "symbol": "cross-open-dot"
         },
         "mode": "markers+lines",
         "name": "Label Flip Attack",
         "orientation": "v",
         "showlegend": false,
         "type": "scatter",
         "x": [
          10,
          20,
          30,
          40,
          50,
          60,
          70,
          80,
          90
         ],
         "xaxis": "x",
         "y": [
          0.7560999989509583,
          0.7419000267982483,
          0.7321000099182129,
          0.7264999747276306,
          0.7071999907493591,
          0.6887000203132629,
          0.6553000211715698,
          0.620199978351593,
          0.5516999959945679
         ],
         "yaxis": "y"
        },
        {
         "hovertemplate": "Attack Type=Label Flip Attack<br>Dataset=CIFAR10<br>Framework=FedAVG<br>Ratio of Malicious Clients (%)=%{x}<br>Main Task Accuracy=%{y}<extra></extra>",
         "legendgroup": "Label Flip Attack",
         "line": {
          "color": "rgb(255, 127, 14)",
          "dash": "solid"
         },
         "marker": {
          "symbol": "cross-open-dot"
         },
         "mode": "markers+lines",
         "name": "Label Flip Attack",
         "orientation": "v",
         "showlegend": false,
         "type": "scatter",
         "x": [
          10,
          20,
          30,
          40,
          50,
          60,
          70,
          80,
          90
         ],
         "xaxis": "x2",
         "y": [
          0.7580000162124634,
          0.7508999705314636,
          0.7160999774932861,
          0.7159000039100647,
          0.6650000214576721,
          0.5803999900817871,
          0.4397999942302704,
          0.28139999508857727,
          0.13230000436306
         ],
         "yaxis": "y2"
        },
        {
         "hovertemplate": "Attack Type=Pixel Backdoor Attack<br>Dataset=MNIST<br>Framework=FedSIGN<br>Ratio of Malicious Clients (%)=%{x}<br>Main Task Accuracy=%{y}<extra></extra>",
         "legendgroup": "Pixel Backdoor Attack",
         "line": {
          "color": "rgb(44, 160, 44)",
          "dash": "solid"
         },
         "marker": {
          "symbol": "diamond-open-dot"
         },
         "mode": "markers+lines",
         "name": "Pixel Backdoor Attack",
         "orientation": "v",
         "showlegend": true,
         "type": "scatter",
         "x": [
          10,
          20,
          30,
          40,
          50,
          60,
          70,
          80,
          90
         ],
         "xaxis": "x5",
         "y": [
          0.9909999966621399,
          0.9900000095367432,
          0.9886999726295471,
          0.9904000163078308,
          0.9883000254631042,
          0.9869999885559082,
          0.984499990940094,
          0.9811000227928162,
          0.9746000170707703
         ],
         "yaxis": "y5"
        },
        {
         "hovertemplate": "Attack Type=Pixel Backdoor Attack<br>Dataset=MNIST<br>Framework=FedAVG<br>Ratio of Malicious Clients (%)=%{x}<br>Main Task Accuracy=%{y}<extra></extra>",
         "legendgroup": "Pixel Backdoor Attack",
         "line": {
          "color": "rgb(44, 160, 44)",
          "dash": "solid"
         },
         "marker": {
          "symbol": "diamond-open-dot"
         },
         "mode": "markers+lines",
         "name": "Pixel Backdoor Attack",
         "orientation": "v",
         "showlegend": false,
         "type": "scatter",
         "x": [
          10,
          20,
          30,
          40,
          50,
          60,
          70,
          80,
          90
         ],
         "xaxis": "x6",
         "y": [
          0.9865000247955322,
          0.9842000007629395,
          0.9825000166893005,
          0.9789999723434448,
          0.9796000123023987,
          0.9731000065803528,
          0.9678999781608582,
          0.9641000032424927,
          0.9047999978065491
         ],
         "yaxis": "y6"
        },
        {
         "hovertemplate": "Attack Type=Pixel Backdoor Attack<br>Dataset=F-MNIST<br>Framework=FedSIGN<br>Ratio of Malicious Clients (%)=%{x}<br>Main Task Accuracy=%{y}<extra></extra>",
         "legendgroup": "Pixel Backdoor Attack",
         "line": {
          "color": "rgb(44, 160, 44)",
          "dash": "solid"
         },
         "marker": {
          "symbol": "diamond-open-dot"
         },
         "mode": "markers+lines",
         "name": "Pixel Backdoor Attack",
         "orientation": "v",
         "showlegend": false,
         "type": "scatter",
         "x": [
          10,
          20,
          30,
          40,
          50,
          60,
          70,
          80,
          90
         ],
         "xaxis": "x3",
         "y": [
          0.8747000098228455,
          0.8722000122070312,
          0.8694999814033508,
          0.8791999816894531,
          0.8693000078201294,
          0.8694000244140625,
          0.8633000254631042,
          0.854200005531311,
          0.8144000172615051
         ],
         "yaxis": "y3"
        },
        {
         "hovertemplate": "Attack Type=Pixel Backdoor Attack<br>Dataset=F-MNIST<br>Framework=FedAVG<br>Ratio of Malicious Clients (%)=%{x}<br>Main Task Accuracy=%{y}<extra></extra>",
         "legendgroup": "Pixel Backdoor Attack",
         "line": {
          "color": "rgb(44, 160, 44)",
          "dash": "solid"
         },
         "marker": {
          "symbol": "diamond-open-dot"
         },
         "mode": "markers+lines",
         "name": "Pixel Backdoor Attack",
         "orientation": "v",
         "showlegend": false,
         "type": "scatter",
         "x": [
          10,
          20,
          30,
          40,
          50,
          60,
          70,
          80,
          90
         ],
         "xaxis": "x4",
         "y": [
          0.8672000169754028,
          0.8428999781608582,
          0.8339999914169312,
          0.8393999934196472,
          0.8342000246047974,
          0.8274999856948853,
          0.7930999994277954,
          0.781499981880188,
          0.583899974822998
         ],
         "yaxis": "y4"
        },
        {
         "hovertemplate": "Attack Type=Pixel Backdoor Attack<br>Dataset=CIFAR10<br>Framework=FedSIGN<br>Ratio of Malicious Clients (%)=%{x}<br>Main Task Accuracy=%{y}<extra></extra>",
         "legendgroup": "Pixel Backdoor Attack",
         "line": {
          "color": "rgb(44, 160, 44)",
          "dash": "solid"
         },
         "marker": {
          "symbol": "diamond-open-dot"
         },
         "mode": "markers+lines",
         "name": "Pixel Backdoor Attack",
         "orientation": "v",
         "showlegend": false,
         "type": "scatter",
         "x": [
          10,
          20,
          30,
          40,
          50,
          60,
          70,
          80,
          90
         ],
         "xaxis": "x",
         "y": [
          0.753600001335144,
          0.7432000041007996,
          0.734000027179718,
          0.7210999727249146,
          0.7071999907493591,
          0.6883000135421753,
          0.6607000231742859,
          0.6191999912261963,
          0.5507000088691711
         ],
         "yaxis": "y"
        },
        {
         "hovertemplate": "Attack Type=Pixel Backdoor Attack<br>Dataset=CIFAR10<br>Framework=FedAVG<br>Ratio of Malicious Clients (%)=%{x}<br>Main Task Accuracy=%{y}<extra></extra>",
         "legendgroup": "Pixel Backdoor Attack",
         "line": {
          "color": "rgb(44, 160, 44)",
          "dash": "solid"
         },
         "marker": {
          "symbol": "diamond-open-dot"
         },
         "mode": "markers+lines",
         "name": "Pixel Backdoor Attack",
         "orientation": "v",
         "showlegend": false,
         "type": "scatter",
         "x": [
          10,
          20,
          30,
          40,
          50,
          60,
          70,
          80,
          90
         ],
         "xaxis": "x2",
         "y": [
          0.7785999774932861,
          0.7741000056266785,
          0.7581999897956848,
          0.7480999827384949,
          0.7337999939918518,
          0.7172999978065491,
          0.66839998960495,
          0.607699990272522,
          0.5175999999046326
         ],
         "yaxis": "y2"
        },
        {
         "hovertemplate": "Attack Type=Model Replacement Attack<br>Dataset=MNIST<br>Framework=FedSIGN<br>Ratio of Malicious Clients (%)=%{x}<br>Main Task Accuracy=%{y}<extra></extra>",
         "legendgroup": "Model Replacement Attack",
         "line": {
          "color": "rgb(214, 39, 40)",
          "dash": "solid"
         },
         "marker": {
          "symbol": "square-open-dot"
         },
         "mode": "markers+lines",
         "name": "Model Replacement Attack",
         "orientation": "v",
         "showlegend": true,
         "type": "scatter",
         "x": [
          10,
          20,
          30,
          40,
          50,
          60,
          70,
          80,
          90
         ],
         "xaxis": "x5",
         "y": [
          0.9908000230789185,
          0.989300012588501,
          0.9896000027656555,
          0.9879000186920166,
          0.9890999794006348,
          0.989799976348877,
          0.9889000058174133,
          0.9869999885559082,
          0.9879000186920166
         ],
         "yaxis": "y5"
        },
        {
         "hovertemplate": "Attack Type=Model Replacement Attack<br>Dataset=MNIST<br>Framework=FedAVG<br>Ratio of Malicious Clients (%)=%{x}<br>Main Task Accuracy=%{y}<extra></extra>",
         "legendgroup": "Model Replacement Attack",
         "line": {
          "color": "rgb(214, 39, 40)",
          "dash": "solid"
         },
         "marker": {
          "symbol": "square-open-dot"
         },
         "mode": "markers+lines",
         "name": "Model Replacement Attack",
         "orientation": "v",
         "showlegend": false,
         "type": "scatter",
         "x": [
          10,
          20,
          30,
          40,
          50,
          60,
          70,
          80,
          90
         ],
         "xaxis": "x6",
         "y": [
          0.9879000186920166,
          0.9853000044822693,
          0.9857000112533569,
          0.9858999848365784,
          0.9873999953269958,
          0.987500011920929,
          0.9857000112533569,
          0.9871000051498413,
          0.9855999946594238
         ],
         "yaxis": "y6"
        },
        {
         "hovertemplate": "Attack Type=Model Replacement Attack<br>Dataset=F-MNIST<br>Framework=FedSIGN<br>Ratio of Malicious Clients (%)=%{x}<br>Main Task Accuracy=%{y}<extra></extra>",
         "legendgroup": "Model Replacement Attack",
         "line": {
          "color": "rgb(214, 39, 40)",
          "dash": "solid"
         },
         "marker": {
          "symbol": "square-open-dot"
         },
         "mode": "markers+lines",
         "name": "Model Replacement Attack",
         "orientation": "v",
         "showlegend": false,
         "type": "scatter",
         "x": [
          10,
          20,
          30,
          40,
          50,
          60,
          70,
          80,
          90
         ],
         "xaxis": "x3",
         "y": [
          0.878600001335144,
          0.8715000152587891,
          0.866100013256073,
          0.8701000213623047,
          0.869700014591217,
          0.8707000017166138,
          0.8684999942779541,
          0.8733000159263611,
          0.8651999831199646
         ],
         "yaxis": "y3"
        },
        {
         "hovertemplate": "Attack Type=Model Replacement Attack<br>Dataset=F-MNIST<br>Framework=FedAVG<br>Ratio of Malicious Clients (%)=%{x}<br>Main Task Accuracy=%{y}<extra></extra>",
         "legendgroup": "Model Replacement Attack",
         "line": {
          "color": "rgb(214, 39, 40)",
          "dash": "solid"
         },
         "marker": {
          "symbol": "square-open-dot"
         },
         "mode": "markers+lines",
         "name": "Model Replacement Attack",
         "orientation": "v",
         "showlegend": false,
         "type": "scatter",
         "x": [
          10,
          20,
          30,
          40,
          50,
          60,
          70,
          80,
          90
         ],
         "xaxis": "x4",
         "y": [
          0.866599977016449,
          0.8675000071525574,
          0.8659999966621399,
          0.8632000088691711,
          0.8651999831199646,
          0.8680999875068665,
          0.8560000061988831,
          0.857200026512146,
          0.8550999760627747
         ],
         "yaxis": "y4"
        },
        {
         "hovertemplate": "Attack Type=Model Replacement Attack<br>Dataset=CIFAR10<br>Framework=FedSIGN<br>Ratio of Malicious Clients (%)=%{x}<br>Main Task Accuracy=%{y}<extra></extra>",
         "legendgroup": "Model Replacement Attack",
         "line": {
          "color": "rgb(214, 39, 40)",
          "dash": "solid"
         },
         "marker": {
          "symbol": "square-open-dot"
         },
         "mode": "markers+lines",
         "name": "Model Replacement Attack",
         "orientation": "v",
         "showlegend": false,
         "type": "scatter",
         "x": [
          10,
          20,
          30,
          40,
          50,
          60,
          70,
          80,
          90
         ],
         "xaxis": "x",
         "y": [
          0.7595999836921692,
          0.7376000285148621,
          0.7443000078201294,
          0.7329999804496765,
          0.727400004863739,
          0.7160000205039978,
          0.7163000106811523,
          0.7045999765396118,
          0.6919999718666077
         ],
         "yaxis": "y"
        },
        {
         "hovertemplate": "Attack Type=Model Replacement Attack<br>Dataset=CIFAR10<br>Framework=FedAVG<br>Ratio of Malicious Clients (%)=%{x}<br>Main Task Accuracy=%{y}<extra></extra>",
         "legendgroup": "Model Replacement Attack",
         "line": {
          "color": "rgb(214, 39, 40)",
          "dash": "solid"
         },
         "marker": {
          "symbol": "square-open-dot"
         },
         "mode": "markers+lines",
         "name": "Model Replacement Attack",
         "orientation": "v",
         "showlegend": false,
         "type": "scatter",
         "x": [
          10,
          20,
          30,
          40,
          50,
          60,
          70,
          80,
          90
         ],
         "xaxis": "x2",
         "y": [
          0.7857000231742859,
          0.7796000242233276,
          0.7865999937057495,
          0.7825999855995178,
          0.7847999930381775,
          0.7854999899864197,
          0.7831000089645386,
          0.784600019454956,
          0.7886999845504761
         ],
         "yaxis": "y2"
        }
       ],
       "layout": {
        "annotations": [
         {
          "font": {},
          "showarrow": false,
          "text": "Framework=FedSIGN",
          "x": 0.24,
          "xanchor": "center",
          "xref": "paper",
          "y": 0.9999999999999998,
          "yanchor": "bottom",
          "yref": "paper"
         },
         {
          "font": {},
          "showarrow": false,
          "text": "Framework=FedAVG",
          "x": 0.74,
          "xanchor": "center",
          "xref": "paper",
          "y": 0.9999999999999998,
          "yanchor": "bottom",
          "yref": "paper"
         },
         {
          "font": {},
          "showarrow": false,
          "text": "Dataset=CIFAR10",
          "textangle": 90,
          "x": 0.98,
          "xanchor": "left",
          "xref": "paper",
          "y": 0.15666666666666665,
          "yanchor": "middle",
          "yref": "paper"
         },
         {
          "font": {},
          "showarrow": false,
          "text": "Dataset=F-MNIST",
          "textangle": 90,
          "x": 0.98,
          "xanchor": "left",
          "xref": "paper",
          "y": 0.4999999999999999,
          "yanchor": "middle",
          "yref": "paper"
         },
         {
          "font": {},
          "showarrow": false,
          "text": "Dataset=MNIST",
          "textangle": 90,
          "x": 0.98,
          "xanchor": "left",
          "xref": "paper",
          "y": 0.8433333333333332,
          "yanchor": "middle",
          "yref": "paper"
         }
        ],
        "height": 1000,
        "legend": {
         "orientation": "h",
         "title": {
          "text": "Attack Type"
         },
         "tracegroupgap": 0,
         "y": 1.05
        },
        "margin": {
         "t": 60
        },
        "template": {
         "data": {
          "bar": [
           {
            "error_x": {
             "color": "#2a3f5f"
            },
            "error_y": {
             "color": "#2a3f5f"
            },
            "marker": {
             "line": {
              "color": "#E5ECF6",
              "width": 0.5
             },
             "pattern": {
              "fillmode": "overlay",
              "size": 10,
              "solidity": 0.2
             }
            },
            "type": "bar"
           }
          ],
          "barpolar": [
           {
            "marker": {
             "line": {
              "color": "#E5ECF6",
              "width": 0.5
             },
             "pattern": {
              "fillmode": "overlay",
              "size": 10,
              "solidity": 0.2
             }
            },
            "type": "barpolar"
           }
          ],
          "carpet": [
           {
            "aaxis": {
             "endlinecolor": "#2a3f5f",
             "gridcolor": "white",
             "linecolor": "white",
             "minorgridcolor": "white",
             "startlinecolor": "#2a3f5f"
            },
            "baxis": {
             "endlinecolor": "#2a3f5f",
             "gridcolor": "white",
             "linecolor": "white",
             "minorgridcolor": "white",
             "startlinecolor": "#2a3f5f"
            },
            "type": "carpet"
           }
          ],
          "choropleth": [
           {
            "colorbar": {
             "outlinewidth": 0,
             "ticks": ""
            },
            "type": "choropleth"
           }
          ],
          "contour": [
           {
            "colorbar": {
             "outlinewidth": 0,
             "ticks": ""
            },
            "colorscale": [
             [
              0,
              "#0d0887"
             ],
             [
              0.1111111111111111,
              "#46039f"
             ],
             [
              0.2222222222222222,
              "#7201a8"
             ],
             [
              0.3333333333333333,
              "#9c179e"
             ],
             [
              0.4444444444444444,
              "#bd3786"
             ],
             [
              0.5555555555555556,
              "#d8576b"
             ],
             [
              0.6666666666666666,
              "#ed7953"
             ],
             [
              0.7777777777777778,
              "#fb9f3a"
             ],
             [
              0.8888888888888888,
              "#fdca26"
             ],
             [
              1,
              "#f0f921"
             ]
            ],
            "type": "contour"
           }
          ],
          "contourcarpet": [
           {
            "colorbar": {
             "outlinewidth": 0,
             "ticks": ""
            },
            "type": "contourcarpet"
           }
          ],
          "heatmap": [
           {
            "colorbar": {
             "outlinewidth": 0,
             "ticks": ""
            },
            "colorscale": [
             [
              0,
              "#0d0887"
             ],
             [
              0.1111111111111111,
              "#46039f"
             ],
             [
              0.2222222222222222,
              "#7201a8"
             ],
             [
              0.3333333333333333,
              "#9c179e"
             ],
             [
              0.4444444444444444,
              "#bd3786"
             ],
             [
              0.5555555555555556,
              "#d8576b"
             ],
             [
              0.6666666666666666,
              "#ed7953"
             ],
             [
              0.7777777777777778,
              "#fb9f3a"
             ],
             [
              0.8888888888888888,
              "#fdca26"
             ],
             [
              1,
              "#f0f921"
             ]
            ],
            "type": "heatmap"
           }
          ],
          "heatmapgl": [
           {
            "colorbar": {
             "outlinewidth": 0,
             "ticks": ""
            },
            "colorscale": [
             [
              0,
              "#0d0887"
             ],
             [
              0.1111111111111111,
              "#46039f"
             ],
             [
              0.2222222222222222,
              "#7201a8"
             ],
             [
              0.3333333333333333,
              "#9c179e"
             ],
             [
              0.4444444444444444,
              "#bd3786"
             ],
             [
              0.5555555555555556,
              "#d8576b"
             ],
             [
              0.6666666666666666,
              "#ed7953"
             ],
             [
              0.7777777777777778,
              "#fb9f3a"
             ],
             [
              0.8888888888888888,
              "#fdca26"
             ],
             [
              1,
              "#f0f921"
             ]
            ],
            "type": "heatmapgl"
           }
          ],
          "histogram": [
           {
            "marker": {
             "pattern": {
              "fillmode": "overlay",
              "size": 10,
              "solidity": 0.2
             }
            },
            "type": "histogram"
           }
          ],
          "histogram2d": [
           {
            "colorbar": {
             "outlinewidth": 0,
             "ticks": ""
            },
            "colorscale": [
             [
              0,
              "#0d0887"
             ],
             [
              0.1111111111111111,
              "#46039f"
             ],
             [
              0.2222222222222222,
              "#7201a8"
             ],
             [
              0.3333333333333333,
              "#9c179e"
             ],
             [
              0.4444444444444444,
              "#bd3786"
             ],
             [
              0.5555555555555556,
              "#d8576b"
             ],
             [
              0.6666666666666666,
              "#ed7953"
             ],
             [
              0.7777777777777778,
              "#fb9f3a"
             ],
             [
              0.8888888888888888,
              "#fdca26"
             ],
             [
              1,
              "#f0f921"
             ]
            ],
            "type": "histogram2d"
           }
          ],
          "histogram2dcontour": [
           {
            "colorbar": {
             "outlinewidth": 0,
             "ticks": ""
            },
            "colorscale": [
             [
              0,
              "#0d0887"
             ],
             [
              0.1111111111111111,
              "#46039f"
             ],
             [
              0.2222222222222222,
              "#7201a8"
             ],
             [
              0.3333333333333333,
              "#9c179e"
             ],
             [
              0.4444444444444444,
              "#bd3786"
             ],
             [
              0.5555555555555556,
              "#d8576b"
             ],
             [
              0.6666666666666666,
              "#ed7953"
             ],
             [
              0.7777777777777778,
              "#fb9f3a"
             ],
             [
              0.8888888888888888,
              "#fdca26"
             ],
             [
              1,
              "#f0f921"
             ]
            ],
            "type": "histogram2dcontour"
           }
          ],
          "mesh3d": [
           {
            "colorbar": {
             "outlinewidth": 0,
             "ticks": ""
            },
            "type": "mesh3d"
           }
          ],
          "parcoords": [
           {
            "line": {
             "colorbar": {
              "outlinewidth": 0,
              "ticks": ""
             }
            },
            "type": "parcoords"
           }
          ],
          "pie": [
           {
            "automargin": true,
            "type": "pie"
           }
          ],
          "scatter": [
           {
            "fillpattern": {
             "fillmode": "overlay",
             "size": 10,
             "solidity": 0.2
            },
            "type": "scatter"
           }
          ],
          "scatter3d": [
           {
            "line": {
             "colorbar": {
              "outlinewidth": 0,
              "ticks": ""
             }
            },
            "marker": {
             "colorbar": {
              "outlinewidth": 0,
              "ticks": ""
             }
            },
            "type": "scatter3d"
           }
          ],
          "scattercarpet": [
           {
            "marker": {
             "colorbar": {
              "outlinewidth": 0,
              "ticks": ""
             }
            },
            "type": "scattercarpet"
           }
          ],
          "scattergeo": [
           {
            "marker": {
             "colorbar": {
              "outlinewidth": 0,
              "ticks": ""
             }
            },
            "type": "scattergeo"
           }
          ],
          "scattergl": [
           {
            "marker": {
             "colorbar": {
              "outlinewidth": 0,
              "ticks": ""
             }
            },
            "type": "scattergl"
           }
          ],
          "scattermapbox": [
           {
            "marker": {
             "colorbar": {
              "outlinewidth": 0,
              "ticks": ""
             }
            },
            "type": "scattermapbox"
           }
          ],
          "scatterpolar": [
           {
            "marker": {
             "colorbar": {
              "outlinewidth": 0,
              "ticks": ""
             }
            },
            "type": "scatterpolar"
           }
          ],
          "scatterpolargl": [
           {
            "marker": {
             "colorbar": {
              "outlinewidth": 0,
              "ticks": ""
             }
            },
            "type": "scatterpolargl"
           }
          ],
          "scatterternary": [
           {
            "marker": {
             "colorbar": {
              "outlinewidth": 0,
              "ticks": ""
             }
            },
            "type": "scatterternary"
           }
          ],
          "surface": [
           {
            "colorbar": {
             "outlinewidth": 0,
             "ticks": ""
            },
            "colorscale": [
             [
              0,
              "#0d0887"
             ],
             [
              0.1111111111111111,
              "#46039f"
             ],
             [
              0.2222222222222222,
              "#7201a8"
             ],
             [
              0.3333333333333333,
              "#9c179e"
             ],
             [
              0.4444444444444444,
              "#bd3786"
             ],
             [
              0.5555555555555556,
              "#d8576b"
             ],
             [
              0.6666666666666666,
              "#ed7953"
             ],
             [
              0.7777777777777778,
              "#fb9f3a"
             ],
             [
              0.8888888888888888,
              "#fdca26"
             ],
             [
              1,
              "#f0f921"
             ]
            ],
            "type": "surface"
           }
          ],
          "table": [
           {
            "cells": {
             "fill": {
              "color": "#EBF0F8"
             },
             "line": {
              "color": "white"
             }
            },
            "header": {
             "fill": {
              "color": "#C8D4E3"
             },
             "line": {
              "color": "white"
             }
            },
            "type": "table"
           }
          ]
         },
         "layout": {
          "annotationdefaults": {
           "arrowcolor": "#2a3f5f",
           "arrowhead": 0,
           "arrowwidth": 1
          },
          "autotypenumbers": "strict",
          "coloraxis": {
           "colorbar": {
            "outlinewidth": 0,
            "ticks": ""
           }
          },
          "colorscale": {
           "diverging": [
            [
             0,
             "#8e0152"
            ],
            [
             0.1,
             "#c51b7d"
            ],
            [
             0.2,
             "#de77ae"
            ],
            [
             0.3,
             "#f1b6da"
            ],
            [
             0.4,
             "#fde0ef"
            ],
            [
             0.5,
             "#f7f7f7"
            ],
            [
             0.6,
             "#e6f5d0"
            ],
            [
             0.7,
             "#b8e186"
            ],
            [
             0.8,
             "#7fbc41"
            ],
            [
             0.9,
             "#4d9221"
            ],
            [
             1,
             "#276419"
            ]
           ],
           "sequential": [
            [
             0,
             "#0d0887"
            ],
            [
             0.1111111111111111,
             "#46039f"
            ],
            [
             0.2222222222222222,
             "#7201a8"
            ],
            [
             0.3333333333333333,
             "#9c179e"
            ],
            [
             0.4444444444444444,
             "#bd3786"
            ],
            [
             0.5555555555555556,
             "#d8576b"
            ],
            [
             0.6666666666666666,
             "#ed7953"
            ],
            [
             0.7777777777777778,
             "#fb9f3a"
            ],
            [
             0.8888888888888888,
             "#fdca26"
            ],
            [
             1,
             "#f0f921"
            ]
           ],
           "sequentialminus": [
            [
             0,
             "#0d0887"
            ],
            [
             0.1111111111111111,
             "#46039f"
            ],
            [
             0.2222222222222222,
             "#7201a8"
            ],
            [
             0.3333333333333333,
             "#9c179e"
            ],
            [
             0.4444444444444444,
             "#bd3786"
            ],
            [
             0.5555555555555556,
             "#d8576b"
            ],
            [
             0.6666666666666666,
             "#ed7953"
            ],
            [
             0.7777777777777778,
             "#fb9f3a"
            ],
            [
             0.8888888888888888,
             "#fdca26"
            ],
            [
             1,
             "#f0f921"
            ]
           ]
          },
          "colorway": [
           "#636efa",
           "#EF553B",
           "#00cc96",
           "#ab63fa",
           "#FFA15A",
           "#19d3f3",
           "#FF6692",
           "#B6E880",
           "#FF97FF",
           "#FECB52"
          ],
          "font": {
           "color": "#2a3f5f"
          },
          "geo": {
           "bgcolor": "white",
           "lakecolor": "white",
           "landcolor": "#E5ECF6",
           "showlakes": true,
           "showland": true,
           "subunitcolor": "white"
          },
          "hoverlabel": {
           "align": "left"
          },
          "hovermode": "closest",
          "mapbox": {
           "style": "light"
          },
          "paper_bgcolor": "white",
          "plot_bgcolor": "#E5ECF6",
          "polar": {
           "angularaxis": {
            "gridcolor": "white",
            "linecolor": "white",
            "ticks": ""
           },
           "bgcolor": "#E5ECF6",
           "radialaxis": {
            "gridcolor": "white",
            "linecolor": "white",
            "ticks": ""
           }
          },
          "scene": {
           "xaxis": {
            "backgroundcolor": "#E5ECF6",
            "gridcolor": "white",
            "gridwidth": 2,
            "linecolor": "white",
            "showbackground": true,
            "ticks": "",
            "zerolinecolor": "white"
           },
           "yaxis": {
            "backgroundcolor": "#E5ECF6",
            "gridcolor": "white",
            "gridwidth": 2,
            "linecolor": "white",
            "showbackground": true,
            "ticks": "",
            "zerolinecolor": "white"
           },
           "zaxis": {
            "backgroundcolor": "#E5ECF6",
            "gridcolor": "white",
            "gridwidth": 2,
            "linecolor": "white",
            "showbackground": true,
            "ticks": "",
            "zerolinecolor": "white"
           }
          },
          "shapedefaults": {
           "line": {
            "color": "#2a3f5f"
           }
          },
          "ternary": {
           "aaxis": {
            "gridcolor": "white",
            "linecolor": "white",
            "ticks": ""
           },
           "baxis": {
            "gridcolor": "white",
            "linecolor": "white",
            "ticks": ""
           },
           "bgcolor": "#E5ECF6",
           "caxis": {
            "gridcolor": "white",
            "linecolor": "white",
            "ticks": ""
           }
          },
          "title": {
           "x": 0.05
          },
          "xaxis": {
           "automargin": true,
           "gridcolor": "white",
           "linecolor": "white",
           "ticks": "",
           "title": {
            "standoff": 15
           },
           "zerolinecolor": "white",
           "zerolinewidth": 2
          },
          "yaxis": {
           "automargin": true,
           "gridcolor": "white",
           "linecolor": "white",
           "ticks": "",
           "title": {
            "standoff": 15
           },
           "zerolinecolor": "white",
           "zerolinewidth": 2
          }
         }
        },
        "width": 1000,
        "xaxis": {
         "anchor": "y",
         "domain": [
          0,
          0.48
         ],
         "tickvals": [
          0,
          10,
          20,
          30,
          40,
          50,
          60,
          70,
          80,
          90
         ],
         "title": {
          "text": "Ratio of Malicious Clients (%)"
         }
        },
        "xaxis2": {
         "anchor": "y2",
         "domain": [
          0.5,
          0.98
         ],
         "matches": "x",
         "tickvals": [
          0,
          10,
          20,
          30,
          40,
          50,
          60,
          70,
          80,
          90
         ],
         "title": {
          "text": "Ratio of Malicious Clients (%)"
         }
        },
        "xaxis3": {
         "anchor": "y3",
         "domain": [
          0,
          0.48
         ],
         "matches": "x",
         "showticklabels": false,
         "tickvals": [
          0,
          10,
          20,
          30,
          40,
          50,
          60,
          70,
          80,
          90
         ]
        },
        "xaxis4": {
         "anchor": "y4",
         "domain": [
          0.5,
          0.98
         ],
         "matches": "x",
         "showticklabels": false,
         "tickvals": [
          0,
          10,
          20,
          30,
          40,
          50,
          60,
          70,
          80,
          90
         ]
        },
        "xaxis5": {
         "anchor": "y5",
         "domain": [
          0,
          0.48
         ],
         "matches": "x",
         "showticklabels": false,
         "tickvals": [
          0,
          10,
          20,
          30,
          40,
          50,
          60,
          70,
          80,
          90
         ]
        },
        "xaxis6": {
         "anchor": "y6",
         "domain": [
          0.5,
          0.98
         ],
         "matches": "x",
         "showticklabels": false,
         "tickvals": [
          0,
          10,
          20,
          30,
          40,
          50,
          60,
          70,
          80,
          90
         ]
        },
        "yaxis": {
         "anchor": "x",
         "domain": [
          0,
          0.3133333333333333
         ],
         "title": {
          "text": "Main Task Accuracy"
         }
        },
        "yaxis2": {
         "anchor": "x2",
         "domain": [
          0,
          0.3133333333333333
         ],
         "matches": "y",
         "showticklabels": false
        },
        "yaxis3": {
         "anchor": "x3",
         "domain": [
          0.34333333333333327,
          0.6566666666666665
         ],
         "matches": "y",
         "title": {
          "text": "Main Task Accuracy"
         }
        },
        "yaxis4": {
         "anchor": "x4",
         "domain": [
          0.34333333333333327,
          0.6566666666666665
         ],
         "matches": "y",
         "showticklabels": false
        },
        "yaxis5": {
         "anchor": "x5",
         "domain": [
          0.6866666666666665,
          0.9999999999999998
         ],
         "matches": "y",
         "title": {
          "text": "Main Task Accuracy"
         }
        },
        "yaxis6": {
         "anchor": "x6",
         "domain": [
          0.6866666666666665,
          0.9999999999999998
         ],
         "matches": "y",
         "showticklabels": false
        }
       }
      },
      "text/html": [
       "<div>                            <div id=\"308cefe4-90d5-41cd-bfb7-19ef2dd37944\" class=\"plotly-graph-div\" style=\"height:1000px; width:1000px;\"></div>            <script type=\"text/javascript\">                require([\"plotly\"], function(Plotly) {                    window.PLOTLYENV=window.PLOTLYENV || {};                                    if (document.getElementById(\"308cefe4-90d5-41cd-bfb7-19ef2dd37944\")) {                    Plotly.newPlot(                        \"308cefe4-90d5-41cd-bfb7-19ef2dd37944\",                        [{\"hovertemplate\":\"Attack Type=Gaussian Noise Attack<br>Dataset=MNIST<br>Framework=FedSIGN<br>Ratio of Malicious Clients (%)=%{x}<br>Main Task Accuracy=%{y}<extra></extra>\",\"legendgroup\":\"Gaussian Noise Attack\",\"line\":{\"color\":\"rgb(31, 119, 180)\",\"dash\":\"solid\"},\"marker\":{\"symbol\":\"x-open-dot\"},\"mode\":\"markers+lines\",\"name\":\"Gaussian Noise Attack\",\"orientation\":\"v\",\"showlegend\":true,\"x\":[10,20,30,40,50,60,70,80,90],\"xaxis\":\"x5\",\"y\":[0.9900000095367432,0.9889000058174133,0.9890999794006348,0.9879999756813049,0.9884999990463257,0.986299991607666,0.9858999848365784,0.9846000075340271,0.9771000146865845],\"yaxis\":\"y5\",\"type\":\"scatter\"},{\"hovertemplate\":\"Attack Type=Gaussian Noise Attack<br>Dataset=MNIST<br>Framework=FedAVG<br>Ratio of Malicious Clients (%)=%{x}<br>Main Task Accuracy=%{y}<extra></extra>\",\"legendgroup\":\"Gaussian Noise Attack\",\"line\":{\"color\":\"rgb(31, 119, 180)\",\"dash\":\"solid\"},\"marker\":{\"symbol\":\"x-open-dot\"},\"mode\":\"markers+lines\",\"name\":\"Gaussian Noise Attack\",\"orientation\":\"v\",\"showlegend\":false,\"x\":[10,20,30,40,50,60,70,80,90],\"xaxis\":\"x6\",\"y\":[0.9598000049591064,0.9438999891281128,0.8992000222206116,0.11349999904632568,0.11349999904632568,0.11349999904632568,0.11349999904632568,0.11349999904632568,0.11349999904632568],\"yaxis\":\"y6\",\"type\":\"scatter\"},{\"hovertemplate\":\"Attack Type=Gaussian Noise Attack<br>Dataset=F-MNIST<br>Framework=FedSIGN<br>Ratio of Malicious Clients (%)=%{x}<br>Main Task Accuracy=%{y}<extra></extra>\",\"legendgroup\":\"Gaussian Noise Attack\",\"line\":{\"color\":\"rgb(31, 119, 180)\",\"dash\":\"solid\"},\"marker\":{\"symbol\":\"x-open-dot\"},\"mode\":\"markers+lines\",\"name\":\"Gaussian Noise Attack\",\"orientation\":\"v\",\"showlegend\":false,\"x\":[10,20,30,40,50,60,70,80,90],\"xaxis\":\"x3\",\"y\":[0.8842999935150146,0.8704000115394592,0.868399977684021,0.8683000206947327,0.8719000220298767,0.8761000037193298,0.8680999875068665,0.8629000186920166,0.8360999822616577],\"yaxis\":\"y3\",\"type\":\"scatter\"},{\"hovertemplate\":\"Attack Type=Gaussian Noise Attack<br>Dataset=F-MNIST<br>Framework=FedAVG<br>Ratio of Malicious Clients (%)=%{x}<br>Main Task Accuracy=%{y}<extra></extra>\",\"legendgroup\":\"Gaussian Noise Attack\",\"line\":{\"color\":\"rgb(31, 119, 180)\",\"dash\":\"solid\"},\"marker\":{\"symbol\":\"x-open-dot\"},\"mode\":\"markers+lines\",\"name\":\"Gaussian Noise Attack\",\"orientation\":\"v\",\"showlegend\":false,\"x\":[10,20,30,40,50,60,70,80,90],\"xaxis\":\"x4\",\"y\":[0.7093999981880188,0.6862999796867371,0.6585999727249146,0.10000000149011612,0.10000000149011612,0.10000000149011612,0.10000000149011612,0.10000000149011612,0.10000000149011612],\"yaxis\":\"y4\",\"type\":\"scatter\"},{\"hovertemplate\":\"Attack Type=Gaussian Noise Attack<br>Dataset=CIFAR10<br>Framework=FedSIGN<br>Ratio of Malicious Clients (%)=%{x}<br>Main Task Accuracy=%{y}<extra></extra>\",\"legendgroup\":\"Gaussian Noise Attack\",\"line\":{\"color\":\"rgb(31, 119, 180)\",\"dash\":\"solid\"},\"marker\":{\"symbol\":\"x-open-dot\"},\"mode\":\"markers+lines\",\"name\":\"Gaussian Noise Attack\",\"orientation\":\"v\",\"showlegend\":false,\"x\":[10,20,30,40,50,60,70,80,90],\"xaxis\":\"x\",\"y\":[0.7465999722480774,0.7451000213623047,0.7297000288963318,0.717199981212616,0.703499972820282,0.6852999925613403,0.6599000096321106,0.6205000281333923,0.5468000173568726],\"yaxis\":\"y\",\"type\":\"scatter\"},{\"hovertemplate\":\"Attack Type=Gaussian Noise Attack<br>Dataset=CIFAR10<br>Framework=FedAVG<br>Ratio of Malicious Clients (%)=%{x}<br>Main Task Accuracy=%{y}<extra></extra>\",\"legendgroup\":\"Gaussian Noise Attack\",\"line\":{\"color\":\"rgb(31, 119, 180)\",\"dash\":\"solid\"},\"marker\":{\"symbol\":\"x-open-dot\"},\"mode\":\"markers+lines\",\"name\":\"Gaussian Noise Attack\",\"orientation\":\"v\",\"showlegend\":false,\"x\":[10,20,30,40,50,60,70,80,90],\"xaxis\":\"x2\",\"y\":[0.6348000168800354,0.35569998621940613,0.22310000658035278,0.18369999527931213,0.18140000104904175,0.10000000149011612,0.10000000149011612,0.10000000149011612,0.10000000149011612],\"yaxis\":\"y2\",\"type\":\"scatter\"},{\"hovertemplate\":\"Attack Type=Label Flip Attack<br>Dataset=MNIST<br>Framework=FedSIGN<br>Ratio of Malicious Clients (%)=%{x}<br>Main Task Accuracy=%{y}<extra></extra>\",\"legendgroup\":\"Label Flip Attack\",\"line\":{\"color\":\"rgb(255, 127, 14)\",\"dash\":\"solid\"},\"marker\":{\"symbol\":\"cross-open-dot\"},\"mode\":\"markers+lines\",\"name\":\"Label Flip Attack\",\"orientation\":\"v\",\"showlegend\":true,\"x\":[10,20,30,40,50,60,70,80,90],\"xaxis\":\"x5\",\"y\":[0.9902999997138977,0.9898999929428101,0.9884999990463257,0.9865000247955322,0.9887999892234802,0.9846000075340271,0.9854000210762024,0.9833999872207642,0.973800003528595],\"yaxis\":\"y5\",\"type\":\"scatter\"},{\"hovertemplate\":\"Attack Type=Label Flip Attack<br>Dataset=MNIST<br>Framework=FedAVG<br>Ratio of Malicious Clients (%)=%{x}<br>Main Task Accuracy=%{y}<extra></extra>\",\"legendgroup\":\"Label Flip Attack\",\"line\":{\"color\":\"rgb(255, 127, 14)\",\"dash\":\"solid\"},\"marker\":{\"symbol\":\"cross-open-dot\"},\"mode\":\"markers+lines\",\"name\":\"Label Flip Attack\",\"orientation\":\"v\",\"showlegend\":false,\"x\":[10,20,30,40,50,60,70,80,90],\"xaxis\":\"x6\",\"y\":[0.983299970626831,0.9825000166893005,0.9812999963760376,0.9818999767303467,0.9799000024795532,0.9593999981880188,0.29490000009536743,0.0414000004529953,0.004600000102072954],\"yaxis\":\"y6\",\"type\":\"scatter\"},{\"hovertemplate\":\"Attack Type=Label Flip Attack<br>Dataset=F-MNIST<br>Framework=FedSIGN<br>Ratio of Malicious Clients (%)=%{x}<br>Main Task Accuracy=%{y}<extra></extra>\",\"legendgroup\":\"Label Flip Attack\",\"line\":{\"color\":\"rgb(255, 127, 14)\",\"dash\":\"solid\"},\"marker\":{\"symbol\":\"cross-open-dot\"},\"mode\":\"markers+lines\",\"name\":\"Label Flip Attack\",\"orientation\":\"v\",\"showlegend\":false,\"x\":[10,20,30,40,50,60,70,80,90],\"xaxis\":\"x3\",\"y\":[0.8752999901771545,0.8755999803543091,0.8711000084877014,0.8745999932289124,0.8766000270843506,0.8586999773979187,0.8592000007629395,0.850600004196167,0.8324999809265137],\"yaxis\":\"y3\",\"type\":\"scatter\"},{\"hovertemplate\":\"Attack Type=Label Flip Attack<br>Dataset=F-MNIST<br>Framework=FedAVG<br>Ratio of Malicious Clients (%)=%{x}<br>Main Task Accuracy=%{y}<extra></extra>\",\"legendgroup\":\"Label Flip Attack\",\"line\":{\"color\":\"rgb(255, 127, 14)\",\"dash\":\"solid\"},\"marker\":{\"symbol\":\"cross-open-dot\"},\"mode\":\"markers+lines\",\"name\":\"Label Flip Attack\",\"orientation\":\"v\",\"showlegend\":false,\"x\":[10,20,30,40,50,60,70,80,90],\"xaxis\":\"x4\",\"y\":[0.8513000011444092,0.8464000225067139,0.840499997138977,0.8173999786376953,0.8187999725341797,0.7305999994277954,0.2928999960422516,0.02239999920129776,0.011500000022351742],\"yaxis\":\"y4\",\"type\":\"scatter\"},{\"hovertemplate\":\"Attack Type=Label Flip Attack<br>Dataset=CIFAR10<br>Framework=FedSIGN<br>Ratio of Malicious Clients (%)=%{x}<br>Main Task Accuracy=%{y}<extra></extra>\",\"legendgroup\":\"Label Flip Attack\",\"line\":{\"color\":\"rgb(255, 127, 14)\",\"dash\":\"solid\"},\"marker\":{\"symbol\":\"cross-open-dot\"},\"mode\":\"markers+lines\",\"name\":\"Label Flip Attack\",\"orientation\":\"v\",\"showlegend\":false,\"x\":[10,20,30,40,50,60,70,80,90],\"xaxis\":\"x\",\"y\":[0.7560999989509583,0.7419000267982483,0.7321000099182129,0.7264999747276306,0.7071999907493591,0.6887000203132629,0.6553000211715698,0.620199978351593,0.5516999959945679],\"yaxis\":\"y\",\"type\":\"scatter\"},{\"hovertemplate\":\"Attack Type=Label Flip Attack<br>Dataset=CIFAR10<br>Framework=FedAVG<br>Ratio of Malicious Clients (%)=%{x}<br>Main Task Accuracy=%{y}<extra></extra>\",\"legendgroup\":\"Label Flip Attack\",\"line\":{\"color\":\"rgb(255, 127, 14)\",\"dash\":\"solid\"},\"marker\":{\"symbol\":\"cross-open-dot\"},\"mode\":\"markers+lines\",\"name\":\"Label Flip Attack\",\"orientation\":\"v\",\"showlegend\":false,\"x\":[10,20,30,40,50,60,70,80,90],\"xaxis\":\"x2\",\"y\":[0.7580000162124634,0.7508999705314636,0.7160999774932861,0.7159000039100647,0.6650000214576721,0.5803999900817871,0.4397999942302704,0.28139999508857727,0.13230000436306],\"yaxis\":\"y2\",\"type\":\"scatter\"},{\"hovertemplate\":\"Attack Type=Pixel Backdoor Attack<br>Dataset=MNIST<br>Framework=FedSIGN<br>Ratio of Malicious Clients (%)=%{x}<br>Main Task Accuracy=%{y}<extra></extra>\",\"legendgroup\":\"Pixel Backdoor Attack\",\"line\":{\"color\":\"rgb(44, 160, 44)\",\"dash\":\"solid\"},\"marker\":{\"symbol\":\"diamond-open-dot\"},\"mode\":\"markers+lines\",\"name\":\"Pixel Backdoor Attack\",\"orientation\":\"v\",\"showlegend\":true,\"x\":[10,20,30,40,50,60,70,80,90],\"xaxis\":\"x5\",\"y\":[0.9909999966621399,0.9900000095367432,0.9886999726295471,0.9904000163078308,0.9883000254631042,0.9869999885559082,0.984499990940094,0.9811000227928162,0.9746000170707703],\"yaxis\":\"y5\",\"type\":\"scatter\"},{\"hovertemplate\":\"Attack Type=Pixel Backdoor Attack<br>Dataset=MNIST<br>Framework=FedAVG<br>Ratio of Malicious Clients (%)=%{x}<br>Main Task Accuracy=%{y}<extra></extra>\",\"legendgroup\":\"Pixel Backdoor Attack\",\"line\":{\"color\":\"rgb(44, 160, 44)\",\"dash\":\"solid\"},\"marker\":{\"symbol\":\"diamond-open-dot\"},\"mode\":\"markers+lines\",\"name\":\"Pixel Backdoor Attack\",\"orientation\":\"v\",\"showlegend\":false,\"x\":[10,20,30,40,50,60,70,80,90],\"xaxis\":\"x6\",\"y\":[0.9865000247955322,0.9842000007629395,0.9825000166893005,0.9789999723434448,0.9796000123023987,0.9731000065803528,0.9678999781608582,0.9641000032424927,0.9047999978065491],\"yaxis\":\"y6\",\"type\":\"scatter\"},{\"hovertemplate\":\"Attack Type=Pixel Backdoor Attack<br>Dataset=F-MNIST<br>Framework=FedSIGN<br>Ratio of Malicious Clients (%)=%{x}<br>Main Task Accuracy=%{y}<extra></extra>\",\"legendgroup\":\"Pixel Backdoor Attack\",\"line\":{\"color\":\"rgb(44, 160, 44)\",\"dash\":\"solid\"},\"marker\":{\"symbol\":\"diamond-open-dot\"},\"mode\":\"markers+lines\",\"name\":\"Pixel Backdoor Attack\",\"orientation\":\"v\",\"showlegend\":false,\"x\":[10,20,30,40,50,60,70,80,90],\"xaxis\":\"x3\",\"y\":[0.8747000098228455,0.8722000122070312,0.8694999814033508,0.8791999816894531,0.8693000078201294,0.8694000244140625,0.8633000254631042,0.854200005531311,0.8144000172615051],\"yaxis\":\"y3\",\"type\":\"scatter\"},{\"hovertemplate\":\"Attack Type=Pixel Backdoor Attack<br>Dataset=F-MNIST<br>Framework=FedAVG<br>Ratio of Malicious Clients (%)=%{x}<br>Main Task Accuracy=%{y}<extra></extra>\",\"legendgroup\":\"Pixel Backdoor Attack\",\"line\":{\"color\":\"rgb(44, 160, 44)\",\"dash\":\"solid\"},\"marker\":{\"symbol\":\"diamond-open-dot\"},\"mode\":\"markers+lines\",\"name\":\"Pixel Backdoor Attack\",\"orientation\":\"v\",\"showlegend\":false,\"x\":[10,20,30,40,50,60,70,80,90],\"xaxis\":\"x4\",\"y\":[0.8672000169754028,0.8428999781608582,0.8339999914169312,0.8393999934196472,0.8342000246047974,0.8274999856948853,0.7930999994277954,0.781499981880188,0.583899974822998],\"yaxis\":\"y4\",\"type\":\"scatter\"},{\"hovertemplate\":\"Attack Type=Pixel Backdoor Attack<br>Dataset=CIFAR10<br>Framework=FedSIGN<br>Ratio of Malicious Clients (%)=%{x}<br>Main Task Accuracy=%{y}<extra></extra>\",\"legendgroup\":\"Pixel Backdoor Attack\",\"line\":{\"color\":\"rgb(44, 160, 44)\",\"dash\":\"solid\"},\"marker\":{\"symbol\":\"diamond-open-dot\"},\"mode\":\"markers+lines\",\"name\":\"Pixel Backdoor Attack\",\"orientation\":\"v\",\"showlegend\":false,\"x\":[10,20,30,40,50,60,70,80,90],\"xaxis\":\"x\",\"y\":[0.753600001335144,0.7432000041007996,0.734000027179718,0.7210999727249146,0.7071999907493591,0.6883000135421753,0.6607000231742859,0.6191999912261963,0.5507000088691711],\"yaxis\":\"y\",\"type\":\"scatter\"},{\"hovertemplate\":\"Attack Type=Pixel Backdoor Attack<br>Dataset=CIFAR10<br>Framework=FedAVG<br>Ratio of Malicious Clients (%)=%{x}<br>Main Task Accuracy=%{y}<extra></extra>\",\"legendgroup\":\"Pixel Backdoor Attack\",\"line\":{\"color\":\"rgb(44, 160, 44)\",\"dash\":\"solid\"},\"marker\":{\"symbol\":\"diamond-open-dot\"},\"mode\":\"markers+lines\",\"name\":\"Pixel Backdoor Attack\",\"orientation\":\"v\",\"showlegend\":false,\"x\":[10,20,30,40,50,60,70,80,90],\"xaxis\":\"x2\",\"y\":[0.7785999774932861,0.7741000056266785,0.7581999897956848,0.7480999827384949,0.7337999939918518,0.7172999978065491,0.66839998960495,0.607699990272522,0.5175999999046326],\"yaxis\":\"y2\",\"type\":\"scatter\"},{\"hovertemplate\":\"Attack Type=Model Replacement Attack<br>Dataset=MNIST<br>Framework=FedSIGN<br>Ratio of Malicious Clients (%)=%{x}<br>Main Task Accuracy=%{y}<extra></extra>\",\"legendgroup\":\"Model Replacement Attack\",\"line\":{\"color\":\"rgb(214, 39, 40)\",\"dash\":\"solid\"},\"marker\":{\"symbol\":\"square-open-dot\"},\"mode\":\"markers+lines\",\"name\":\"Model Replacement Attack\",\"orientation\":\"v\",\"showlegend\":true,\"x\":[10,20,30,40,50,60,70,80,90],\"xaxis\":\"x5\",\"y\":[0.9908000230789185,0.989300012588501,0.9896000027656555,0.9879000186920166,0.9890999794006348,0.989799976348877,0.9889000058174133,0.9869999885559082,0.9879000186920166],\"yaxis\":\"y5\",\"type\":\"scatter\"},{\"hovertemplate\":\"Attack Type=Model Replacement Attack<br>Dataset=MNIST<br>Framework=FedAVG<br>Ratio of Malicious Clients (%)=%{x}<br>Main Task Accuracy=%{y}<extra></extra>\",\"legendgroup\":\"Model Replacement Attack\",\"line\":{\"color\":\"rgb(214, 39, 40)\",\"dash\":\"solid\"},\"marker\":{\"symbol\":\"square-open-dot\"},\"mode\":\"markers+lines\",\"name\":\"Model Replacement Attack\",\"orientation\":\"v\",\"showlegend\":false,\"x\":[10,20,30,40,50,60,70,80,90],\"xaxis\":\"x6\",\"y\":[0.9879000186920166,0.9853000044822693,0.9857000112533569,0.9858999848365784,0.9873999953269958,0.987500011920929,0.9857000112533569,0.9871000051498413,0.9855999946594238],\"yaxis\":\"y6\",\"type\":\"scatter\"},{\"hovertemplate\":\"Attack Type=Model Replacement Attack<br>Dataset=F-MNIST<br>Framework=FedSIGN<br>Ratio of Malicious Clients (%)=%{x}<br>Main Task Accuracy=%{y}<extra></extra>\",\"legendgroup\":\"Model Replacement Attack\",\"line\":{\"color\":\"rgb(214, 39, 40)\",\"dash\":\"solid\"},\"marker\":{\"symbol\":\"square-open-dot\"},\"mode\":\"markers+lines\",\"name\":\"Model Replacement Attack\",\"orientation\":\"v\",\"showlegend\":false,\"x\":[10,20,30,40,50,60,70,80,90],\"xaxis\":\"x3\",\"y\":[0.878600001335144,0.8715000152587891,0.866100013256073,0.8701000213623047,0.869700014591217,0.8707000017166138,0.8684999942779541,0.8733000159263611,0.8651999831199646],\"yaxis\":\"y3\",\"type\":\"scatter\"},{\"hovertemplate\":\"Attack Type=Model Replacement Attack<br>Dataset=F-MNIST<br>Framework=FedAVG<br>Ratio of Malicious Clients (%)=%{x}<br>Main Task Accuracy=%{y}<extra></extra>\",\"legendgroup\":\"Model Replacement Attack\",\"line\":{\"color\":\"rgb(214, 39, 40)\",\"dash\":\"solid\"},\"marker\":{\"symbol\":\"square-open-dot\"},\"mode\":\"markers+lines\",\"name\":\"Model Replacement Attack\",\"orientation\":\"v\",\"showlegend\":false,\"x\":[10,20,30,40,50,60,70,80,90],\"xaxis\":\"x4\",\"y\":[0.866599977016449,0.8675000071525574,0.8659999966621399,0.8632000088691711,0.8651999831199646,0.8680999875068665,0.8560000061988831,0.857200026512146,0.8550999760627747],\"yaxis\":\"y4\",\"type\":\"scatter\"},{\"hovertemplate\":\"Attack Type=Model Replacement Attack<br>Dataset=CIFAR10<br>Framework=FedSIGN<br>Ratio of Malicious Clients (%)=%{x}<br>Main Task Accuracy=%{y}<extra></extra>\",\"legendgroup\":\"Model Replacement Attack\",\"line\":{\"color\":\"rgb(214, 39, 40)\",\"dash\":\"solid\"},\"marker\":{\"symbol\":\"square-open-dot\"},\"mode\":\"markers+lines\",\"name\":\"Model Replacement Attack\",\"orientation\":\"v\",\"showlegend\":false,\"x\":[10,20,30,40,50,60,70,80,90],\"xaxis\":\"x\",\"y\":[0.7595999836921692,0.7376000285148621,0.7443000078201294,0.7329999804496765,0.727400004863739,0.7160000205039978,0.7163000106811523,0.7045999765396118,0.6919999718666077],\"yaxis\":\"y\",\"type\":\"scatter\"},{\"hovertemplate\":\"Attack Type=Model Replacement Attack<br>Dataset=CIFAR10<br>Framework=FedAVG<br>Ratio of Malicious Clients (%)=%{x}<br>Main Task Accuracy=%{y}<extra></extra>\",\"legendgroup\":\"Model Replacement Attack\",\"line\":{\"color\":\"rgb(214, 39, 40)\",\"dash\":\"solid\"},\"marker\":{\"symbol\":\"square-open-dot\"},\"mode\":\"markers+lines\",\"name\":\"Model Replacement Attack\",\"orientation\":\"v\",\"showlegend\":false,\"x\":[10,20,30,40,50,60,70,80,90],\"xaxis\":\"x2\",\"y\":[0.7857000231742859,0.7796000242233276,0.7865999937057495,0.7825999855995178,0.7847999930381775,0.7854999899864197,0.7831000089645386,0.784600019454956,0.7886999845504761],\"yaxis\":\"y2\",\"type\":\"scatter\"}],                        {\"template\":{\"data\":{\"histogram2dcontour\":[{\"type\":\"histogram2dcontour\",\"colorbar\":{\"outlinewidth\":0,\"ticks\":\"\"},\"colorscale\":[[0.0,\"#0d0887\"],[0.1111111111111111,\"#46039f\"],[0.2222222222222222,\"#7201a8\"],[0.3333333333333333,\"#9c179e\"],[0.4444444444444444,\"#bd3786\"],[0.5555555555555556,\"#d8576b\"],[0.6666666666666666,\"#ed7953\"],[0.7777777777777778,\"#fb9f3a\"],[0.8888888888888888,\"#fdca26\"],[1.0,\"#f0f921\"]]}],\"choropleth\":[{\"type\":\"choropleth\",\"colorbar\":{\"outlinewidth\":0,\"ticks\":\"\"}}],\"histogram2d\":[{\"type\":\"histogram2d\",\"colorbar\":{\"outlinewidth\":0,\"ticks\":\"\"},\"colorscale\":[[0.0,\"#0d0887\"],[0.1111111111111111,\"#46039f\"],[0.2222222222222222,\"#7201a8\"],[0.3333333333333333,\"#9c179e\"],[0.4444444444444444,\"#bd3786\"],[0.5555555555555556,\"#d8576b\"],[0.6666666666666666,\"#ed7953\"],[0.7777777777777778,\"#fb9f3a\"],[0.8888888888888888,\"#fdca26\"],[1.0,\"#f0f921\"]]}],\"heatmap\":[{\"type\":\"heatmap\",\"colorbar\":{\"outlinewidth\":0,\"ticks\":\"\"},\"colorscale\":[[0.0,\"#0d0887\"],[0.1111111111111111,\"#46039f\"],[0.2222222222222222,\"#7201a8\"],[0.3333333333333333,\"#9c179e\"],[0.4444444444444444,\"#bd3786\"],[0.5555555555555556,\"#d8576b\"],[0.6666666666666666,\"#ed7953\"],[0.7777777777777778,\"#fb9f3a\"],[0.8888888888888888,\"#fdca26\"],[1.0,\"#f0f921\"]]}],\"heatmapgl\":[{\"type\":\"heatmapgl\",\"colorbar\":{\"outlinewidth\":0,\"ticks\":\"\"},\"colorscale\":[[0.0,\"#0d0887\"],[0.1111111111111111,\"#46039f\"],[0.2222222222222222,\"#7201a8\"],[0.3333333333333333,\"#9c179e\"],[0.4444444444444444,\"#bd3786\"],[0.5555555555555556,\"#d8576b\"],[0.6666666666666666,\"#ed7953\"],[0.7777777777777778,\"#fb9f3a\"],[0.8888888888888888,\"#fdca26\"],[1.0,\"#f0f921\"]]}],\"contourcarpet\":[{\"type\":\"contourcarpet\",\"colorbar\":{\"outlinewidth\":0,\"ticks\":\"\"}}],\"contour\":[{\"type\":\"contour\",\"colorbar\":{\"outlinewidth\":0,\"ticks\":\"\"},\"colorscale\":[[0.0,\"#0d0887\"],[0.1111111111111111,\"#46039f\"],[0.2222222222222222,\"#7201a8\"],[0.3333333333333333,\"#9c179e\"],[0.4444444444444444,\"#bd3786\"],[0.5555555555555556,\"#d8576b\"],[0.6666666666666666,\"#ed7953\"],[0.7777777777777778,\"#fb9f3a\"],[0.8888888888888888,\"#fdca26\"],[1.0,\"#f0f921\"]]}],\"surface\":[{\"type\":\"surface\",\"colorbar\":{\"outlinewidth\":0,\"ticks\":\"\"},\"colorscale\":[[0.0,\"#0d0887\"],[0.1111111111111111,\"#46039f\"],[0.2222222222222222,\"#7201a8\"],[0.3333333333333333,\"#9c179e\"],[0.4444444444444444,\"#bd3786\"],[0.5555555555555556,\"#d8576b\"],[0.6666666666666666,\"#ed7953\"],[0.7777777777777778,\"#fb9f3a\"],[0.8888888888888888,\"#fdca26\"],[1.0,\"#f0f921\"]]}],\"mesh3d\":[{\"type\":\"mesh3d\",\"colorbar\":{\"outlinewidth\":0,\"ticks\":\"\"}}],\"scatter\":[{\"fillpattern\":{\"fillmode\":\"overlay\",\"size\":10,\"solidity\":0.2},\"type\":\"scatter\"}],\"parcoords\":[{\"type\":\"parcoords\",\"line\":{\"colorbar\":{\"outlinewidth\":0,\"ticks\":\"\"}}}],\"scatterpolargl\":[{\"type\":\"scatterpolargl\",\"marker\":{\"colorbar\":{\"outlinewidth\":0,\"ticks\":\"\"}}}],\"bar\":[{\"error_x\":{\"color\":\"#2a3f5f\"},\"error_y\":{\"color\":\"#2a3f5f\"},\"marker\":{\"line\":{\"color\":\"#E5ECF6\",\"width\":0.5},\"pattern\":{\"fillmode\":\"overlay\",\"size\":10,\"solidity\":0.2}},\"type\":\"bar\"}],\"scattergeo\":[{\"type\":\"scattergeo\",\"marker\":{\"colorbar\":{\"outlinewidth\":0,\"ticks\":\"\"}}}],\"scatterpolar\":[{\"type\":\"scatterpolar\",\"marker\":{\"colorbar\":{\"outlinewidth\":0,\"ticks\":\"\"}}}],\"histogram\":[{\"marker\":{\"pattern\":{\"fillmode\":\"overlay\",\"size\":10,\"solidity\":0.2}},\"type\":\"histogram\"}],\"scattergl\":[{\"type\":\"scattergl\",\"marker\":{\"colorbar\":{\"outlinewidth\":0,\"ticks\":\"\"}}}],\"scatter3d\":[{\"type\":\"scatter3d\",\"line\":{\"colorbar\":{\"outlinewidth\":0,\"ticks\":\"\"}},\"marker\":{\"colorbar\":{\"outlinewidth\":0,\"ticks\":\"\"}}}],\"scattermapbox\":[{\"type\":\"scattermapbox\",\"marker\":{\"colorbar\":{\"outlinewidth\":0,\"ticks\":\"\"}}}],\"scatterternary\":[{\"type\":\"scatterternary\",\"marker\":{\"colorbar\":{\"outlinewidth\":0,\"ticks\":\"\"}}}],\"scattercarpet\":[{\"type\":\"scattercarpet\",\"marker\":{\"colorbar\":{\"outlinewidth\":0,\"ticks\":\"\"}}}],\"carpet\":[{\"aaxis\":{\"endlinecolor\":\"#2a3f5f\",\"gridcolor\":\"white\",\"linecolor\":\"white\",\"minorgridcolor\":\"white\",\"startlinecolor\":\"#2a3f5f\"},\"baxis\":{\"endlinecolor\":\"#2a3f5f\",\"gridcolor\":\"white\",\"linecolor\":\"white\",\"minorgridcolor\":\"white\",\"startlinecolor\":\"#2a3f5f\"},\"type\":\"carpet\"}],\"table\":[{\"cells\":{\"fill\":{\"color\":\"#EBF0F8\"},\"line\":{\"color\":\"white\"}},\"header\":{\"fill\":{\"color\":\"#C8D4E3\"},\"line\":{\"color\":\"white\"}},\"type\":\"table\"}],\"barpolar\":[{\"marker\":{\"line\":{\"color\":\"#E5ECF6\",\"width\":0.5},\"pattern\":{\"fillmode\":\"overlay\",\"size\":10,\"solidity\":0.2}},\"type\":\"barpolar\"}],\"pie\":[{\"automargin\":true,\"type\":\"pie\"}]},\"layout\":{\"autotypenumbers\":\"strict\",\"colorway\":[\"#636efa\",\"#EF553B\",\"#00cc96\",\"#ab63fa\",\"#FFA15A\",\"#19d3f3\",\"#FF6692\",\"#B6E880\",\"#FF97FF\",\"#FECB52\"],\"font\":{\"color\":\"#2a3f5f\"},\"hovermode\":\"closest\",\"hoverlabel\":{\"align\":\"left\"},\"paper_bgcolor\":\"white\",\"plot_bgcolor\":\"#E5ECF6\",\"polar\":{\"bgcolor\":\"#E5ECF6\",\"angularaxis\":{\"gridcolor\":\"white\",\"linecolor\":\"white\",\"ticks\":\"\"},\"radialaxis\":{\"gridcolor\":\"white\",\"linecolor\":\"white\",\"ticks\":\"\"}},\"ternary\":{\"bgcolor\":\"#E5ECF6\",\"aaxis\":{\"gridcolor\":\"white\",\"linecolor\":\"white\",\"ticks\":\"\"},\"baxis\":{\"gridcolor\":\"white\",\"linecolor\":\"white\",\"ticks\":\"\"},\"caxis\":{\"gridcolor\":\"white\",\"linecolor\":\"white\",\"ticks\":\"\"}},\"coloraxis\":{\"colorbar\":{\"outlinewidth\":0,\"ticks\":\"\"}},\"colorscale\":{\"sequential\":[[0.0,\"#0d0887\"],[0.1111111111111111,\"#46039f\"],[0.2222222222222222,\"#7201a8\"],[0.3333333333333333,\"#9c179e\"],[0.4444444444444444,\"#bd3786\"],[0.5555555555555556,\"#d8576b\"],[0.6666666666666666,\"#ed7953\"],[0.7777777777777778,\"#fb9f3a\"],[0.8888888888888888,\"#fdca26\"],[1.0,\"#f0f921\"]],\"sequentialminus\":[[0.0,\"#0d0887\"],[0.1111111111111111,\"#46039f\"],[0.2222222222222222,\"#7201a8\"],[0.3333333333333333,\"#9c179e\"],[0.4444444444444444,\"#bd3786\"],[0.5555555555555556,\"#d8576b\"],[0.6666666666666666,\"#ed7953\"],[0.7777777777777778,\"#fb9f3a\"],[0.8888888888888888,\"#fdca26\"],[1.0,\"#f0f921\"]],\"diverging\":[[0,\"#8e0152\"],[0.1,\"#c51b7d\"],[0.2,\"#de77ae\"],[0.3,\"#f1b6da\"],[0.4,\"#fde0ef\"],[0.5,\"#f7f7f7\"],[0.6,\"#e6f5d0\"],[0.7,\"#b8e186\"],[0.8,\"#7fbc41\"],[0.9,\"#4d9221\"],[1,\"#276419\"]]},\"xaxis\":{\"gridcolor\":\"white\",\"linecolor\":\"white\",\"ticks\":\"\",\"title\":{\"standoff\":15},\"zerolinecolor\":\"white\",\"automargin\":true,\"zerolinewidth\":2},\"yaxis\":{\"gridcolor\":\"white\",\"linecolor\":\"white\",\"ticks\":\"\",\"title\":{\"standoff\":15},\"zerolinecolor\":\"white\",\"automargin\":true,\"zerolinewidth\":2},\"scene\":{\"xaxis\":{\"backgroundcolor\":\"#E5ECF6\",\"gridcolor\":\"white\",\"linecolor\":\"white\",\"showbackground\":true,\"ticks\":\"\",\"zerolinecolor\":\"white\",\"gridwidth\":2},\"yaxis\":{\"backgroundcolor\":\"#E5ECF6\",\"gridcolor\":\"white\",\"linecolor\":\"white\",\"showbackground\":true,\"ticks\":\"\",\"zerolinecolor\":\"white\",\"gridwidth\":2},\"zaxis\":{\"backgroundcolor\":\"#E5ECF6\",\"gridcolor\":\"white\",\"linecolor\":\"white\",\"showbackground\":true,\"ticks\":\"\",\"zerolinecolor\":\"white\",\"gridwidth\":2}},\"shapedefaults\":{\"line\":{\"color\":\"#2a3f5f\"}},\"annotationdefaults\":{\"arrowcolor\":\"#2a3f5f\",\"arrowhead\":0,\"arrowwidth\":1},\"geo\":{\"bgcolor\":\"white\",\"landcolor\":\"#E5ECF6\",\"subunitcolor\":\"white\",\"showland\":true,\"showlakes\":true,\"lakecolor\":\"white\"},\"title\":{\"x\":0.05},\"mapbox\":{\"style\":\"light\"}}},\"xaxis\":{\"anchor\":\"y\",\"domain\":[0.0,0.48],\"title\":{\"text\":\"Ratio of Malicious Clients (%)\"},\"tickvals\":[0,10,20,30,40,50,60,70,80,90]},\"yaxis\":{\"anchor\":\"x\",\"domain\":[0.0,0.3133333333333333],\"title\":{\"text\":\"Main Task Accuracy\"}},\"xaxis2\":{\"anchor\":\"y2\",\"domain\":[0.5,0.98],\"matches\":\"x\",\"title\":{\"text\":\"Ratio of Malicious Clients (%)\"},\"tickvals\":[0,10,20,30,40,50,60,70,80,90]},\"yaxis2\":{\"anchor\":\"x2\",\"domain\":[0.0,0.3133333333333333],\"matches\":\"y\",\"showticklabels\":false},\"xaxis3\":{\"anchor\":\"y3\",\"domain\":[0.0,0.48],\"matches\":\"x\",\"showticklabels\":false,\"tickvals\":[0,10,20,30,40,50,60,70,80,90]},\"yaxis3\":{\"anchor\":\"x3\",\"domain\":[0.34333333333333327,0.6566666666666665],\"matches\":\"y\",\"title\":{\"text\":\"Main Task Accuracy\"}},\"xaxis4\":{\"anchor\":\"y4\",\"domain\":[0.5,0.98],\"matches\":\"x\",\"showticklabels\":false,\"tickvals\":[0,10,20,30,40,50,60,70,80,90]},\"yaxis4\":{\"anchor\":\"x4\",\"domain\":[0.34333333333333327,0.6566666666666665],\"matches\":\"y\",\"showticklabels\":false},\"xaxis5\":{\"anchor\":\"y5\",\"domain\":[0.0,0.48],\"matches\":\"x\",\"showticklabels\":false,\"tickvals\":[0,10,20,30,40,50,60,70,80,90]},\"yaxis5\":{\"anchor\":\"x5\",\"domain\":[0.6866666666666665,0.9999999999999998],\"matches\":\"y\",\"title\":{\"text\":\"Main Task Accuracy\"}},\"xaxis6\":{\"anchor\":\"y6\",\"domain\":[0.5,0.98],\"matches\":\"x\",\"showticklabels\":false,\"tickvals\":[0,10,20,30,40,50,60,70,80,90]},\"yaxis6\":{\"anchor\":\"x6\",\"domain\":[0.6866666666666665,0.9999999999999998],\"matches\":\"y\",\"showticklabels\":false},\"annotations\":[{\"font\":{},\"showarrow\":false,\"text\":\"Framework=FedSIGN\",\"x\":0.24,\"xanchor\":\"center\",\"xref\":\"paper\",\"y\":0.9999999999999998,\"yanchor\":\"bottom\",\"yref\":\"paper\"},{\"font\":{},\"showarrow\":false,\"text\":\"Framework=FedAVG\",\"x\":0.74,\"xanchor\":\"center\",\"xref\":\"paper\",\"y\":0.9999999999999998,\"yanchor\":\"bottom\",\"yref\":\"paper\"},{\"font\":{},\"showarrow\":false,\"text\":\"Dataset=CIFAR10\",\"textangle\":90,\"x\":0.98,\"xanchor\":\"left\",\"xref\":\"paper\",\"y\":0.15666666666666665,\"yanchor\":\"middle\",\"yref\":\"paper\"},{\"font\":{},\"showarrow\":false,\"text\":\"Dataset=F-MNIST\",\"textangle\":90,\"x\":0.98,\"xanchor\":\"left\",\"xref\":\"paper\",\"y\":0.4999999999999999,\"yanchor\":\"middle\",\"yref\":\"paper\"},{\"font\":{},\"showarrow\":false,\"text\":\"Dataset=MNIST\",\"textangle\":90,\"x\":0.98,\"xanchor\":\"left\",\"xref\":\"paper\",\"y\":0.8433333333333332,\"yanchor\":\"middle\",\"yref\":\"paper\"}],\"legend\":{\"title\":{\"text\":\"Attack Type\"},\"tracegroupgap\":0,\"orientation\":\"h\",\"y\":1.05},\"margin\":{\"t\":60},\"height\":1000,\"width\":1000},                        {\"responsive\": true}                    ).then(function(){\n",
       "                            \n",
       "var gd = document.getElementById('308cefe4-90d5-41cd-bfb7-19ef2dd37944');\n",
       "var x = new MutationObserver(function (mutations, observer) {{\n",
       "        var display = window.getComputedStyle(gd).display;\n",
       "        if (!display || display === 'none') {{\n",
       "            console.log([gd, 'removed!']);\n",
       "            Plotly.purge(gd);\n",
       "            observer.disconnect();\n",
       "        }}\n",
       "}});\n",
       "\n",
       "// Listen for the removal of the full notebook cells\n",
       "var notebookContainer = gd.closest('#notebook-container');\n",
       "if (notebookContainer) {{\n",
       "    x.observe(notebookContainer, {childList: true});\n",
       "}}\n",
       "\n",
       "// Listen for the clearing of the current output cell\n",
       "var outputEl = gd.closest('.output');\n",
       "if (outputEl) {{\n",
       "    x.observe(outputEl, {childList: true});\n",
       "}}\n",
       "\n",
       "                        })                };                });            </script>        </div>"
      ]
     },
     "metadata": {},
     "output_type": "display_data"
    }
   ],
   "source": [
    "import plotly\n",
    "colors = plotly.colors.DEFAULT_PLOTLY_COLORS\n",
    "fig = px.line(all_data, x=\"Ratio of Malicious Clients (%)\", y=\"Main Task Accuracy\", color='Attack Type',symbol=\"Attack Type\", facet_row='Dataset',facet_col='Framework'\n",
    "                ,markers=True,symbol_sequence=['x-open-dot','cross-open-dot','diamond-open-dot','square-open-dot'],color_discrete_sequence=colors)\n",
    "fig.update_layout(height=1000,width=1000,legend=dict(orientation=\"h\",y=1.05),)\n",
    "xx = [0,10,20,30,40,50,60,70,80,90]\n",
    "fig.update_xaxes(tickvals=xx)\n",
    "fig.show()\n",
    "fig.write_image('./r_diff_dataset_main.png', scale=4)"
   ]
  },
  {
   "cell_type": "code",
   "execution_count": 50,
   "metadata": {},
   "outputs": [
    {
     "name": "stdout",
     "output_type": "stream",
     "text": [
      "MNIST FedSIGN Pixel Backdoor Attack [0.11410000175237656, 0.11420000344514847, 0.11410000175237656, 0.11460000276565552, 0.1143999993801117, 0.11389999836683273, 0.1136000007390976, 0.1136000007390976, 0.11379999667406082]\n",
      "MNIST FedSIGN Model Replacement Attack [0.015625, 0.171875, 0.09375, 0.125, 0.15625, 0.265625, 0.09375, 0.09375, 0.125]\n",
      "MNIST FedAVG Pixel Backdoor Attack [0.9851999878883362, 0.9944000244140625, 0.9995999932289124, 0.9998999834060669, 1.0, 1.0, 1.0, 1.0, 1.0]\n",
      "MNIST FedAVG Model Replacement Attack [0.828125, 0.96875, 1.0, 1.0, 1.0, 1.0, 1.0, 1.0, 1.0]\n",
      "FMNIST FedSIGN Pixel Backdoor Attack [0.09799999743700027, 0.09830000251531601, 0.09809999912977219, 0.09799999743700027, 0.09790000319480896, 0.09809999912977219, 0.0982000008225441, 0.09780000150203705, 0.09989999979734421]\n",
      "FMNIST FedSIGN Model Replacement Attack [0.015625, 0.03125, 0.09375, 0.015625, 0.015625, 0.03125, 0.03125, 0.015625, 0.0]\n",
      "FMNIST FedAVG Pixel Backdoor Attack [0.9174000024795532, 0.9830999970436096, 0.9861000180244446, 0.998199999332428, 0.9972000122070312, 0.9993000030517578, 0.9998999834060669, 1.0, 1.0]\n",
      "FMNIST FedAVG Model Replacement Attack [0.3125, 0.546875, 0.875, 0.890625, 0.96875, 0.984375, 0.984375, 0.984375, 0.984375]\n",
      "CIFAR10 FedSIGN Pixel Backdoor Attack [0.11169999837875366, 0.11289999634027481, 0.11739999800920486, 0.11710000038146973, 0.11749999970197678, 0.12880000472068787, 0.133200004696846, 0.13410000503063202, 0.11270000040531158]\n",
      "CIFAR10 FedSIGN Model Replacement Attack [0.09375, 0.078125, 0.09375, 0.09375, 0.125, 0.09375, 0.125, 0.125, 0.125]\n",
      "CIFAR10 FedAVG Pixel Backdoor Attack [0.9998000264167786, 0.9998999834060669, 1.0, 1.0, 1.0, 1.0, 1.0, 1.0, 1.0]\n",
      "CIFAR10 FedAVG Model Replacement Attack [0.171875, 0.25, 0.21875, 0.34375, 0.390625, 0.5625, 0.546875, 0.671875, 0.6875]\n"
     ]
    }
   ],
   "source": [
    "# 后门攻击成功正确率\n",
    "all_data_backdoor = pd.DataFrame()\n",
    "\n",
    "all_data_backdoor_server_acc = []\n",
    "all_data_backdoor_malicious = [10,20,30,40,50,60,70,80,90]*3*2*2\n",
    "all_data_backdoor_dataset = ['MNIST']*2*2*9+['F-MNIST']*2*2*9+['CIFAR10']*2*2*9\n",
    "all_data_backdoor_framework = (['FedSIGN']*2*9+['FedAVG']*2*9)*3\n",
    "all_data_backdoor_attack = (['Pixel Backdoor Attack']*9+['Model Replacement Attack']*9)*2*3\n",
    "\n",
    "for k in ['MNIST','FMNIST','CIFAR10']:\n",
    "    for i in ['FedSIGN','FedAVG']:\n",
    "        for j in ['Pixel Backdoor Attack','Model Replacement Attack']:\n",
    "            data = [max(i[190:]) for i in get_group_data(dataset=cov_dict[k],distribution='iid',attack_type=cov_dict[j],define_type=cov_dict[i],key='Attack_Acc')]\n",
    "            print(k,i,j,data)\n",
    "            all_data_backdoor_server_acc = all_data_backdoor_server_acc + data\n",
    "\n",
    "all_data_backdoor['Backdoor Task Accuracy'] = all_data_backdoor_server_acc\n",
    "all_data_backdoor['Ratio of Malicious Clients (%)'] = all_data_backdoor_malicious\n",
    "all_data_backdoor['Dataset'] = all_data_backdoor_dataset\n",
    "all_data_backdoor['Framework'] = all_data_backdoor_framework\n",
    "all_data_backdoor['Attack Type'] = all_data_backdoor_attack"
   ]
  },
  {
   "cell_type": "code",
   "execution_count": 51,
   "metadata": {},
   "outputs": [
    {
     "data": {
      "application/vnd.plotly.v1+json": {
       "config": {
        "plotlyServerURL": "https://plot.ly"
       },
       "data": [
        {
         "hovertemplate": "Attack Type=Pixel Backdoor Attack<br>Dataset=MNIST<br>Framework=FedSIGN<br>Ratio of Malicious Clients (%)=%{x}<br>Backdoor Task Accuracy=%{y}<extra></extra>",
         "legendgroup": "Pixel Backdoor Attack",
         "line": {
          "color": "rgb(44, 160, 44)",
          "dash": "solid"
         },
         "marker": {
          "symbol": "diamond-open-dot"
         },
         "mode": "markers+lines",
         "name": "Pixel Backdoor Attack",
         "orientation": "v",
         "showlegend": true,
         "type": "scatter",
         "x": [
          10,
          20,
          30,
          40,
          50,
          60,
          70,
          80,
          90
         ],
         "xaxis": "x5",
         "y": [
          0.11410000175237656,
          0.11420000344514847,
          0.11410000175237656,
          0.11460000276565552,
          0.1143999993801117,
          0.11389999836683273,
          0.1136000007390976,
          0.1136000007390976,
          0.11379999667406082
         ],
         "yaxis": "y5"
        },
        {
         "hovertemplate": "Attack Type=Pixel Backdoor Attack<br>Dataset=MNIST<br>Framework=FedAVG<br>Ratio of Malicious Clients (%)=%{x}<br>Backdoor Task Accuracy=%{y}<extra></extra>",
         "legendgroup": "Pixel Backdoor Attack",
         "line": {
          "color": "rgb(44, 160, 44)",
          "dash": "solid"
         },
         "marker": {
          "symbol": "diamond-open-dot"
         },
         "mode": "markers+lines",
         "name": "Pixel Backdoor Attack",
         "orientation": "v",
         "showlegend": false,
         "type": "scatter",
         "x": [
          10,
          20,
          30,
          40,
          50,
          60,
          70,
          80,
          90
         ],
         "xaxis": "x6",
         "y": [
          0.9851999878883362,
          0.9944000244140625,
          0.9995999932289124,
          0.9998999834060669,
          1,
          1,
          1,
          1,
          1
         ],
         "yaxis": "y6"
        },
        {
         "hovertemplate": "Attack Type=Pixel Backdoor Attack<br>Dataset=F-MNIST<br>Framework=FedSIGN<br>Ratio of Malicious Clients (%)=%{x}<br>Backdoor Task Accuracy=%{y}<extra></extra>",
         "legendgroup": "Pixel Backdoor Attack",
         "line": {
          "color": "rgb(44, 160, 44)",
          "dash": "solid"
         },
         "marker": {
          "symbol": "diamond-open-dot"
         },
         "mode": "markers+lines",
         "name": "Pixel Backdoor Attack",
         "orientation": "v",
         "showlegend": false,
         "type": "scatter",
         "x": [
          10,
          20,
          30,
          40,
          50,
          60,
          70,
          80,
          90
         ],
         "xaxis": "x3",
         "y": [
          0.09799999743700027,
          0.09830000251531601,
          0.09809999912977219,
          0.09799999743700027,
          0.09790000319480896,
          0.09809999912977219,
          0.0982000008225441,
          0.09780000150203705,
          0.09989999979734421
         ],
         "yaxis": "y3"
        },
        {
         "hovertemplate": "Attack Type=Pixel Backdoor Attack<br>Dataset=F-MNIST<br>Framework=FedAVG<br>Ratio of Malicious Clients (%)=%{x}<br>Backdoor Task Accuracy=%{y}<extra></extra>",
         "legendgroup": "Pixel Backdoor Attack",
         "line": {
          "color": "rgb(44, 160, 44)",
          "dash": "solid"
         },
         "marker": {
          "symbol": "diamond-open-dot"
         },
         "mode": "markers+lines",
         "name": "Pixel Backdoor Attack",
         "orientation": "v",
         "showlegend": false,
         "type": "scatter",
         "x": [
          10,
          20,
          30,
          40,
          50,
          60,
          70,
          80,
          90
         ],
         "xaxis": "x4",
         "y": [
          0.9174000024795532,
          0.9830999970436096,
          0.9861000180244446,
          0.998199999332428,
          0.9972000122070312,
          0.9993000030517578,
          0.9998999834060669,
          1,
          1
         ],
         "yaxis": "y4"
        },
        {
         "hovertemplate": "Attack Type=Pixel Backdoor Attack<br>Dataset=CIFAR10<br>Framework=FedSIGN<br>Ratio of Malicious Clients (%)=%{x}<br>Backdoor Task Accuracy=%{y}<extra></extra>",
         "legendgroup": "Pixel Backdoor Attack",
         "line": {
          "color": "rgb(44, 160, 44)",
          "dash": "solid"
         },
         "marker": {
          "symbol": "diamond-open-dot"
         },
         "mode": "markers+lines",
         "name": "Pixel Backdoor Attack",
         "orientation": "v",
         "showlegend": false,
         "type": "scatter",
         "x": [
          10,
          20,
          30,
          40,
          50,
          60,
          70,
          80,
          90
         ],
         "xaxis": "x",
         "y": [
          0.11169999837875366,
          0.11289999634027481,
          0.11739999800920486,
          0.11710000038146973,
          0.11749999970197678,
          0.12880000472068787,
          0.133200004696846,
          0.13410000503063202,
          0.11270000040531158
         ],
         "yaxis": "y"
        },
        {
         "hovertemplate": "Attack Type=Pixel Backdoor Attack<br>Dataset=CIFAR10<br>Framework=FedAVG<br>Ratio of Malicious Clients (%)=%{x}<br>Backdoor Task Accuracy=%{y}<extra></extra>",
         "legendgroup": "Pixel Backdoor Attack",
         "line": {
          "color": "rgb(44, 160, 44)",
          "dash": "solid"
         },
         "marker": {
          "symbol": "diamond-open-dot"
         },
         "mode": "markers+lines",
         "name": "Pixel Backdoor Attack",
         "orientation": "v",
         "showlegend": false,
         "type": "scatter",
         "x": [
          10,
          20,
          30,
          40,
          50,
          60,
          70,
          80,
          90
         ],
         "xaxis": "x2",
         "y": [
          0.9998000264167786,
          0.9998999834060669,
          1,
          1,
          1,
          1,
          1,
          1,
          1
         ],
         "yaxis": "y2"
        },
        {
         "hovertemplate": "Attack Type=Model Replacement Attack<br>Dataset=MNIST<br>Framework=FedSIGN<br>Ratio of Malicious Clients (%)=%{x}<br>Backdoor Task Accuracy=%{y}<extra></extra>",
         "legendgroup": "Model Replacement Attack",
         "line": {
          "color": "rgb(214, 39, 40)",
          "dash": "solid"
         },
         "marker": {
          "symbol": "square-open-dot"
         },
         "mode": "markers+lines",
         "name": "Model Replacement Attack",
         "orientation": "v",
         "showlegend": true,
         "type": "scatter",
         "x": [
          10,
          20,
          30,
          40,
          50,
          60,
          70,
          80,
          90
         ],
         "xaxis": "x5",
         "y": [
          0.015625,
          0.171875,
          0.09375,
          0.125,
          0.15625,
          0.265625,
          0.09375,
          0.09375,
          0.125
         ],
         "yaxis": "y5"
        },
        {
         "hovertemplate": "Attack Type=Model Replacement Attack<br>Dataset=MNIST<br>Framework=FedAVG<br>Ratio of Malicious Clients (%)=%{x}<br>Backdoor Task Accuracy=%{y}<extra></extra>",
         "legendgroup": "Model Replacement Attack",
         "line": {
          "color": "rgb(214, 39, 40)",
          "dash": "solid"
         },
         "marker": {
          "symbol": "square-open-dot"
         },
         "mode": "markers+lines",
         "name": "Model Replacement Attack",
         "orientation": "v",
         "showlegend": false,
         "type": "scatter",
         "x": [
          10,
          20,
          30,
          40,
          50,
          60,
          70,
          80,
          90
         ],
         "xaxis": "x6",
         "y": [
          0.828125,
          0.96875,
          1,
          1,
          1,
          1,
          1,
          1,
          1
         ],
         "yaxis": "y6"
        },
        {
         "hovertemplate": "Attack Type=Model Replacement Attack<br>Dataset=F-MNIST<br>Framework=FedSIGN<br>Ratio of Malicious Clients (%)=%{x}<br>Backdoor Task Accuracy=%{y}<extra></extra>",
         "legendgroup": "Model Replacement Attack",
         "line": {
          "color": "rgb(214, 39, 40)",
          "dash": "solid"
         },
         "marker": {
          "symbol": "square-open-dot"
         },
         "mode": "markers+lines",
         "name": "Model Replacement Attack",
         "orientation": "v",
         "showlegend": false,
         "type": "scatter",
         "x": [
          10,
          20,
          30,
          40,
          50,
          60,
          70,
          80,
          90
         ],
         "xaxis": "x3",
         "y": [
          0.015625,
          0.03125,
          0.09375,
          0.015625,
          0.015625,
          0.03125,
          0.03125,
          0.015625,
          0
         ],
         "yaxis": "y3"
        },
        {
         "hovertemplate": "Attack Type=Model Replacement Attack<br>Dataset=F-MNIST<br>Framework=FedAVG<br>Ratio of Malicious Clients (%)=%{x}<br>Backdoor Task Accuracy=%{y}<extra></extra>",
         "legendgroup": "Model Replacement Attack",
         "line": {
          "color": "rgb(214, 39, 40)",
          "dash": "solid"
         },
         "marker": {
          "symbol": "square-open-dot"
         },
         "mode": "markers+lines",
         "name": "Model Replacement Attack",
         "orientation": "v",
         "showlegend": false,
         "type": "scatter",
         "x": [
          10,
          20,
          30,
          40,
          50,
          60,
          70,
          80,
          90
         ],
         "xaxis": "x4",
         "y": [
          0.3125,
          0.546875,
          0.875,
          0.890625,
          0.96875,
          0.984375,
          0.984375,
          0.984375,
          0.984375
         ],
         "yaxis": "y4"
        },
        {
         "hovertemplate": "Attack Type=Model Replacement Attack<br>Dataset=CIFAR10<br>Framework=FedSIGN<br>Ratio of Malicious Clients (%)=%{x}<br>Backdoor Task Accuracy=%{y}<extra></extra>",
         "legendgroup": "Model Replacement Attack",
         "line": {
          "color": "rgb(214, 39, 40)",
          "dash": "solid"
         },
         "marker": {
          "symbol": "square-open-dot"
         },
         "mode": "markers+lines",
         "name": "Model Replacement Attack",
         "orientation": "v",
         "showlegend": false,
         "type": "scatter",
         "x": [
          10,
          20,
          30,
          40,
          50,
          60,
          70,
          80,
          90
         ],
         "xaxis": "x",
         "y": [
          0.09375,
          0.078125,
          0.09375,
          0.09375,
          0.125,
          0.09375,
          0.125,
          0.125,
          0.125
         ],
         "yaxis": "y"
        },
        {
         "hovertemplate": "Attack Type=Model Replacement Attack<br>Dataset=CIFAR10<br>Framework=FedAVG<br>Ratio of Malicious Clients (%)=%{x}<br>Backdoor Task Accuracy=%{y}<extra></extra>",
         "legendgroup": "Model Replacement Attack",
         "line": {
          "color": "rgb(214, 39, 40)",
          "dash": "solid"
         },
         "marker": {
          "symbol": "square-open-dot"
         },
         "mode": "markers+lines",
         "name": "Model Replacement Attack",
         "orientation": "v",
         "showlegend": false,
         "type": "scatter",
         "x": [
          10,
          20,
          30,
          40,
          50,
          60,
          70,
          80,
          90
         ],
         "xaxis": "x2",
         "y": [
          0.171875,
          0.25,
          0.21875,
          0.34375,
          0.390625,
          0.5625,
          0.546875,
          0.671875,
          0.6875
         ],
         "yaxis": "y2"
        }
       ],
       "layout": {
        "annotations": [
         {
          "font": {},
          "showarrow": false,
          "text": "Framework=FedSIGN",
          "x": 0.24,
          "xanchor": "center",
          "xref": "paper",
          "y": 0.9999999999999998,
          "yanchor": "bottom",
          "yref": "paper"
         },
         {
          "font": {},
          "showarrow": false,
          "text": "Framework=FedAVG",
          "x": 0.74,
          "xanchor": "center",
          "xref": "paper",
          "y": 0.9999999999999998,
          "yanchor": "bottom",
          "yref": "paper"
         },
         {
          "font": {},
          "showarrow": false,
          "text": "Dataset=CIFAR10",
          "textangle": 90,
          "x": 0.98,
          "xanchor": "left",
          "xref": "paper",
          "y": 0.15666666666666665,
          "yanchor": "middle",
          "yref": "paper"
         },
         {
          "font": {},
          "showarrow": false,
          "text": "Dataset=F-MNIST",
          "textangle": 90,
          "x": 0.98,
          "xanchor": "left",
          "xref": "paper",
          "y": 0.4999999999999999,
          "yanchor": "middle",
          "yref": "paper"
         },
         {
          "font": {},
          "showarrow": false,
          "text": "Dataset=MNIST",
          "textangle": 90,
          "x": 0.98,
          "xanchor": "left",
          "xref": "paper",
          "y": 0.8433333333333332,
          "yanchor": "middle",
          "yref": "paper"
         }
        ],
        "height": 1000,
        "legend": {
         "orientation": "h",
         "title": {
          "text": "Attack Type"
         },
         "tracegroupgap": 0,
         "y": 1.05
        },
        "margin": {
         "t": 60
        },
        "template": {
         "data": {
          "bar": [
           {
            "error_x": {
             "color": "#2a3f5f"
            },
            "error_y": {
             "color": "#2a3f5f"
            },
            "marker": {
             "line": {
              "color": "#E5ECF6",
              "width": 0.5
             },
             "pattern": {
              "fillmode": "overlay",
              "size": 10,
              "solidity": 0.2
             }
            },
            "type": "bar"
           }
          ],
          "barpolar": [
           {
            "marker": {
             "line": {
              "color": "#E5ECF6",
              "width": 0.5
             },
             "pattern": {
              "fillmode": "overlay",
              "size": 10,
              "solidity": 0.2
             }
            },
            "type": "barpolar"
           }
          ],
          "carpet": [
           {
            "aaxis": {
             "endlinecolor": "#2a3f5f",
             "gridcolor": "white",
             "linecolor": "white",
             "minorgridcolor": "white",
             "startlinecolor": "#2a3f5f"
            },
            "baxis": {
             "endlinecolor": "#2a3f5f",
             "gridcolor": "white",
             "linecolor": "white",
             "minorgridcolor": "white",
             "startlinecolor": "#2a3f5f"
            },
            "type": "carpet"
           }
          ],
          "choropleth": [
           {
            "colorbar": {
             "outlinewidth": 0,
             "ticks": ""
            },
            "type": "choropleth"
           }
          ],
          "contour": [
           {
            "colorbar": {
             "outlinewidth": 0,
             "ticks": ""
            },
            "colorscale": [
             [
              0,
              "#0d0887"
             ],
             [
              0.1111111111111111,
              "#46039f"
             ],
             [
              0.2222222222222222,
              "#7201a8"
             ],
             [
              0.3333333333333333,
              "#9c179e"
             ],
             [
              0.4444444444444444,
              "#bd3786"
             ],
             [
              0.5555555555555556,
              "#d8576b"
             ],
             [
              0.6666666666666666,
              "#ed7953"
             ],
             [
              0.7777777777777778,
              "#fb9f3a"
             ],
             [
              0.8888888888888888,
              "#fdca26"
             ],
             [
              1,
              "#f0f921"
             ]
            ],
            "type": "contour"
           }
          ],
          "contourcarpet": [
           {
            "colorbar": {
             "outlinewidth": 0,
             "ticks": ""
            },
            "type": "contourcarpet"
           }
          ],
          "heatmap": [
           {
            "colorbar": {
             "outlinewidth": 0,
             "ticks": ""
            },
            "colorscale": [
             [
              0,
              "#0d0887"
             ],
             [
              0.1111111111111111,
              "#46039f"
             ],
             [
              0.2222222222222222,
              "#7201a8"
             ],
             [
              0.3333333333333333,
              "#9c179e"
             ],
             [
              0.4444444444444444,
              "#bd3786"
             ],
             [
              0.5555555555555556,
              "#d8576b"
             ],
             [
              0.6666666666666666,
              "#ed7953"
             ],
             [
              0.7777777777777778,
              "#fb9f3a"
             ],
             [
              0.8888888888888888,
              "#fdca26"
             ],
             [
              1,
              "#f0f921"
             ]
            ],
            "type": "heatmap"
           }
          ],
          "heatmapgl": [
           {
            "colorbar": {
             "outlinewidth": 0,
             "ticks": ""
            },
            "colorscale": [
             [
              0,
              "#0d0887"
             ],
             [
              0.1111111111111111,
              "#46039f"
             ],
             [
              0.2222222222222222,
              "#7201a8"
             ],
             [
              0.3333333333333333,
              "#9c179e"
             ],
             [
              0.4444444444444444,
              "#bd3786"
             ],
             [
              0.5555555555555556,
              "#d8576b"
             ],
             [
              0.6666666666666666,
              "#ed7953"
             ],
             [
              0.7777777777777778,
              "#fb9f3a"
             ],
             [
              0.8888888888888888,
              "#fdca26"
             ],
             [
              1,
              "#f0f921"
             ]
            ],
            "type": "heatmapgl"
           }
          ],
          "histogram": [
           {
            "marker": {
             "pattern": {
              "fillmode": "overlay",
              "size": 10,
              "solidity": 0.2
             }
            },
            "type": "histogram"
           }
          ],
          "histogram2d": [
           {
            "colorbar": {
             "outlinewidth": 0,
             "ticks": ""
            },
            "colorscale": [
             [
              0,
              "#0d0887"
             ],
             [
              0.1111111111111111,
              "#46039f"
             ],
             [
              0.2222222222222222,
              "#7201a8"
             ],
             [
              0.3333333333333333,
              "#9c179e"
             ],
             [
              0.4444444444444444,
              "#bd3786"
             ],
             [
              0.5555555555555556,
              "#d8576b"
             ],
             [
              0.6666666666666666,
              "#ed7953"
             ],
             [
              0.7777777777777778,
              "#fb9f3a"
             ],
             [
              0.8888888888888888,
              "#fdca26"
             ],
             [
              1,
              "#f0f921"
             ]
            ],
            "type": "histogram2d"
           }
          ],
          "histogram2dcontour": [
           {
            "colorbar": {
             "outlinewidth": 0,
             "ticks": ""
            },
            "colorscale": [
             [
              0,
              "#0d0887"
             ],
             [
              0.1111111111111111,
              "#46039f"
             ],
             [
              0.2222222222222222,
              "#7201a8"
             ],
             [
              0.3333333333333333,
              "#9c179e"
             ],
             [
              0.4444444444444444,
              "#bd3786"
             ],
             [
              0.5555555555555556,
              "#d8576b"
             ],
             [
              0.6666666666666666,
              "#ed7953"
             ],
             [
              0.7777777777777778,
              "#fb9f3a"
             ],
             [
              0.8888888888888888,
              "#fdca26"
             ],
             [
              1,
              "#f0f921"
             ]
            ],
            "type": "histogram2dcontour"
           }
          ],
          "mesh3d": [
           {
            "colorbar": {
             "outlinewidth": 0,
             "ticks": ""
            },
            "type": "mesh3d"
           }
          ],
          "parcoords": [
           {
            "line": {
             "colorbar": {
              "outlinewidth": 0,
              "ticks": ""
             }
            },
            "type": "parcoords"
           }
          ],
          "pie": [
           {
            "automargin": true,
            "type": "pie"
           }
          ],
          "scatter": [
           {
            "fillpattern": {
             "fillmode": "overlay",
             "size": 10,
             "solidity": 0.2
            },
            "type": "scatter"
           }
          ],
          "scatter3d": [
           {
            "line": {
             "colorbar": {
              "outlinewidth": 0,
              "ticks": ""
             }
            },
            "marker": {
             "colorbar": {
              "outlinewidth": 0,
              "ticks": ""
             }
            },
            "type": "scatter3d"
           }
          ],
          "scattercarpet": [
           {
            "marker": {
             "colorbar": {
              "outlinewidth": 0,
              "ticks": ""
             }
            },
            "type": "scattercarpet"
           }
          ],
          "scattergeo": [
           {
            "marker": {
             "colorbar": {
              "outlinewidth": 0,
              "ticks": ""
             }
            },
            "type": "scattergeo"
           }
          ],
          "scattergl": [
           {
            "marker": {
             "colorbar": {
              "outlinewidth": 0,
              "ticks": ""
             }
            },
            "type": "scattergl"
           }
          ],
          "scattermapbox": [
           {
            "marker": {
             "colorbar": {
              "outlinewidth": 0,
              "ticks": ""
             }
            },
            "type": "scattermapbox"
           }
          ],
          "scatterpolar": [
           {
            "marker": {
             "colorbar": {
              "outlinewidth": 0,
              "ticks": ""
             }
            },
            "type": "scatterpolar"
           }
          ],
          "scatterpolargl": [
           {
            "marker": {
             "colorbar": {
              "outlinewidth": 0,
              "ticks": ""
             }
            },
            "type": "scatterpolargl"
           }
          ],
          "scatterternary": [
           {
            "marker": {
             "colorbar": {
              "outlinewidth": 0,
              "ticks": ""
             }
            },
            "type": "scatterternary"
           }
          ],
          "surface": [
           {
            "colorbar": {
             "outlinewidth": 0,
             "ticks": ""
            },
            "colorscale": [
             [
              0,
              "#0d0887"
             ],
             [
              0.1111111111111111,
              "#46039f"
             ],
             [
              0.2222222222222222,
              "#7201a8"
             ],
             [
              0.3333333333333333,
              "#9c179e"
             ],
             [
              0.4444444444444444,
              "#bd3786"
             ],
             [
              0.5555555555555556,
              "#d8576b"
             ],
             [
              0.6666666666666666,
              "#ed7953"
             ],
             [
              0.7777777777777778,
              "#fb9f3a"
             ],
             [
              0.8888888888888888,
              "#fdca26"
             ],
             [
              1,
              "#f0f921"
             ]
            ],
            "type": "surface"
           }
          ],
          "table": [
           {
            "cells": {
             "fill": {
              "color": "#EBF0F8"
             },
             "line": {
              "color": "white"
             }
            },
            "header": {
             "fill": {
              "color": "#C8D4E3"
             },
             "line": {
              "color": "white"
             }
            },
            "type": "table"
           }
          ]
         },
         "layout": {
          "annotationdefaults": {
           "arrowcolor": "#2a3f5f",
           "arrowhead": 0,
           "arrowwidth": 1
          },
          "autotypenumbers": "strict",
          "coloraxis": {
           "colorbar": {
            "outlinewidth": 0,
            "ticks": ""
           }
          },
          "colorscale": {
           "diverging": [
            [
             0,
             "#8e0152"
            ],
            [
             0.1,
             "#c51b7d"
            ],
            [
             0.2,
             "#de77ae"
            ],
            [
             0.3,
             "#f1b6da"
            ],
            [
             0.4,
             "#fde0ef"
            ],
            [
             0.5,
             "#f7f7f7"
            ],
            [
             0.6,
             "#e6f5d0"
            ],
            [
             0.7,
             "#b8e186"
            ],
            [
             0.8,
             "#7fbc41"
            ],
            [
             0.9,
             "#4d9221"
            ],
            [
             1,
             "#276419"
            ]
           ],
           "sequential": [
            [
             0,
             "#0d0887"
            ],
            [
             0.1111111111111111,
             "#46039f"
            ],
            [
             0.2222222222222222,
             "#7201a8"
            ],
            [
             0.3333333333333333,
             "#9c179e"
            ],
            [
             0.4444444444444444,
             "#bd3786"
            ],
            [
             0.5555555555555556,
             "#d8576b"
            ],
            [
             0.6666666666666666,
             "#ed7953"
            ],
            [
             0.7777777777777778,
             "#fb9f3a"
            ],
            [
             0.8888888888888888,
             "#fdca26"
            ],
            [
             1,
             "#f0f921"
            ]
           ],
           "sequentialminus": [
            [
             0,
             "#0d0887"
            ],
            [
             0.1111111111111111,
             "#46039f"
            ],
            [
             0.2222222222222222,
             "#7201a8"
            ],
            [
             0.3333333333333333,
             "#9c179e"
            ],
            [
             0.4444444444444444,
             "#bd3786"
            ],
            [
             0.5555555555555556,
             "#d8576b"
            ],
            [
             0.6666666666666666,
             "#ed7953"
            ],
            [
             0.7777777777777778,
             "#fb9f3a"
            ],
            [
             0.8888888888888888,
             "#fdca26"
            ],
            [
             1,
             "#f0f921"
            ]
           ]
          },
          "colorway": [
           "#636efa",
           "#EF553B",
           "#00cc96",
           "#ab63fa",
           "#FFA15A",
           "#19d3f3",
           "#FF6692",
           "#B6E880",
           "#FF97FF",
           "#FECB52"
          ],
          "font": {
           "color": "#2a3f5f"
          },
          "geo": {
           "bgcolor": "white",
           "lakecolor": "white",
           "landcolor": "#E5ECF6",
           "showlakes": true,
           "showland": true,
           "subunitcolor": "white"
          },
          "hoverlabel": {
           "align": "left"
          },
          "hovermode": "closest",
          "mapbox": {
           "style": "light"
          },
          "paper_bgcolor": "white",
          "plot_bgcolor": "#E5ECF6",
          "polar": {
           "angularaxis": {
            "gridcolor": "white",
            "linecolor": "white",
            "ticks": ""
           },
           "bgcolor": "#E5ECF6",
           "radialaxis": {
            "gridcolor": "white",
            "linecolor": "white",
            "ticks": ""
           }
          },
          "scene": {
           "xaxis": {
            "backgroundcolor": "#E5ECF6",
            "gridcolor": "white",
            "gridwidth": 2,
            "linecolor": "white",
            "showbackground": true,
            "ticks": "",
            "zerolinecolor": "white"
           },
           "yaxis": {
            "backgroundcolor": "#E5ECF6",
            "gridcolor": "white",
            "gridwidth": 2,
            "linecolor": "white",
            "showbackground": true,
            "ticks": "",
            "zerolinecolor": "white"
           },
           "zaxis": {
            "backgroundcolor": "#E5ECF6",
            "gridcolor": "white",
            "gridwidth": 2,
            "linecolor": "white",
            "showbackground": true,
            "ticks": "",
            "zerolinecolor": "white"
           }
          },
          "shapedefaults": {
           "line": {
            "color": "#2a3f5f"
           }
          },
          "ternary": {
           "aaxis": {
            "gridcolor": "white",
            "linecolor": "white",
            "ticks": ""
           },
           "baxis": {
            "gridcolor": "white",
            "linecolor": "white",
            "ticks": ""
           },
           "bgcolor": "#E5ECF6",
           "caxis": {
            "gridcolor": "white",
            "linecolor": "white",
            "ticks": ""
           }
          },
          "title": {
           "x": 0.05
          },
          "xaxis": {
           "automargin": true,
           "gridcolor": "white",
           "linecolor": "white",
           "ticks": "",
           "title": {
            "standoff": 15
           },
           "zerolinecolor": "white",
           "zerolinewidth": 2
          },
          "yaxis": {
           "automargin": true,
           "gridcolor": "white",
           "linecolor": "white",
           "ticks": "",
           "title": {
            "standoff": 15
           },
           "zerolinecolor": "white",
           "zerolinewidth": 2
          }
         }
        },
        "width": 1000,
        "xaxis": {
         "anchor": "y",
         "domain": [
          0,
          0.48
         ],
         "tickvals": [
          0,
          10,
          20,
          30,
          40,
          50,
          60,
          70,
          80,
          90
         ],
         "title": {
          "text": "Ratio of Malicious Clients (%)"
         }
        },
        "xaxis2": {
         "anchor": "y2",
         "domain": [
          0.5,
          0.98
         ],
         "matches": "x",
         "tickvals": [
          0,
          10,
          20,
          30,
          40,
          50,
          60,
          70,
          80,
          90
         ],
         "title": {
          "text": "Ratio of Malicious Clients (%)"
         }
        },
        "xaxis3": {
         "anchor": "y3",
         "domain": [
          0,
          0.48
         ],
         "matches": "x",
         "showticklabels": false,
         "tickvals": [
          0,
          10,
          20,
          30,
          40,
          50,
          60,
          70,
          80,
          90
         ]
        },
        "xaxis4": {
         "anchor": "y4",
         "domain": [
          0.5,
          0.98
         ],
         "matches": "x",
         "showticklabels": false,
         "tickvals": [
          0,
          10,
          20,
          30,
          40,
          50,
          60,
          70,
          80,
          90
         ]
        },
        "xaxis5": {
         "anchor": "y5",
         "domain": [
          0,
          0.48
         ],
         "matches": "x",
         "showticklabels": false,
         "tickvals": [
          0,
          10,
          20,
          30,
          40,
          50,
          60,
          70,
          80,
          90
         ]
        },
        "xaxis6": {
         "anchor": "y6",
         "domain": [
          0.5,
          0.98
         ],
         "matches": "x",
         "showticklabels": false,
         "tickvals": [
          0,
          10,
          20,
          30,
          40,
          50,
          60,
          70,
          80,
          90
         ]
        },
        "yaxis": {
         "anchor": "x",
         "domain": [
          0,
          0.3133333333333333
         ],
         "title": {
          "text": "Backdoor Task Accuracy"
         }
        },
        "yaxis2": {
         "anchor": "x2",
         "domain": [
          0,
          0.3133333333333333
         ],
         "matches": "y",
         "showticklabels": false
        },
        "yaxis3": {
         "anchor": "x3",
         "domain": [
          0.34333333333333327,
          0.6566666666666665
         ],
         "matches": "y",
         "title": {
          "text": "Backdoor Task Accuracy"
         }
        },
        "yaxis4": {
         "anchor": "x4",
         "domain": [
          0.34333333333333327,
          0.6566666666666665
         ],
         "matches": "y",
         "showticklabels": false
        },
        "yaxis5": {
         "anchor": "x5",
         "domain": [
          0.6866666666666665,
          0.9999999999999998
         ],
         "matches": "y",
         "title": {
          "text": "Backdoor Task Accuracy"
         }
        },
        "yaxis6": {
         "anchor": "x6",
         "domain": [
          0.6866666666666665,
          0.9999999999999998
         ],
         "matches": "y",
         "showticklabels": false
        }
       }
      },
      "text/html": [
       "<div>                            <div id=\"248c42b4-21f9-4150-9d59-10eebb56fc2a\" class=\"plotly-graph-div\" style=\"height:1000px; width:1000px;\"></div>            <script type=\"text/javascript\">                require([\"plotly\"], function(Plotly) {                    window.PLOTLYENV=window.PLOTLYENV || {};                                    if (document.getElementById(\"248c42b4-21f9-4150-9d59-10eebb56fc2a\")) {                    Plotly.newPlot(                        \"248c42b4-21f9-4150-9d59-10eebb56fc2a\",                        [{\"hovertemplate\":\"Attack Type=Pixel Backdoor Attack<br>Dataset=MNIST<br>Framework=FedSIGN<br>Ratio of Malicious Clients (%)=%{x}<br>Backdoor Task Accuracy=%{y}<extra></extra>\",\"legendgroup\":\"Pixel Backdoor Attack\",\"line\":{\"color\":\"rgb(44, 160, 44)\",\"dash\":\"solid\"},\"marker\":{\"symbol\":\"diamond-open-dot\"},\"mode\":\"markers+lines\",\"name\":\"Pixel Backdoor Attack\",\"orientation\":\"v\",\"showlegend\":true,\"x\":[10,20,30,40,50,60,70,80,90],\"xaxis\":\"x5\",\"y\":[0.11410000175237656,0.11420000344514847,0.11410000175237656,0.11460000276565552,0.1143999993801117,0.11389999836683273,0.1136000007390976,0.1136000007390976,0.11379999667406082],\"yaxis\":\"y5\",\"type\":\"scatter\"},{\"hovertemplate\":\"Attack Type=Pixel Backdoor Attack<br>Dataset=MNIST<br>Framework=FedAVG<br>Ratio of Malicious Clients (%)=%{x}<br>Backdoor Task Accuracy=%{y}<extra></extra>\",\"legendgroup\":\"Pixel Backdoor Attack\",\"line\":{\"color\":\"rgb(44, 160, 44)\",\"dash\":\"solid\"},\"marker\":{\"symbol\":\"diamond-open-dot\"},\"mode\":\"markers+lines\",\"name\":\"Pixel Backdoor Attack\",\"orientation\":\"v\",\"showlegend\":false,\"x\":[10,20,30,40,50,60,70,80,90],\"xaxis\":\"x6\",\"y\":[0.9851999878883362,0.9944000244140625,0.9995999932289124,0.9998999834060669,1.0,1.0,1.0,1.0,1.0],\"yaxis\":\"y6\",\"type\":\"scatter\"},{\"hovertemplate\":\"Attack Type=Pixel Backdoor Attack<br>Dataset=F-MNIST<br>Framework=FedSIGN<br>Ratio of Malicious Clients (%)=%{x}<br>Backdoor Task Accuracy=%{y}<extra></extra>\",\"legendgroup\":\"Pixel Backdoor Attack\",\"line\":{\"color\":\"rgb(44, 160, 44)\",\"dash\":\"solid\"},\"marker\":{\"symbol\":\"diamond-open-dot\"},\"mode\":\"markers+lines\",\"name\":\"Pixel Backdoor Attack\",\"orientation\":\"v\",\"showlegend\":false,\"x\":[10,20,30,40,50,60,70,80,90],\"xaxis\":\"x3\",\"y\":[0.09799999743700027,0.09830000251531601,0.09809999912977219,0.09799999743700027,0.09790000319480896,0.09809999912977219,0.0982000008225441,0.09780000150203705,0.09989999979734421],\"yaxis\":\"y3\",\"type\":\"scatter\"},{\"hovertemplate\":\"Attack Type=Pixel Backdoor Attack<br>Dataset=F-MNIST<br>Framework=FedAVG<br>Ratio of Malicious Clients (%)=%{x}<br>Backdoor Task Accuracy=%{y}<extra></extra>\",\"legendgroup\":\"Pixel Backdoor Attack\",\"line\":{\"color\":\"rgb(44, 160, 44)\",\"dash\":\"solid\"},\"marker\":{\"symbol\":\"diamond-open-dot\"},\"mode\":\"markers+lines\",\"name\":\"Pixel Backdoor Attack\",\"orientation\":\"v\",\"showlegend\":false,\"x\":[10,20,30,40,50,60,70,80,90],\"xaxis\":\"x4\",\"y\":[0.9174000024795532,0.9830999970436096,0.9861000180244446,0.998199999332428,0.9972000122070312,0.9993000030517578,0.9998999834060669,1.0,1.0],\"yaxis\":\"y4\",\"type\":\"scatter\"},{\"hovertemplate\":\"Attack Type=Pixel Backdoor Attack<br>Dataset=CIFAR10<br>Framework=FedSIGN<br>Ratio of Malicious Clients (%)=%{x}<br>Backdoor Task Accuracy=%{y}<extra></extra>\",\"legendgroup\":\"Pixel Backdoor Attack\",\"line\":{\"color\":\"rgb(44, 160, 44)\",\"dash\":\"solid\"},\"marker\":{\"symbol\":\"diamond-open-dot\"},\"mode\":\"markers+lines\",\"name\":\"Pixel Backdoor Attack\",\"orientation\":\"v\",\"showlegend\":false,\"x\":[10,20,30,40,50,60,70,80,90],\"xaxis\":\"x\",\"y\":[0.11169999837875366,0.11289999634027481,0.11739999800920486,0.11710000038146973,0.11749999970197678,0.12880000472068787,0.133200004696846,0.13410000503063202,0.11270000040531158],\"yaxis\":\"y\",\"type\":\"scatter\"},{\"hovertemplate\":\"Attack Type=Pixel Backdoor Attack<br>Dataset=CIFAR10<br>Framework=FedAVG<br>Ratio of Malicious Clients (%)=%{x}<br>Backdoor Task Accuracy=%{y}<extra></extra>\",\"legendgroup\":\"Pixel Backdoor Attack\",\"line\":{\"color\":\"rgb(44, 160, 44)\",\"dash\":\"solid\"},\"marker\":{\"symbol\":\"diamond-open-dot\"},\"mode\":\"markers+lines\",\"name\":\"Pixel Backdoor Attack\",\"orientation\":\"v\",\"showlegend\":false,\"x\":[10,20,30,40,50,60,70,80,90],\"xaxis\":\"x2\",\"y\":[0.9998000264167786,0.9998999834060669,1.0,1.0,1.0,1.0,1.0,1.0,1.0],\"yaxis\":\"y2\",\"type\":\"scatter\"},{\"hovertemplate\":\"Attack Type=Model Replacement Attack<br>Dataset=MNIST<br>Framework=FedSIGN<br>Ratio of Malicious Clients (%)=%{x}<br>Backdoor Task Accuracy=%{y}<extra></extra>\",\"legendgroup\":\"Model Replacement Attack\",\"line\":{\"color\":\"rgb(214, 39, 40)\",\"dash\":\"solid\"},\"marker\":{\"symbol\":\"square-open-dot\"},\"mode\":\"markers+lines\",\"name\":\"Model Replacement Attack\",\"orientation\":\"v\",\"showlegend\":true,\"x\":[10,20,30,40,50,60,70,80,90],\"xaxis\":\"x5\",\"y\":[0.015625,0.171875,0.09375,0.125,0.15625,0.265625,0.09375,0.09375,0.125],\"yaxis\":\"y5\",\"type\":\"scatter\"},{\"hovertemplate\":\"Attack Type=Model Replacement Attack<br>Dataset=MNIST<br>Framework=FedAVG<br>Ratio of Malicious Clients (%)=%{x}<br>Backdoor Task Accuracy=%{y}<extra></extra>\",\"legendgroup\":\"Model Replacement Attack\",\"line\":{\"color\":\"rgb(214, 39, 40)\",\"dash\":\"solid\"},\"marker\":{\"symbol\":\"square-open-dot\"},\"mode\":\"markers+lines\",\"name\":\"Model Replacement Attack\",\"orientation\":\"v\",\"showlegend\":false,\"x\":[10,20,30,40,50,60,70,80,90],\"xaxis\":\"x6\",\"y\":[0.828125,0.96875,1.0,1.0,1.0,1.0,1.0,1.0,1.0],\"yaxis\":\"y6\",\"type\":\"scatter\"},{\"hovertemplate\":\"Attack Type=Model Replacement Attack<br>Dataset=F-MNIST<br>Framework=FedSIGN<br>Ratio of Malicious Clients (%)=%{x}<br>Backdoor Task Accuracy=%{y}<extra></extra>\",\"legendgroup\":\"Model Replacement Attack\",\"line\":{\"color\":\"rgb(214, 39, 40)\",\"dash\":\"solid\"},\"marker\":{\"symbol\":\"square-open-dot\"},\"mode\":\"markers+lines\",\"name\":\"Model Replacement Attack\",\"orientation\":\"v\",\"showlegend\":false,\"x\":[10,20,30,40,50,60,70,80,90],\"xaxis\":\"x3\",\"y\":[0.015625,0.03125,0.09375,0.015625,0.015625,0.03125,0.03125,0.015625,0.0],\"yaxis\":\"y3\",\"type\":\"scatter\"},{\"hovertemplate\":\"Attack Type=Model Replacement Attack<br>Dataset=F-MNIST<br>Framework=FedAVG<br>Ratio of Malicious Clients (%)=%{x}<br>Backdoor Task Accuracy=%{y}<extra></extra>\",\"legendgroup\":\"Model Replacement Attack\",\"line\":{\"color\":\"rgb(214, 39, 40)\",\"dash\":\"solid\"},\"marker\":{\"symbol\":\"square-open-dot\"},\"mode\":\"markers+lines\",\"name\":\"Model Replacement Attack\",\"orientation\":\"v\",\"showlegend\":false,\"x\":[10,20,30,40,50,60,70,80,90],\"xaxis\":\"x4\",\"y\":[0.3125,0.546875,0.875,0.890625,0.96875,0.984375,0.984375,0.984375,0.984375],\"yaxis\":\"y4\",\"type\":\"scatter\"},{\"hovertemplate\":\"Attack Type=Model Replacement Attack<br>Dataset=CIFAR10<br>Framework=FedSIGN<br>Ratio of Malicious Clients (%)=%{x}<br>Backdoor Task Accuracy=%{y}<extra></extra>\",\"legendgroup\":\"Model Replacement Attack\",\"line\":{\"color\":\"rgb(214, 39, 40)\",\"dash\":\"solid\"},\"marker\":{\"symbol\":\"square-open-dot\"},\"mode\":\"markers+lines\",\"name\":\"Model Replacement Attack\",\"orientation\":\"v\",\"showlegend\":false,\"x\":[10,20,30,40,50,60,70,80,90],\"xaxis\":\"x\",\"y\":[0.09375,0.078125,0.09375,0.09375,0.125,0.09375,0.125,0.125,0.125],\"yaxis\":\"y\",\"type\":\"scatter\"},{\"hovertemplate\":\"Attack Type=Model Replacement Attack<br>Dataset=CIFAR10<br>Framework=FedAVG<br>Ratio of Malicious Clients (%)=%{x}<br>Backdoor Task Accuracy=%{y}<extra></extra>\",\"legendgroup\":\"Model Replacement Attack\",\"line\":{\"color\":\"rgb(214, 39, 40)\",\"dash\":\"solid\"},\"marker\":{\"symbol\":\"square-open-dot\"},\"mode\":\"markers+lines\",\"name\":\"Model Replacement Attack\",\"orientation\":\"v\",\"showlegend\":false,\"x\":[10,20,30,40,50,60,70,80,90],\"xaxis\":\"x2\",\"y\":[0.171875,0.25,0.21875,0.34375,0.390625,0.5625,0.546875,0.671875,0.6875],\"yaxis\":\"y2\",\"type\":\"scatter\"}],                        {\"template\":{\"data\":{\"histogram2dcontour\":[{\"type\":\"histogram2dcontour\",\"colorbar\":{\"outlinewidth\":0,\"ticks\":\"\"},\"colorscale\":[[0.0,\"#0d0887\"],[0.1111111111111111,\"#46039f\"],[0.2222222222222222,\"#7201a8\"],[0.3333333333333333,\"#9c179e\"],[0.4444444444444444,\"#bd3786\"],[0.5555555555555556,\"#d8576b\"],[0.6666666666666666,\"#ed7953\"],[0.7777777777777778,\"#fb9f3a\"],[0.8888888888888888,\"#fdca26\"],[1.0,\"#f0f921\"]]}],\"choropleth\":[{\"type\":\"choropleth\",\"colorbar\":{\"outlinewidth\":0,\"ticks\":\"\"}}],\"histogram2d\":[{\"type\":\"histogram2d\",\"colorbar\":{\"outlinewidth\":0,\"ticks\":\"\"},\"colorscale\":[[0.0,\"#0d0887\"],[0.1111111111111111,\"#46039f\"],[0.2222222222222222,\"#7201a8\"],[0.3333333333333333,\"#9c179e\"],[0.4444444444444444,\"#bd3786\"],[0.5555555555555556,\"#d8576b\"],[0.6666666666666666,\"#ed7953\"],[0.7777777777777778,\"#fb9f3a\"],[0.8888888888888888,\"#fdca26\"],[1.0,\"#f0f921\"]]}],\"heatmap\":[{\"type\":\"heatmap\",\"colorbar\":{\"outlinewidth\":0,\"ticks\":\"\"},\"colorscale\":[[0.0,\"#0d0887\"],[0.1111111111111111,\"#46039f\"],[0.2222222222222222,\"#7201a8\"],[0.3333333333333333,\"#9c179e\"],[0.4444444444444444,\"#bd3786\"],[0.5555555555555556,\"#d8576b\"],[0.6666666666666666,\"#ed7953\"],[0.7777777777777778,\"#fb9f3a\"],[0.8888888888888888,\"#fdca26\"],[1.0,\"#f0f921\"]]}],\"heatmapgl\":[{\"type\":\"heatmapgl\",\"colorbar\":{\"outlinewidth\":0,\"ticks\":\"\"},\"colorscale\":[[0.0,\"#0d0887\"],[0.1111111111111111,\"#46039f\"],[0.2222222222222222,\"#7201a8\"],[0.3333333333333333,\"#9c179e\"],[0.4444444444444444,\"#bd3786\"],[0.5555555555555556,\"#d8576b\"],[0.6666666666666666,\"#ed7953\"],[0.7777777777777778,\"#fb9f3a\"],[0.8888888888888888,\"#fdca26\"],[1.0,\"#f0f921\"]]}],\"contourcarpet\":[{\"type\":\"contourcarpet\",\"colorbar\":{\"outlinewidth\":0,\"ticks\":\"\"}}],\"contour\":[{\"type\":\"contour\",\"colorbar\":{\"outlinewidth\":0,\"ticks\":\"\"},\"colorscale\":[[0.0,\"#0d0887\"],[0.1111111111111111,\"#46039f\"],[0.2222222222222222,\"#7201a8\"],[0.3333333333333333,\"#9c179e\"],[0.4444444444444444,\"#bd3786\"],[0.5555555555555556,\"#d8576b\"],[0.6666666666666666,\"#ed7953\"],[0.7777777777777778,\"#fb9f3a\"],[0.8888888888888888,\"#fdca26\"],[1.0,\"#f0f921\"]]}],\"surface\":[{\"type\":\"surface\",\"colorbar\":{\"outlinewidth\":0,\"ticks\":\"\"},\"colorscale\":[[0.0,\"#0d0887\"],[0.1111111111111111,\"#46039f\"],[0.2222222222222222,\"#7201a8\"],[0.3333333333333333,\"#9c179e\"],[0.4444444444444444,\"#bd3786\"],[0.5555555555555556,\"#d8576b\"],[0.6666666666666666,\"#ed7953\"],[0.7777777777777778,\"#fb9f3a\"],[0.8888888888888888,\"#fdca26\"],[1.0,\"#f0f921\"]]}],\"mesh3d\":[{\"type\":\"mesh3d\",\"colorbar\":{\"outlinewidth\":0,\"ticks\":\"\"}}],\"scatter\":[{\"fillpattern\":{\"fillmode\":\"overlay\",\"size\":10,\"solidity\":0.2},\"type\":\"scatter\"}],\"parcoords\":[{\"type\":\"parcoords\",\"line\":{\"colorbar\":{\"outlinewidth\":0,\"ticks\":\"\"}}}],\"scatterpolargl\":[{\"type\":\"scatterpolargl\",\"marker\":{\"colorbar\":{\"outlinewidth\":0,\"ticks\":\"\"}}}],\"bar\":[{\"error_x\":{\"color\":\"#2a3f5f\"},\"error_y\":{\"color\":\"#2a3f5f\"},\"marker\":{\"line\":{\"color\":\"#E5ECF6\",\"width\":0.5},\"pattern\":{\"fillmode\":\"overlay\",\"size\":10,\"solidity\":0.2}},\"type\":\"bar\"}],\"scattergeo\":[{\"type\":\"scattergeo\",\"marker\":{\"colorbar\":{\"outlinewidth\":0,\"ticks\":\"\"}}}],\"scatterpolar\":[{\"type\":\"scatterpolar\",\"marker\":{\"colorbar\":{\"outlinewidth\":0,\"ticks\":\"\"}}}],\"histogram\":[{\"marker\":{\"pattern\":{\"fillmode\":\"overlay\",\"size\":10,\"solidity\":0.2}},\"type\":\"histogram\"}],\"scattergl\":[{\"type\":\"scattergl\",\"marker\":{\"colorbar\":{\"outlinewidth\":0,\"ticks\":\"\"}}}],\"scatter3d\":[{\"type\":\"scatter3d\",\"line\":{\"colorbar\":{\"outlinewidth\":0,\"ticks\":\"\"}},\"marker\":{\"colorbar\":{\"outlinewidth\":0,\"ticks\":\"\"}}}],\"scattermapbox\":[{\"type\":\"scattermapbox\",\"marker\":{\"colorbar\":{\"outlinewidth\":0,\"ticks\":\"\"}}}],\"scatterternary\":[{\"type\":\"scatterternary\",\"marker\":{\"colorbar\":{\"outlinewidth\":0,\"ticks\":\"\"}}}],\"scattercarpet\":[{\"type\":\"scattercarpet\",\"marker\":{\"colorbar\":{\"outlinewidth\":0,\"ticks\":\"\"}}}],\"carpet\":[{\"aaxis\":{\"endlinecolor\":\"#2a3f5f\",\"gridcolor\":\"white\",\"linecolor\":\"white\",\"minorgridcolor\":\"white\",\"startlinecolor\":\"#2a3f5f\"},\"baxis\":{\"endlinecolor\":\"#2a3f5f\",\"gridcolor\":\"white\",\"linecolor\":\"white\",\"minorgridcolor\":\"white\",\"startlinecolor\":\"#2a3f5f\"},\"type\":\"carpet\"}],\"table\":[{\"cells\":{\"fill\":{\"color\":\"#EBF0F8\"},\"line\":{\"color\":\"white\"}},\"header\":{\"fill\":{\"color\":\"#C8D4E3\"},\"line\":{\"color\":\"white\"}},\"type\":\"table\"}],\"barpolar\":[{\"marker\":{\"line\":{\"color\":\"#E5ECF6\",\"width\":0.5},\"pattern\":{\"fillmode\":\"overlay\",\"size\":10,\"solidity\":0.2}},\"type\":\"barpolar\"}],\"pie\":[{\"automargin\":true,\"type\":\"pie\"}]},\"layout\":{\"autotypenumbers\":\"strict\",\"colorway\":[\"#636efa\",\"#EF553B\",\"#00cc96\",\"#ab63fa\",\"#FFA15A\",\"#19d3f3\",\"#FF6692\",\"#B6E880\",\"#FF97FF\",\"#FECB52\"],\"font\":{\"color\":\"#2a3f5f\"},\"hovermode\":\"closest\",\"hoverlabel\":{\"align\":\"left\"},\"paper_bgcolor\":\"white\",\"plot_bgcolor\":\"#E5ECF6\",\"polar\":{\"bgcolor\":\"#E5ECF6\",\"angularaxis\":{\"gridcolor\":\"white\",\"linecolor\":\"white\",\"ticks\":\"\"},\"radialaxis\":{\"gridcolor\":\"white\",\"linecolor\":\"white\",\"ticks\":\"\"}},\"ternary\":{\"bgcolor\":\"#E5ECF6\",\"aaxis\":{\"gridcolor\":\"white\",\"linecolor\":\"white\",\"ticks\":\"\"},\"baxis\":{\"gridcolor\":\"white\",\"linecolor\":\"white\",\"ticks\":\"\"},\"caxis\":{\"gridcolor\":\"white\",\"linecolor\":\"white\",\"ticks\":\"\"}},\"coloraxis\":{\"colorbar\":{\"outlinewidth\":0,\"ticks\":\"\"}},\"colorscale\":{\"sequential\":[[0.0,\"#0d0887\"],[0.1111111111111111,\"#46039f\"],[0.2222222222222222,\"#7201a8\"],[0.3333333333333333,\"#9c179e\"],[0.4444444444444444,\"#bd3786\"],[0.5555555555555556,\"#d8576b\"],[0.6666666666666666,\"#ed7953\"],[0.7777777777777778,\"#fb9f3a\"],[0.8888888888888888,\"#fdca26\"],[1.0,\"#f0f921\"]],\"sequentialminus\":[[0.0,\"#0d0887\"],[0.1111111111111111,\"#46039f\"],[0.2222222222222222,\"#7201a8\"],[0.3333333333333333,\"#9c179e\"],[0.4444444444444444,\"#bd3786\"],[0.5555555555555556,\"#d8576b\"],[0.6666666666666666,\"#ed7953\"],[0.7777777777777778,\"#fb9f3a\"],[0.8888888888888888,\"#fdca26\"],[1.0,\"#f0f921\"]],\"diverging\":[[0,\"#8e0152\"],[0.1,\"#c51b7d\"],[0.2,\"#de77ae\"],[0.3,\"#f1b6da\"],[0.4,\"#fde0ef\"],[0.5,\"#f7f7f7\"],[0.6,\"#e6f5d0\"],[0.7,\"#b8e186\"],[0.8,\"#7fbc41\"],[0.9,\"#4d9221\"],[1,\"#276419\"]]},\"xaxis\":{\"gridcolor\":\"white\",\"linecolor\":\"white\",\"ticks\":\"\",\"title\":{\"standoff\":15},\"zerolinecolor\":\"white\",\"automargin\":true,\"zerolinewidth\":2},\"yaxis\":{\"gridcolor\":\"white\",\"linecolor\":\"white\",\"ticks\":\"\",\"title\":{\"standoff\":15},\"zerolinecolor\":\"white\",\"automargin\":true,\"zerolinewidth\":2},\"scene\":{\"xaxis\":{\"backgroundcolor\":\"#E5ECF6\",\"gridcolor\":\"white\",\"linecolor\":\"white\",\"showbackground\":true,\"ticks\":\"\",\"zerolinecolor\":\"white\",\"gridwidth\":2},\"yaxis\":{\"backgroundcolor\":\"#E5ECF6\",\"gridcolor\":\"white\",\"linecolor\":\"white\",\"showbackground\":true,\"ticks\":\"\",\"zerolinecolor\":\"white\",\"gridwidth\":2},\"zaxis\":{\"backgroundcolor\":\"#E5ECF6\",\"gridcolor\":\"white\",\"linecolor\":\"white\",\"showbackground\":true,\"ticks\":\"\",\"zerolinecolor\":\"white\",\"gridwidth\":2}},\"shapedefaults\":{\"line\":{\"color\":\"#2a3f5f\"}},\"annotationdefaults\":{\"arrowcolor\":\"#2a3f5f\",\"arrowhead\":0,\"arrowwidth\":1},\"geo\":{\"bgcolor\":\"white\",\"landcolor\":\"#E5ECF6\",\"subunitcolor\":\"white\",\"showland\":true,\"showlakes\":true,\"lakecolor\":\"white\"},\"title\":{\"x\":0.05},\"mapbox\":{\"style\":\"light\"}}},\"xaxis\":{\"anchor\":\"y\",\"domain\":[0.0,0.48],\"title\":{\"text\":\"Ratio of Malicious Clients (%)\"},\"tickvals\":[0,10,20,30,40,50,60,70,80,90]},\"yaxis\":{\"anchor\":\"x\",\"domain\":[0.0,0.3133333333333333],\"title\":{\"text\":\"Backdoor Task Accuracy\"}},\"xaxis2\":{\"anchor\":\"y2\",\"domain\":[0.5,0.98],\"matches\":\"x\",\"title\":{\"text\":\"Ratio of Malicious Clients (%)\"},\"tickvals\":[0,10,20,30,40,50,60,70,80,90]},\"yaxis2\":{\"anchor\":\"x2\",\"domain\":[0.0,0.3133333333333333],\"matches\":\"y\",\"showticklabels\":false},\"xaxis3\":{\"anchor\":\"y3\",\"domain\":[0.0,0.48],\"matches\":\"x\",\"showticklabels\":false,\"tickvals\":[0,10,20,30,40,50,60,70,80,90]},\"yaxis3\":{\"anchor\":\"x3\",\"domain\":[0.34333333333333327,0.6566666666666665],\"matches\":\"y\",\"title\":{\"text\":\"Backdoor Task Accuracy\"}},\"xaxis4\":{\"anchor\":\"y4\",\"domain\":[0.5,0.98],\"matches\":\"x\",\"showticklabels\":false,\"tickvals\":[0,10,20,30,40,50,60,70,80,90]},\"yaxis4\":{\"anchor\":\"x4\",\"domain\":[0.34333333333333327,0.6566666666666665],\"matches\":\"y\",\"showticklabels\":false},\"xaxis5\":{\"anchor\":\"y5\",\"domain\":[0.0,0.48],\"matches\":\"x\",\"showticklabels\":false,\"tickvals\":[0,10,20,30,40,50,60,70,80,90]},\"yaxis5\":{\"anchor\":\"x5\",\"domain\":[0.6866666666666665,0.9999999999999998],\"matches\":\"y\",\"title\":{\"text\":\"Backdoor Task Accuracy\"}},\"xaxis6\":{\"anchor\":\"y6\",\"domain\":[0.5,0.98],\"matches\":\"x\",\"showticklabels\":false,\"tickvals\":[0,10,20,30,40,50,60,70,80,90]},\"yaxis6\":{\"anchor\":\"x6\",\"domain\":[0.6866666666666665,0.9999999999999998],\"matches\":\"y\",\"showticklabels\":false},\"annotations\":[{\"font\":{},\"showarrow\":false,\"text\":\"Framework=FedSIGN\",\"x\":0.24,\"xanchor\":\"center\",\"xref\":\"paper\",\"y\":0.9999999999999998,\"yanchor\":\"bottom\",\"yref\":\"paper\"},{\"font\":{},\"showarrow\":false,\"text\":\"Framework=FedAVG\",\"x\":0.74,\"xanchor\":\"center\",\"xref\":\"paper\",\"y\":0.9999999999999998,\"yanchor\":\"bottom\",\"yref\":\"paper\"},{\"font\":{},\"showarrow\":false,\"text\":\"Dataset=CIFAR10\",\"textangle\":90,\"x\":0.98,\"xanchor\":\"left\",\"xref\":\"paper\",\"y\":0.15666666666666665,\"yanchor\":\"middle\",\"yref\":\"paper\"},{\"font\":{},\"showarrow\":false,\"text\":\"Dataset=F-MNIST\",\"textangle\":90,\"x\":0.98,\"xanchor\":\"left\",\"xref\":\"paper\",\"y\":0.4999999999999999,\"yanchor\":\"middle\",\"yref\":\"paper\"},{\"font\":{},\"showarrow\":false,\"text\":\"Dataset=MNIST\",\"textangle\":90,\"x\":0.98,\"xanchor\":\"left\",\"xref\":\"paper\",\"y\":0.8433333333333332,\"yanchor\":\"middle\",\"yref\":\"paper\"}],\"legend\":{\"title\":{\"text\":\"Attack Type\"},\"tracegroupgap\":0,\"orientation\":\"h\",\"y\":1.05},\"margin\":{\"t\":60},\"height\":1000,\"width\":1000},                        {\"responsive\": true}                    ).then(function(){\n",
       "                            \n",
       "var gd = document.getElementById('248c42b4-21f9-4150-9d59-10eebb56fc2a');\n",
       "var x = new MutationObserver(function (mutations, observer) {{\n",
       "        var display = window.getComputedStyle(gd).display;\n",
       "        if (!display || display === 'none') {{\n",
       "            console.log([gd, 'removed!']);\n",
       "            Plotly.purge(gd);\n",
       "            observer.disconnect();\n",
       "        }}\n",
       "}});\n",
       "\n",
       "// Listen for the removal of the full notebook cells\n",
       "var notebookContainer = gd.closest('#notebook-container');\n",
       "if (notebookContainer) {{\n",
       "    x.observe(notebookContainer, {childList: true});\n",
       "}}\n",
       "\n",
       "// Listen for the clearing of the current output cell\n",
       "var outputEl = gd.closest('.output');\n",
       "if (outputEl) {{\n",
       "    x.observe(outputEl, {childList: true});\n",
       "}}\n",
       "\n",
       "                        })                };                });            </script>        </div>"
      ]
     },
     "metadata": {},
     "output_type": "display_data"
    }
   ],
   "source": [
    "colors = plotly.colors.DEFAULT_PLOTLY_COLORS\n",
    "xx = [0,10,20,30,40,50,60,70,80,90]\n",
    "fig = px.line(all_data_backdoor, x=\"Ratio of Malicious Clients (%)\", y=\"Backdoor Task Accuracy\", color='Attack Type',symbol=\"Attack Type\", facet_row='Dataset', facet_col='Framework',\n",
    "                markers=True,symbol_sequence=['diamond-open-dot','square-open-dot'],color_discrete_sequence=colors[2:])\n",
    "fig.update_layout(height=1000,width=1000,legend=dict(orientation=\"h\",y=1.05),)\n",
    "fig.update_xaxes(tickvals=xx)\n",
    "fig.show()\n",
    "fig.write_image('./r_diff_dataset_backdoor.png', scale=4)"
   ]
  },
  {
   "cell_type": "code",
   "execution_count": 52,
   "metadata": {},
   "outputs": [],
   "source": [
    "main_task = list(all_data.groupby(by=['Attack Type','Dataset','Framework']))\n",
    "backdoor_task = list(all_data_backdoor.groupby(by=['Attack Type','Dataset','Framework']))"
   ]
  },
  {
   "cell_type": "code",
   "execution_count": 53,
   "metadata": {},
   "outputs": [
    {
     "name": "stdout",
     "output_type": "stream",
     "text": [
      "This is the format of your plot grid:\n",
      "[ (1,1) x,y     ]  [ (1,2) x2,y2   ]  [ (1,3) x3,y3   ]\n",
      "[ (2,1) x4,y4   ]  [ (2,2) x5,y5   ]  [ (2,3) x6,y6   ]\n",
      "[ (3,1) x7,y7   ]  [ (3,2) x8,y8   ]  [ (3,3) x9,y9   ]\n",
      "[ (4,1) x10,y10 ]  [ (4,2) x11,y11 ]  [ (4,3) x12,y12 ]\n",
      "\n"
     ]
    }
   ],
   "source": [
    "fig = make_subplots(rows=4,cols=3,\n",
    "                    start_cell='top-left',\n",
    "                    print_grid=True,\n",
    "                    # x_title='111',\n",
    "                    horizontal_spacing=0.1,\n",
    "                    vertical_spacing=0.08,\n",
    "                    subplot_titles=\\\n",
    "                            (\"GNA (MNIST)\", \"LFA (MNIST)\", 'PBA (MNIST)', 'MRA (MNIST)',\n",
    "                            \"GNA (F-MNIST)\", \"LFA (F-MNIST)\", 'PBA (F-MNIST)', 'MRA (F-MNIST)',\n",
    "                            \"GNA (CIFAR10)\", \"LFA (CIFAR10)\", 'PBA (CIFAR10)', 'MRA (CIFAR10)',)\n",
    "                            )"
   ]
  },
  {
   "cell_type": "code",
   "execution_count": 172,
   "metadata": {},
   "outputs": [
    {
     "data": {
      "application/vnd.plotly.v1+json": {
       "config": {
        "plotlyServerURL": "https://plot.ly"
       },
       "data": [
        {
         "marker": {
          "color": "rgb(31, 119, 180)",
          "symbol": "diamond-open-dot"
         },
         "name": "FedAVG - Main Task",
         "showlegend": true,
         "type": "scatter",
         "x": [
          10,
          20,
          30,
          40,
          50,
          60,
          70,
          80,
          90
         ],
         "xaxis": "x9",
         "y": [
          0.6348000168800354,
          0.35569998621940613,
          0.22310000658035278,
          0.18369999527931213,
          0.18140000104904175,
          0.10000000149011612,
          0.10000000149011612,
          0.10000000149011612,
          0.10000000149011612
         ],
         "yaxis": "y13"
        },
        {
         "marker": {
          "color": "rgb(255, 127, 14)",
          "symbol": "square-open-dot"
         },
         "name": "FedSIGN - Main Task",
         "showlegend": true,
         "type": "scatter",
         "x": [
          10,
          20,
          30,
          40,
          50,
          60,
          70,
          80,
          90
         ],
         "xaxis": "x9",
         "y": [
          0.7465999722480774,
          0.7451000213623047,
          0.7297000288963318,
          0.717199981212616,
          0.703499972820282,
          0.6852999925613403,
          0.6599000096321106,
          0.6205000281333923,
          0.5468000173568726
         ],
         "yaxis": "y13"
        },
        {
         "marker": {
          "color": "rgb(31, 119, 180)",
          "symbol": "diamond-open-dot"
         },
         "name": "FedAVG - Main Task",
         "showlegend": false,
         "type": "scatter",
         "x": [
          10,
          20,
          30,
          40,
          50,
          60,
          70,
          80,
          90
         ],
         "xaxis": "x5",
         "y": [
          0.7093999981880188,
          0.6862999796867371,
          0.6585999727249146,
          0.10000000149011612,
          0.10000000149011612,
          0.10000000149011612,
          0.10000000149011612,
          0.10000000149011612,
          0.10000000149011612
         ],
         "yaxis": "y7"
        },
        {
         "marker": {
          "color": "rgb(255, 127, 14)",
          "symbol": "square-open-dot"
         },
         "name": "FedSIGN - Main Task",
         "showlegend": false,
         "type": "scatter",
         "x": [
          10,
          20,
          30,
          40,
          50,
          60,
          70,
          80,
          90
         ],
         "xaxis": "x5",
         "y": [
          0.8842999935150146,
          0.8704000115394592,
          0.868399977684021,
          0.8683000206947327,
          0.8719000220298767,
          0.8761000037193298,
          0.8680999875068665,
          0.8629000186920166,
          0.8360999822616577
         ],
         "yaxis": "y7"
        },
        {
         "marker": {
          "color": "rgb(31, 119, 180)",
          "symbol": "diamond-open-dot"
         },
         "name": "FedAVG - Main Task",
         "showlegend": false,
         "type": "scatter",
         "x": [
          10,
          20,
          30,
          40,
          50,
          60,
          70,
          80,
          90
         ],
         "xaxis": "x",
         "y": [
          0.9598000049591064,
          0.9438999891281128,
          0.8992000222206116,
          0.11349999904632568,
          0.11349999904632568,
          0.11349999904632568,
          0.11349999904632568,
          0.11349999904632568,
          0.11349999904632568
         ],
         "yaxis": "y"
        },
        {
         "marker": {
          "color": "rgb(255, 127, 14)",
          "symbol": "square-open-dot"
         },
         "name": "FedSIGN - Main Task",
         "showlegend": false,
         "type": "scatter",
         "x": [
          10,
          20,
          30,
          40,
          50,
          60,
          70,
          80,
          90
         ],
         "xaxis": "x",
         "y": [
          0.9900000095367432,
          0.9889000058174133,
          0.9890999794006348,
          0.9879999756813049,
          0.9884999990463257,
          0.986299991607666,
          0.9858999848365784,
          0.9846000075340271,
          0.9771000146865845
         ],
         "yaxis": "y"
        },
        {
         "marker": {
          "color": "rgb(31, 119, 180)",
          "symbol": "diamond-open-dot"
         },
         "name": "FedAVG - Main Task",
         "showlegend": false,
         "type": "scatter",
         "x": [
          10,
          20,
          30,
          40,
          50,
          60,
          70,
          80,
          90
         ],
         "xaxis": "x10",
         "y": [
          0.7580000162124634,
          0.7508999705314636,
          0.7160999774932861,
          0.7159000039100647,
          0.6650000214576721,
          0.5803999900817871,
          0.4397999942302704,
          0.28139999508857727,
          0.13230000436306
         ],
         "yaxis": "y14"
        },
        {
         "marker": {
          "color": "rgb(255, 127, 14)",
          "symbol": "square-open-dot"
         },
         "name": "FedSIGN - Main Task",
         "showlegend": false,
         "type": "scatter",
         "x": [
          10,
          20,
          30,
          40,
          50,
          60,
          70,
          80,
          90
         ],
         "xaxis": "x10",
         "y": [
          0.7560999989509583,
          0.7419000267982483,
          0.7321000099182129,
          0.7264999747276306,
          0.7071999907493591,
          0.6887000203132629,
          0.6553000211715698,
          0.620199978351593,
          0.5516999959945679
         ],
         "yaxis": "y14"
        },
        {
         "marker": {
          "color": "rgb(31, 119, 180)",
          "symbol": "diamond-open-dot"
         },
         "name": "FedAVG - Main Task",
         "showlegend": false,
         "type": "scatter",
         "x": [
          10,
          20,
          30,
          40,
          50,
          60,
          70,
          80,
          90
         ],
         "xaxis": "x6",
         "y": [
          0.8513000011444092,
          0.8464000225067139,
          0.840499997138977,
          0.8173999786376953,
          0.8187999725341797,
          0.7305999994277954,
          0.2928999960422516,
          0.02239999920129776,
          0.011500000022351742
         ],
         "yaxis": "y8"
        },
        {
         "marker": {
          "color": "rgb(255, 127, 14)",
          "symbol": "square-open-dot"
         },
         "name": "FedSIGN - Main Task",
         "showlegend": false,
         "type": "scatter",
         "x": [
          10,
          20,
          30,
          40,
          50,
          60,
          70,
          80,
          90
         ],
         "xaxis": "x6",
         "y": [
          0.8752999901771545,
          0.8755999803543091,
          0.8711000084877014,
          0.8745999932289124,
          0.8766000270843506,
          0.8586999773979187,
          0.8592000007629395,
          0.850600004196167,
          0.8324999809265137
         ],
         "yaxis": "y8"
        },
        {
         "marker": {
          "color": "rgb(31, 119, 180)",
          "symbol": "diamond-open-dot"
         },
         "name": "FedAVG - Main Task",
         "showlegend": false,
         "type": "scatter",
         "x": [
          10,
          20,
          30,
          40,
          50,
          60,
          70,
          80,
          90
         ],
         "xaxis": "x2",
         "y": [
          0.983299970626831,
          0.9825000166893005,
          0.9812999963760376,
          0.9818999767303467,
          0.9799000024795532,
          0.9593999981880188,
          0.29490000009536743,
          0.0414000004529953,
          0.004600000102072954
         ],
         "yaxis": "y2"
        },
        {
         "marker": {
          "color": "rgb(255, 127, 14)",
          "symbol": "square-open-dot"
         },
         "name": "FedSIGN - Main Task",
         "showlegend": false,
         "type": "scatter",
         "x": [
          10,
          20,
          30,
          40,
          50,
          60,
          70,
          80,
          90
         ],
         "xaxis": "x2",
         "y": [
          0.9902999997138977,
          0.9898999929428101,
          0.9884999990463257,
          0.9865000247955322,
          0.9887999892234802,
          0.9846000075340271,
          0.9854000210762024,
          0.9833999872207642,
          0.973800003528595
         ],
         "yaxis": "y2"
        },
        {
         "marker": {
          "color": "rgb(31, 119, 180)",
          "symbol": "diamond-open-dot"
         },
         "name": "FedAVG - Main Task",
         "showlegend": false,
         "type": "scatter",
         "x": [
          10,
          20,
          30,
          40,
          50,
          60,
          70,
          80,
          90
         ],
         "xaxis": "x12",
         "y": [
          0.7857000231742859,
          0.7796000242233276,
          0.7865999937057495,
          0.7825999855995178,
          0.7847999930381775,
          0.7854999899864197,
          0.7831000089645386,
          0.784600019454956,
          0.7886999845504761
         ],
         "yaxis": "y17"
        },
        {
         "marker": {
          "color": "rgb(255, 127, 14)",
          "symbol": "square-open-dot"
         },
         "name": "FedSIGN - Main Task",
         "showlegend": false,
         "type": "scatter",
         "x": [
          10,
          20,
          30,
          40,
          50,
          60,
          70,
          80,
          90
         ],
         "xaxis": "x12",
         "y": [
          0.7595999836921692,
          0.7376000285148621,
          0.7443000078201294,
          0.7329999804496765,
          0.727400004863739,
          0.7160000205039978,
          0.7163000106811523,
          0.7045999765396118,
          0.6919999718666077
         ],
         "yaxis": "y17"
        },
        {
         "marker": {
          "color": "rgb(31, 119, 180)",
          "symbol": "diamond-open-dot"
         },
         "name": "FedAVG - Main Task",
         "showlegend": false,
         "type": "scatter",
         "x": [
          10,
          20,
          30,
          40,
          50,
          60,
          70,
          80,
          90
         ],
         "xaxis": "x8",
         "y": [
          0.866599977016449,
          0.8675000071525574,
          0.8659999966621399,
          0.8632000088691711,
          0.8651999831199646,
          0.8680999875068665,
          0.8560000061988831,
          0.857200026512146,
          0.8550999760627747
         ],
         "yaxis": "y11"
        },
        {
         "marker": {
          "color": "rgb(255, 127, 14)",
          "symbol": "square-open-dot"
         },
         "name": "FedSIGN - Main Task",
         "showlegend": false,
         "type": "scatter",
         "x": [
          10,
          20,
          30,
          40,
          50,
          60,
          70,
          80,
          90
         ],
         "xaxis": "x8",
         "y": [
          0.878600001335144,
          0.8715000152587891,
          0.866100013256073,
          0.8701000213623047,
          0.869700014591217,
          0.8707000017166138,
          0.8684999942779541,
          0.8733000159263611,
          0.8651999831199646
         ],
         "yaxis": "y11"
        },
        {
         "marker": {
          "color": "rgb(31, 119, 180)",
          "symbol": "diamond-open-dot"
         },
         "name": "FedAVG - Main Task",
         "showlegend": false,
         "type": "scatter",
         "x": [
          10,
          20,
          30,
          40,
          50,
          60,
          70,
          80,
          90
         ],
         "xaxis": "x4",
         "y": [
          0.9879000186920166,
          0.9853000044822693,
          0.9857000112533569,
          0.9858999848365784,
          0.9873999953269958,
          0.987500011920929,
          0.9857000112533569,
          0.9871000051498413,
          0.9855999946594238
         ],
         "yaxis": "y5"
        },
        {
         "marker": {
          "color": "rgb(255, 127, 14)",
          "symbol": "square-open-dot"
         },
         "name": "FedSIGN - Main Task",
         "showlegend": false,
         "type": "scatter",
         "x": [
          10,
          20,
          30,
          40,
          50,
          60,
          70,
          80,
          90
         ],
         "xaxis": "x4",
         "y": [
          0.9908000230789185,
          0.989300012588501,
          0.9896000027656555,
          0.9879000186920166,
          0.9890999794006348,
          0.989799976348877,
          0.9889000058174133,
          0.9869999885559082,
          0.9879000186920166
         ],
         "yaxis": "y5"
        },
        {
         "marker": {
          "color": "rgb(31, 119, 180)",
          "symbol": "diamond-open-dot"
         },
         "name": "FedAVG - Main Task",
         "showlegend": false,
         "type": "scatter",
         "x": [
          10,
          20,
          30,
          40,
          50,
          60,
          70,
          80,
          90
         ],
         "xaxis": "x11",
         "y": [
          0.7785999774932861,
          0.7741000056266785,
          0.7581999897956848,
          0.7480999827384949,
          0.7337999939918518,
          0.7172999978065491,
          0.66839998960495,
          0.607699990272522,
          0.5175999999046326
         ],
         "yaxis": "y15"
        },
        {
         "marker": {
          "color": "rgb(255, 127, 14)",
          "symbol": "square-open-dot"
         },
         "name": "FedSIGN - Main Task",
         "showlegend": false,
         "type": "scatter",
         "x": [
          10,
          20,
          30,
          40,
          50,
          60,
          70,
          80,
          90
         ],
         "xaxis": "x11",
         "y": [
          0.753600001335144,
          0.7432000041007996,
          0.734000027179718,
          0.7210999727249146,
          0.7071999907493591,
          0.6883000135421753,
          0.6607000231742859,
          0.6191999912261963,
          0.5507000088691711
         ],
         "yaxis": "y15"
        },
        {
         "marker": {
          "color": "rgb(31, 119, 180)",
          "symbol": "diamond-open-dot"
         },
         "name": "FedAVG - Main Task",
         "showlegend": false,
         "type": "scatter",
         "x": [
          10,
          20,
          30,
          40,
          50,
          60,
          70,
          80,
          90
         ],
         "xaxis": "x7",
         "y": [
          0.8672000169754028,
          0.8428999781608582,
          0.8339999914169312,
          0.8393999934196472,
          0.8342000246047974,
          0.8274999856948853,
          0.7930999994277954,
          0.781499981880188,
          0.583899974822998
         ],
         "yaxis": "y9"
        },
        {
         "marker": {
          "color": "rgb(255, 127, 14)",
          "symbol": "square-open-dot"
         },
         "name": "FedSIGN - Main Task",
         "showlegend": false,
         "type": "scatter",
         "x": [
          10,
          20,
          30,
          40,
          50,
          60,
          70,
          80,
          90
         ],
         "xaxis": "x7",
         "y": [
          0.8747000098228455,
          0.8722000122070312,
          0.8694999814033508,
          0.8791999816894531,
          0.8693000078201294,
          0.8694000244140625,
          0.8633000254631042,
          0.854200005531311,
          0.8144000172615051
         ],
         "yaxis": "y9"
        },
        {
         "marker": {
          "color": "rgb(31, 119, 180)",
          "symbol": "diamond-open-dot"
         },
         "name": "FedAVG - Main Task",
         "showlegend": false,
         "type": "scatter",
         "x": [
          10,
          20,
          30,
          40,
          50,
          60,
          70,
          80,
          90
         ],
         "xaxis": "x3",
         "y": [
          0.9865000247955322,
          0.9842000007629395,
          0.9825000166893005,
          0.9789999723434448,
          0.9796000123023987,
          0.9731000065803528,
          0.9678999781608582,
          0.9641000032424927,
          0.9047999978065491
         ],
         "yaxis": "y3"
        },
        {
         "marker": {
          "color": "rgb(255, 127, 14)",
          "symbol": "square-open-dot"
         },
         "name": "FedSIGN - Main Task",
         "showlegend": false,
         "type": "scatter",
         "x": [
          10,
          20,
          30,
          40,
          50,
          60,
          70,
          80,
          90
         ],
         "xaxis": "x3",
         "y": [
          0.9909999966621399,
          0.9900000095367432,
          0.9886999726295471,
          0.9904000163078308,
          0.9883000254631042,
          0.9869999885559082,
          0.984499990940094,
          0.9811000227928162,
          0.9746000170707703
         ],
         "yaxis": "y3"
        },
        {
         "marker": {
          "color": "rgb(31, 119, 180)"
         },
         "name": "FedAVG - Backdoor Task",
         "opacity": 0.5,
         "showlegend": true,
         "type": "bar",
         "x": [
          10,
          20,
          30,
          40,
          50,
          60,
          70,
          80,
          90
         ],
         "xaxis": "x12",
         "y": [
          0.171875,
          0.25,
          0.21875,
          0.34375,
          0.390625,
          0.5625,
          0.546875,
          0.671875,
          0.6875
         ],
         "yaxis": "y18"
        },
        {
         "marker": {
          "color": "rgb(255, 127, 14)"
         },
         "name": "FedSIGN - Backdoor Task",
         "opacity": 0.5,
         "showlegend": true,
         "type": "bar",
         "x": [
          10,
          20,
          30,
          40,
          50,
          60,
          70,
          80,
          90
         ],
         "xaxis": "x12",
         "y": [
          0.09375,
          0.078125,
          0.09375,
          0.09375,
          0.125,
          0.09375,
          0.125,
          0.125,
          0.125
         ],
         "yaxis": "y18"
        },
        {
         "marker": {
          "color": "rgb(31, 119, 180)"
         },
         "name": "FedAVG - Backdoor Task",
         "opacity": 0.5,
         "showlegend": false,
         "type": "bar",
         "x": [
          10,
          20,
          30,
          40,
          50,
          60,
          70,
          80,
          90
         ],
         "xaxis": "x8",
         "y": [
          0.3125,
          0.546875,
          0.875,
          0.890625,
          0.96875,
          0.984375,
          0.984375,
          0.984375,
          0.984375
         ],
         "yaxis": "y12"
        },
        {
         "marker": {
          "color": "rgb(255, 127, 14)"
         },
         "name": "FedSIGN - Backdoor Task",
         "opacity": 0.5,
         "showlegend": false,
         "type": "bar",
         "x": [
          10,
          20,
          30,
          40,
          50,
          60,
          70,
          80,
          90
         ],
         "xaxis": "x8",
         "y": [
          0.015625,
          0.03125,
          0.09375,
          0.015625,
          0.015625,
          0.03125,
          0.03125,
          0.015625,
          0
         ],
         "yaxis": "y12"
        },
        {
         "marker": {
          "color": "rgb(31, 119, 180)"
         },
         "name": "FedAVG - Backdoor Task",
         "opacity": 0.5,
         "showlegend": false,
         "type": "bar",
         "x": [
          10,
          20,
          30,
          40,
          50,
          60,
          70,
          80,
          90
         ],
         "xaxis": "x4",
         "y": [
          0.828125,
          0.96875,
          1,
          1,
          1,
          1,
          1,
          1,
          1
         ],
         "yaxis": "y6"
        },
        {
         "marker": {
          "color": "rgb(255, 127, 14)"
         },
         "name": "FedSIGN - Backdoor Task",
         "opacity": 0.5,
         "showlegend": false,
         "type": "bar",
         "x": [
          10,
          20,
          30,
          40,
          50,
          60,
          70,
          80,
          90
         ],
         "xaxis": "x4",
         "y": [
          0.015625,
          0.171875,
          0.09375,
          0.125,
          0.15625,
          0.265625,
          0.09375,
          0.09375,
          0.125
         ],
         "yaxis": "y6"
        },
        {
         "marker": {
          "color": "rgb(31, 119, 180)"
         },
         "name": "FedAVG - Backdoor Task",
         "opacity": 0.5,
         "showlegend": false,
         "type": "bar",
         "x": [
          10,
          20,
          30,
          40,
          50,
          60,
          70,
          80,
          90
         ],
         "xaxis": "x11",
         "y": [
          0.9998000264167786,
          0.9998999834060669,
          1,
          1,
          1,
          1,
          1,
          1,
          1
         ],
         "yaxis": "y16"
        },
        {
         "marker": {
          "color": "rgb(255, 127, 14)"
         },
         "name": "FedSIGN - Backdoor Task",
         "opacity": 0.5,
         "showlegend": false,
         "type": "bar",
         "x": [
          10,
          20,
          30,
          40,
          50,
          60,
          70,
          80,
          90
         ],
         "xaxis": "x11",
         "y": [
          0.11169999837875366,
          0.11289999634027481,
          0.11739999800920486,
          0.11710000038146973,
          0.11749999970197678,
          0.12880000472068787,
          0.133200004696846,
          0.13410000503063202,
          0.11270000040531158
         ],
         "yaxis": "y16"
        },
        {
         "marker": {
          "color": "rgb(31, 119, 180)"
         },
         "name": "FedAVG - Backdoor Task",
         "opacity": 0.5,
         "showlegend": false,
         "type": "bar",
         "x": [
          10,
          20,
          30,
          40,
          50,
          60,
          70,
          80,
          90
         ],
         "xaxis": "x7",
         "y": [
          0.9174000024795532,
          0.9830999970436096,
          0.9861000180244446,
          0.998199999332428,
          0.9972000122070312,
          0.9993000030517578,
          0.9998999834060669,
          1,
          1
         ],
         "yaxis": "y10"
        },
        {
         "marker": {
          "color": "rgb(255, 127, 14)"
         },
         "name": "FedSIGN - Backdoor Task",
         "opacity": 0.5,
         "showlegend": false,
         "type": "bar",
         "x": [
          10,
          20,
          30,
          40,
          50,
          60,
          70,
          80,
          90
         ],
         "xaxis": "x7",
         "y": [
          0.09799999743700027,
          0.09830000251531601,
          0.09809999912977219,
          0.09799999743700027,
          0.09790000319480896,
          0.09809999912977219,
          0.0982000008225441,
          0.09780000150203705,
          0.09989999979734421
         ],
         "yaxis": "y10"
        },
        {
         "marker": {
          "color": "rgb(31, 119, 180)"
         },
         "name": "FedAVG - Backdoor Task",
         "opacity": 0.5,
         "showlegend": false,
         "type": "bar",
         "x": [
          10,
          20,
          30,
          40,
          50,
          60,
          70,
          80,
          90
         ],
         "xaxis": "x3",
         "y": [
          0.9851999878883362,
          0.9944000244140625,
          0.9995999932289124,
          0.9998999834060669,
          1,
          1,
          1,
          1,
          1
         ],
         "yaxis": "y4"
        },
        {
         "marker": {
          "color": "rgb(255, 127, 14)"
         },
         "name": "FedSIGN - Backdoor Task",
         "opacity": 0.5,
         "showlegend": false,
         "type": "bar",
         "x": [
          10,
          20,
          30,
          40,
          50,
          60,
          70,
          80,
          90
         ],
         "xaxis": "x3",
         "y": [
          0.11410000175237656,
          0.11420000344514847,
          0.11410000175237656,
          0.11460000276565552,
          0.1143999993801117,
          0.11389999836683273,
          0.1136000007390976,
          0.1136000007390976,
          0.11379999667406082
         ],
         "yaxis": "y4"
        }
       ],
       "layout": {
        "annotations": [
         {
          "font": {
           "size": 16
          },
          "showarrow": false,
          "text": "GNA (MNIST)",
          "x": 0.09125,
          "xanchor": "center",
          "xref": "paper",
          "y": 1,
          "yanchor": "bottom",
          "yref": "paper"
         },
         {
          "font": {
           "size": 16
          },
          "showarrow": false,
          "text": "LFA (MNIST)",
          "x": 0.34375,
          "xanchor": "center",
          "xref": "paper",
          "y": 1,
          "yanchor": "bottom",
          "yref": "paper"
         },
         {
          "font": {
           "size": 16
          },
          "showarrow": false,
          "text": "PBA (MNIST)",
          "x": 0.59625,
          "xanchor": "center",
          "xref": "paper",
          "y": 1,
          "yanchor": "bottom",
          "yref": "paper"
         },
         {
          "font": {
           "size": 16
          },
          "showarrow": false,
          "text": "MRA (MNIST)",
          "x": 0.8487500000000001,
          "xanchor": "center",
          "xref": "paper",
          "y": 1,
          "yanchor": "bottom",
          "yref": "paper"
         },
         {
          "font": {
           "size": 16
          },
          "showarrow": false,
          "text": "GNA (F-MNIST)",
          "x": 0.09125,
          "xanchor": "center",
          "xref": "paper",
          "y": 0.6333333333333333,
          "yanchor": "bottom",
          "yref": "paper"
         },
         {
          "font": {
           "size": 16
          },
          "showarrow": false,
          "text": "LFA (F-MNIST)",
          "x": 0.34375,
          "xanchor": "center",
          "xref": "paper",
          "y": 0.6333333333333333,
          "yanchor": "bottom",
          "yref": "paper"
         },
         {
          "font": {
           "size": 16
          },
          "showarrow": false,
          "text": "PBA (F-MNIST)",
          "x": 0.59625,
          "xanchor": "center",
          "xref": "paper",
          "y": 0.6333333333333333,
          "yanchor": "bottom",
          "yref": "paper"
         },
         {
          "font": {
           "size": 16
          },
          "showarrow": false,
          "text": "MRA (F-MNIST)",
          "x": 0.8487500000000001,
          "xanchor": "center",
          "xref": "paper",
          "y": 0.6333333333333333,
          "yanchor": "bottom",
          "yref": "paper"
         },
         {
          "font": {
           "size": 16
          },
          "showarrow": false,
          "text": "GNA (CIFAR10)",
          "x": 0.09125,
          "xanchor": "center",
          "xref": "paper",
          "y": 0.26666666666666666,
          "yanchor": "bottom",
          "yref": "paper"
         },
         {
          "font": {
           "size": 16
          },
          "showarrow": false,
          "text": "LFA (CIFAR10)",
          "x": 0.34375,
          "xanchor": "center",
          "xref": "paper",
          "y": 0.26666666666666666,
          "yanchor": "bottom",
          "yref": "paper"
         },
         {
          "font": {
           "size": 16
          },
          "showarrow": false,
          "text": "PBA (CIFAR10)",
          "x": 0.59625,
          "xanchor": "center",
          "xref": "paper",
          "y": 0.26666666666666666,
          "yanchor": "bottom",
          "yref": "paper"
         },
         {
          "font": {
           "size": 16
          },
          "showarrow": false,
          "text": "MRA (CIFAR10)",
          "x": 0.8487500000000001,
          "xanchor": "center",
          "xref": "paper",
          "y": 0.26666666666666666,
          "yanchor": "bottom",
          "yref": "paper"
         }
        ],
        "height": 1300,
        "legend": {
         "font": {
          "size": 18
         },
         "orientation": "h",
         "x": 0.5,
         "xanchor": "center",
         "y": 1.04,
         "yanchor": "bottom"
        },
        "margin": {
         "b": 0,
         "l": 100,
         "r": 0,
         "t": 0
        },
        "template": {
         "data": {
          "bar": [
           {
            "error_x": {
             "color": "#2a3f5f"
            },
            "error_y": {
             "color": "#2a3f5f"
            },
            "marker": {
             "line": {
              "color": "#E5ECF6",
              "width": 0.5
             },
             "pattern": {
              "fillmode": "overlay",
              "size": 10,
              "solidity": 0.2
             }
            },
            "type": "bar"
           }
          ],
          "barpolar": [
           {
            "marker": {
             "line": {
              "color": "#E5ECF6",
              "width": 0.5
             },
             "pattern": {
              "fillmode": "overlay",
              "size": 10,
              "solidity": 0.2
             }
            },
            "type": "barpolar"
           }
          ],
          "carpet": [
           {
            "aaxis": {
             "endlinecolor": "#2a3f5f",
             "gridcolor": "white",
             "linecolor": "white",
             "minorgridcolor": "white",
             "startlinecolor": "#2a3f5f"
            },
            "baxis": {
             "endlinecolor": "#2a3f5f",
             "gridcolor": "white",
             "linecolor": "white",
             "minorgridcolor": "white",
             "startlinecolor": "#2a3f5f"
            },
            "type": "carpet"
           }
          ],
          "choropleth": [
           {
            "colorbar": {
             "outlinewidth": 0,
             "ticks": ""
            },
            "type": "choropleth"
           }
          ],
          "contour": [
           {
            "colorbar": {
             "outlinewidth": 0,
             "ticks": ""
            },
            "colorscale": [
             [
              0,
              "#0d0887"
             ],
             [
              0.1111111111111111,
              "#46039f"
             ],
             [
              0.2222222222222222,
              "#7201a8"
             ],
             [
              0.3333333333333333,
              "#9c179e"
             ],
             [
              0.4444444444444444,
              "#bd3786"
             ],
             [
              0.5555555555555556,
              "#d8576b"
             ],
             [
              0.6666666666666666,
              "#ed7953"
             ],
             [
              0.7777777777777778,
              "#fb9f3a"
             ],
             [
              0.8888888888888888,
              "#fdca26"
             ],
             [
              1,
              "#f0f921"
             ]
            ],
            "type": "contour"
           }
          ],
          "contourcarpet": [
           {
            "colorbar": {
             "outlinewidth": 0,
             "ticks": ""
            },
            "type": "contourcarpet"
           }
          ],
          "heatmap": [
           {
            "colorbar": {
             "outlinewidth": 0,
             "ticks": ""
            },
            "colorscale": [
             [
              0,
              "#0d0887"
             ],
             [
              0.1111111111111111,
              "#46039f"
             ],
             [
              0.2222222222222222,
              "#7201a8"
             ],
             [
              0.3333333333333333,
              "#9c179e"
             ],
             [
              0.4444444444444444,
              "#bd3786"
             ],
             [
              0.5555555555555556,
              "#d8576b"
             ],
             [
              0.6666666666666666,
              "#ed7953"
             ],
             [
              0.7777777777777778,
              "#fb9f3a"
             ],
             [
              0.8888888888888888,
              "#fdca26"
             ],
             [
              1,
              "#f0f921"
             ]
            ],
            "type": "heatmap"
           }
          ],
          "heatmapgl": [
           {
            "colorbar": {
             "outlinewidth": 0,
             "ticks": ""
            },
            "colorscale": [
             [
              0,
              "#0d0887"
             ],
             [
              0.1111111111111111,
              "#46039f"
             ],
             [
              0.2222222222222222,
              "#7201a8"
             ],
             [
              0.3333333333333333,
              "#9c179e"
             ],
             [
              0.4444444444444444,
              "#bd3786"
             ],
             [
              0.5555555555555556,
              "#d8576b"
             ],
             [
              0.6666666666666666,
              "#ed7953"
             ],
             [
              0.7777777777777778,
              "#fb9f3a"
             ],
             [
              0.8888888888888888,
              "#fdca26"
             ],
             [
              1,
              "#f0f921"
             ]
            ],
            "type": "heatmapgl"
           }
          ],
          "histogram": [
           {
            "marker": {
             "pattern": {
              "fillmode": "overlay",
              "size": 10,
              "solidity": 0.2
             }
            },
            "type": "histogram"
           }
          ],
          "histogram2d": [
           {
            "colorbar": {
             "outlinewidth": 0,
             "ticks": ""
            },
            "colorscale": [
             [
              0,
              "#0d0887"
             ],
             [
              0.1111111111111111,
              "#46039f"
             ],
             [
              0.2222222222222222,
              "#7201a8"
             ],
             [
              0.3333333333333333,
              "#9c179e"
             ],
             [
              0.4444444444444444,
              "#bd3786"
             ],
             [
              0.5555555555555556,
              "#d8576b"
             ],
             [
              0.6666666666666666,
              "#ed7953"
             ],
             [
              0.7777777777777778,
              "#fb9f3a"
             ],
             [
              0.8888888888888888,
              "#fdca26"
             ],
             [
              1,
              "#f0f921"
             ]
            ],
            "type": "histogram2d"
           }
          ],
          "histogram2dcontour": [
           {
            "colorbar": {
             "outlinewidth": 0,
             "ticks": ""
            },
            "colorscale": [
             [
              0,
              "#0d0887"
             ],
             [
              0.1111111111111111,
              "#46039f"
             ],
             [
              0.2222222222222222,
              "#7201a8"
             ],
             [
              0.3333333333333333,
              "#9c179e"
             ],
             [
              0.4444444444444444,
              "#bd3786"
             ],
             [
              0.5555555555555556,
              "#d8576b"
             ],
             [
              0.6666666666666666,
              "#ed7953"
             ],
             [
              0.7777777777777778,
              "#fb9f3a"
             ],
             [
              0.8888888888888888,
              "#fdca26"
             ],
             [
              1,
              "#f0f921"
             ]
            ],
            "type": "histogram2dcontour"
           }
          ],
          "mesh3d": [
           {
            "colorbar": {
             "outlinewidth": 0,
             "ticks": ""
            },
            "type": "mesh3d"
           }
          ],
          "parcoords": [
           {
            "line": {
             "colorbar": {
              "outlinewidth": 0,
              "ticks": ""
             }
            },
            "type": "parcoords"
           }
          ],
          "pie": [
           {
            "automargin": true,
            "type": "pie"
           }
          ],
          "scatter": [
           {
            "fillpattern": {
             "fillmode": "overlay",
             "size": 10,
             "solidity": 0.2
            },
            "type": "scatter"
           }
          ],
          "scatter3d": [
           {
            "line": {
             "colorbar": {
              "outlinewidth": 0,
              "ticks": ""
             }
            },
            "marker": {
             "colorbar": {
              "outlinewidth": 0,
              "ticks": ""
             }
            },
            "type": "scatter3d"
           }
          ],
          "scattercarpet": [
           {
            "marker": {
             "colorbar": {
              "outlinewidth": 0,
              "ticks": ""
             }
            },
            "type": "scattercarpet"
           }
          ],
          "scattergeo": [
           {
            "marker": {
             "colorbar": {
              "outlinewidth": 0,
              "ticks": ""
             }
            },
            "type": "scattergeo"
           }
          ],
          "scattergl": [
           {
            "marker": {
             "colorbar": {
              "outlinewidth": 0,
              "ticks": ""
             }
            },
            "type": "scattergl"
           }
          ],
          "scattermapbox": [
           {
            "marker": {
             "colorbar": {
              "outlinewidth": 0,
              "ticks": ""
             }
            },
            "type": "scattermapbox"
           }
          ],
          "scatterpolar": [
           {
            "marker": {
             "colorbar": {
              "outlinewidth": 0,
              "ticks": ""
             }
            },
            "type": "scatterpolar"
           }
          ],
          "scatterpolargl": [
           {
            "marker": {
             "colorbar": {
              "outlinewidth": 0,
              "ticks": ""
             }
            },
            "type": "scatterpolargl"
           }
          ],
          "scatterternary": [
           {
            "marker": {
             "colorbar": {
              "outlinewidth": 0,
              "ticks": ""
             }
            },
            "type": "scatterternary"
           }
          ],
          "surface": [
           {
            "colorbar": {
             "outlinewidth": 0,
             "ticks": ""
            },
            "colorscale": [
             [
              0,
              "#0d0887"
             ],
             [
              0.1111111111111111,
              "#46039f"
             ],
             [
              0.2222222222222222,
              "#7201a8"
             ],
             [
              0.3333333333333333,
              "#9c179e"
             ],
             [
              0.4444444444444444,
              "#bd3786"
             ],
             [
              0.5555555555555556,
              "#d8576b"
             ],
             [
              0.6666666666666666,
              "#ed7953"
             ],
             [
              0.7777777777777778,
              "#fb9f3a"
             ],
             [
              0.8888888888888888,
              "#fdca26"
             ],
             [
              1,
              "#f0f921"
             ]
            ],
            "type": "surface"
           }
          ],
          "table": [
           {
            "cells": {
             "fill": {
              "color": "#EBF0F8"
             },
             "line": {
              "color": "white"
             }
            },
            "header": {
             "fill": {
              "color": "#C8D4E3"
             },
             "line": {
              "color": "white"
             }
            },
            "type": "table"
           }
          ]
         },
         "layout": {
          "annotationdefaults": {
           "arrowcolor": "#2a3f5f",
           "arrowhead": 0,
           "arrowwidth": 1
          },
          "autotypenumbers": "strict",
          "coloraxis": {
           "colorbar": {
            "outlinewidth": 0,
            "ticks": ""
           }
          },
          "colorscale": {
           "diverging": [
            [
             0,
             "#8e0152"
            ],
            [
             0.1,
             "#c51b7d"
            ],
            [
             0.2,
             "#de77ae"
            ],
            [
             0.3,
             "#f1b6da"
            ],
            [
             0.4,
             "#fde0ef"
            ],
            [
             0.5,
             "#f7f7f7"
            ],
            [
             0.6,
             "#e6f5d0"
            ],
            [
             0.7,
             "#b8e186"
            ],
            [
             0.8,
             "#7fbc41"
            ],
            [
             0.9,
             "#4d9221"
            ],
            [
             1,
             "#276419"
            ]
           ],
           "sequential": [
            [
             0,
             "#0d0887"
            ],
            [
             0.1111111111111111,
             "#46039f"
            ],
            [
             0.2222222222222222,
             "#7201a8"
            ],
            [
             0.3333333333333333,
             "#9c179e"
            ],
            [
             0.4444444444444444,
             "#bd3786"
            ],
            [
             0.5555555555555556,
             "#d8576b"
            ],
            [
             0.6666666666666666,
             "#ed7953"
            ],
            [
             0.7777777777777778,
             "#fb9f3a"
            ],
            [
             0.8888888888888888,
             "#fdca26"
            ],
            [
             1,
             "#f0f921"
            ]
           ],
           "sequentialminus": [
            [
             0,
             "#0d0887"
            ],
            [
             0.1111111111111111,
             "#46039f"
            ],
            [
             0.2222222222222222,
             "#7201a8"
            ],
            [
             0.3333333333333333,
             "#9c179e"
            ],
            [
             0.4444444444444444,
             "#bd3786"
            ],
            [
             0.5555555555555556,
             "#d8576b"
            ],
            [
             0.6666666666666666,
             "#ed7953"
            ],
            [
             0.7777777777777778,
             "#fb9f3a"
            ],
            [
             0.8888888888888888,
             "#fdca26"
            ],
            [
             1,
             "#f0f921"
            ]
           ]
          },
          "colorway": [
           "#636efa",
           "#EF553B",
           "#00cc96",
           "#ab63fa",
           "#FFA15A",
           "#19d3f3",
           "#FF6692",
           "#B6E880",
           "#FF97FF",
           "#FECB52"
          ],
          "font": {
           "color": "#2a3f5f"
          },
          "geo": {
           "bgcolor": "white",
           "lakecolor": "white",
           "landcolor": "#E5ECF6",
           "showlakes": true,
           "showland": true,
           "subunitcolor": "white"
          },
          "hoverlabel": {
           "align": "left"
          },
          "hovermode": "closest",
          "mapbox": {
           "style": "light"
          },
          "paper_bgcolor": "white",
          "plot_bgcolor": "#E5ECF6",
          "polar": {
           "angularaxis": {
            "gridcolor": "white",
            "linecolor": "white",
            "ticks": ""
           },
           "bgcolor": "#E5ECF6",
           "radialaxis": {
            "gridcolor": "white",
            "linecolor": "white",
            "ticks": ""
           }
          },
          "scene": {
           "xaxis": {
            "backgroundcolor": "#E5ECF6",
            "gridcolor": "white",
            "gridwidth": 2,
            "linecolor": "white",
            "showbackground": true,
            "ticks": "",
            "zerolinecolor": "white"
           },
           "yaxis": {
            "backgroundcolor": "#E5ECF6",
            "gridcolor": "white",
            "gridwidth": 2,
            "linecolor": "white",
            "showbackground": true,
            "ticks": "",
            "zerolinecolor": "white"
           },
           "zaxis": {
            "backgroundcolor": "#E5ECF6",
            "gridcolor": "white",
            "gridwidth": 2,
            "linecolor": "white",
            "showbackground": true,
            "ticks": "",
            "zerolinecolor": "white"
           }
          },
          "shapedefaults": {
           "line": {
            "color": "#2a3f5f"
           }
          },
          "ternary": {
           "aaxis": {
            "gridcolor": "white",
            "linecolor": "white",
            "ticks": ""
           },
           "baxis": {
            "gridcolor": "white",
            "linecolor": "white",
            "ticks": ""
           },
           "bgcolor": "#E5ECF6",
           "caxis": {
            "gridcolor": "white",
            "linecolor": "white",
            "ticks": ""
           }
          },
          "title": {
           "x": 0.05
          },
          "xaxis": {
           "automargin": true,
           "gridcolor": "white",
           "linecolor": "white",
           "ticks": "",
           "title": {
            "standoff": 15
           },
           "zerolinecolor": "white",
           "zerolinewidth": 2
          },
          "yaxis": {
           "automargin": true,
           "gridcolor": "white",
           "linecolor": "white",
           "ticks": "",
           "title": {
            "standoff": 15
           },
           "zerolinecolor": "white",
           "zerolinewidth": 2
          }
         }
        },
        "width": 2000,
        "xaxis": {
         "anchor": "y",
         "domain": [
          0,
          0.1825
         ],
         "tickfont": {
          "size": 13
         },
         "tickvals": [
          0,
          10,
          20,
          30,
          40,
          50,
          60,
          70,
          80,
          90,
          100
         ],
         "title": {
          "font": {
           "size": 18
          },
          "text": "Ratio of Malicious Clients (%)"
         }
        },
        "xaxis10": {
         "anchor": "y14",
         "domain": [
          0.2525,
          0.435
         ],
         "tickfont": {
          "size": 13
         },
         "tickvals": [
          0,
          10,
          20,
          30,
          40,
          50,
          60,
          70,
          80,
          90,
          100
         ],
         "title": {
          "font": {
           "size": 18
          },
          "text": "Ratio of Malicious Clients (%)"
         }
        },
        "xaxis11": {
         "anchor": "y15",
         "domain": [
          0.505,
          0.6875
         ],
         "tickfont": {
          "size": 13
         },
         "tickvals": [
          0,
          10,
          20,
          30,
          40,
          50,
          60,
          70,
          80,
          90,
          100
         ],
         "title": {
          "font": {
           "size": 18
          },
          "text": "Ratio of Malicious Clients (%)"
         }
        },
        "xaxis12": {
         "anchor": "y17",
         "domain": [
          0.7575000000000001,
          0.9400000000000001
         ],
         "tickfont": {
          "size": 13
         },
         "tickvals": [
          0,
          10,
          20,
          30,
          40,
          50,
          60,
          70,
          80,
          90,
          100
         ],
         "title": {
          "font": {
           "size": 18
          },
          "text": "Ratio of Malicious Clients (%)"
         }
        },
        "xaxis2": {
         "anchor": "y2",
         "domain": [
          0.2525,
          0.435
         ],
         "tickfont": {
          "size": 13
         },
         "tickvals": [
          0,
          10,
          20,
          30,
          40,
          50,
          60,
          70,
          80,
          90,
          100
         ],
         "title": {
          "font": {
           "size": 18
          },
          "text": "Ratio of Malicious Clients (%)"
         }
        },
        "xaxis3": {
         "anchor": "y3",
         "domain": [
          0.505,
          0.6875
         ],
         "tickfont": {
          "size": 13
         },
         "tickvals": [
          0,
          10,
          20,
          30,
          40,
          50,
          60,
          70,
          80,
          90,
          100
         ],
         "title": {
          "font": {
           "size": 18
          },
          "text": "Ratio of Malicious Clients (%)"
         }
        },
        "xaxis4": {
         "anchor": "y5",
         "domain": [
          0.7575000000000001,
          0.9400000000000001
         ],
         "tickfont": {
          "size": 13
         },
         "tickvals": [
          0,
          10,
          20,
          30,
          40,
          50,
          60,
          70,
          80,
          90,
          100
         ],
         "title": {
          "font": {
           "size": 18
          },
          "text": "Ratio of Malicious Clients (%)"
         }
        },
        "xaxis5": {
         "anchor": "y7",
         "domain": [
          0,
          0.1825
         ],
         "tickfont": {
          "size": 13
         },
         "tickvals": [
          0,
          10,
          20,
          30,
          40,
          50,
          60,
          70,
          80,
          90,
          100
         ],
         "title": {
          "font": {
           "size": 18
          },
          "text": "Ratio of Malicious Clients (%)"
         }
        },
        "xaxis6": {
         "anchor": "y8",
         "domain": [
          0.2525,
          0.435
         ],
         "tickfont": {
          "size": 13
         },
         "tickvals": [
          0,
          10,
          20,
          30,
          40,
          50,
          60,
          70,
          80,
          90,
          100
         ],
         "title": {
          "font": {
           "size": 18
          },
          "text": "Ratio of Malicious Clients (%)"
         }
        },
        "xaxis7": {
         "anchor": "y9",
         "domain": [
          0.505,
          0.6875
         ],
         "tickfont": {
          "size": 13
         },
         "tickvals": [
          0,
          10,
          20,
          30,
          40,
          50,
          60,
          70,
          80,
          90,
          100
         ],
         "title": {
          "font": {
           "size": 18
          },
          "text": "Ratio of Malicious Clients (%)"
         }
        },
        "xaxis8": {
         "anchor": "y11",
         "domain": [
          0.7575000000000001,
          0.9400000000000001
         ],
         "tickfont": {
          "size": 13
         },
         "tickvals": [
          0,
          10,
          20,
          30,
          40,
          50,
          60,
          70,
          80,
          90,
          100
         ],
         "title": {
          "font": {
           "size": 18
          },
          "text": "Ratio of Malicious Clients (%)"
         }
        },
        "xaxis9": {
         "anchor": "y13",
         "domain": [
          0,
          0.1825
         ],
         "tickfont": {
          "size": 13
         },
         "tickvals": [
          0,
          10,
          20,
          30,
          40,
          50,
          60,
          70,
          80,
          90,
          100
         ],
         "title": {
          "font": {
           "size": 18
          },
          "text": "Ratio of Malicious Clients (%)"
         }
        },
        "yaxis": {
         "anchor": "x",
         "domain": [
          0.7333333333333334,
          1
         ],
         "range": [
          0,
          1
         ],
         "tickvals": [
          0,
          0.1,
          0.2,
          0.3,
          0.4,
          0.5,
          0.6,
          0.7,
          0.8,
          0.9,
          1
         ],
         "title": {
          "font": {
           "size": 18
          },
          "standoff": 3,
          "text": "Main Task Accuary"
         }
        },
        "yaxis10": {
         "anchor": "x7",
         "overlaying": "y9",
         "side": "right",
         "title": {
          "font": {
           "size": 18
          },
          "standoff": 5,
          "text": "Backdoor Task Accuary"
         }
        },
        "yaxis11": {
         "anchor": "x8",
         "domain": [
          0.3666666666666667,
          0.6333333333333333
         ],
         "range": [
          0,
          1
         ],
         "tickvals": [
          0,
          0.1,
          0.2,
          0.3,
          0.4,
          0.5,
          0.6,
          0.7,
          0.8,
          0.9,
          1
         ],
         "title": {
          "font": {
           "size": 18
          },
          "standoff": 3,
          "text": "Main Task Accuary"
         }
        },
        "yaxis12": {
         "anchor": "x8",
         "overlaying": "y11",
         "side": "right",
         "title": {
          "font": {
           "size": 18
          },
          "standoff": 5,
          "text": "Backdoor Task Accuary"
         }
        },
        "yaxis13": {
         "anchor": "x9",
         "domain": [
          0,
          0.26666666666666666
         ],
         "range": [
          0,
          1
         ],
         "tickvals": [
          0,
          0.1,
          0.2,
          0.3,
          0.4,
          0.5,
          0.6,
          0.7,
          0.8,
          0.9,
          1
         ],
         "title": {
          "font": {
           "size": 18
          },
          "standoff": 3,
          "text": "Main Task Accuary"
         }
        },
        "yaxis14": {
         "anchor": "x10",
         "domain": [
          0,
          0.26666666666666666
         ],
         "range": [
          0,
          1
         ],
         "tickvals": [
          0,
          0.1,
          0.2,
          0.3,
          0.4,
          0.5,
          0.6,
          0.7,
          0.8,
          0.9,
          1
         ],
         "title": {
          "font": {
           "size": 18
          },
          "standoff": 3,
          "text": "Main Task Accuary"
         }
        },
        "yaxis15": {
         "anchor": "x11",
         "domain": [
          0,
          0.26666666666666666
         ],
         "range": [
          0,
          1
         ],
         "tickvals": [
          0,
          0.1,
          0.2,
          0.3,
          0.4,
          0.5,
          0.6,
          0.7,
          0.8,
          0.9,
          1
         ],
         "title": {
          "font": {
           "size": 18
          },
          "standoff": 3,
          "text": "Main Task Accuary"
         }
        },
        "yaxis16": {
         "anchor": "x11",
         "overlaying": "y15",
         "side": "right",
         "title": {
          "font": {
           "size": 18
          },
          "standoff": 5,
          "text": "Backdoor Task Accuary"
         }
        },
        "yaxis17": {
         "anchor": "x12",
         "domain": [
          0,
          0.26666666666666666
         ],
         "range": [
          0,
          1
         ],
         "tickvals": [
          0,
          0.1,
          0.2,
          0.3,
          0.4,
          0.5,
          0.6,
          0.7,
          0.8,
          0.9,
          1
         ],
         "title": {
          "font": {
           "size": 18
          },
          "standoff": 3,
          "text": "Main Task Accuary"
         }
        },
        "yaxis18": {
         "anchor": "x12",
         "overlaying": "y17",
         "side": "right",
         "title": {
          "font": {
           "size": 18
          },
          "standoff": 5,
          "text": "Backdoor Task Accuary"
         }
        },
        "yaxis2": {
         "anchor": "x2",
         "domain": [
          0.7333333333333334,
          1
         ],
         "range": [
          0,
          1
         ],
         "tickvals": [
          0,
          0.1,
          0.2,
          0.3,
          0.4,
          0.5,
          0.6,
          0.7,
          0.8,
          0.9,
          1
         ],
         "title": {
          "font": {
           "size": 18
          },
          "standoff": 3,
          "text": "Main Task Accuary"
         }
        },
        "yaxis3": {
         "anchor": "x3",
         "domain": [
          0.7333333333333334,
          1
         ],
         "range": [
          0,
          1
         ],
         "tickvals": [
          0,
          0.1,
          0.2,
          0.3,
          0.4,
          0.5,
          0.6,
          0.7,
          0.8,
          0.9,
          1
         ],
         "title": {
          "font": {
           "size": 18
          },
          "standoff": 3,
          "text": "Main Task Accuary"
         }
        },
        "yaxis4": {
         "anchor": "x3",
         "overlaying": "y3",
         "side": "right",
         "title": {
          "font": {
           "size": 18
          },
          "standoff": 5,
          "text": "Backdoor Task Accuary"
         }
        },
        "yaxis5": {
         "anchor": "x4",
         "domain": [
          0.7333333333333334,
          1
         ],
         "range": [
          0,
          1
         ],
         "tickvals": [
          0,
          0.1,
          0.2,
          0.3,
          0.4,
          0.5,
          0.6,
          0.7,
          0.8,
          0.9,
          1
         ],
         "title": {
          "font": {
           "size": 18
          },
          "standoff": 3,
          "text": "Main Task Accuary"
         }
        },
        "yaxis6": {
         "anchor": "x4",
         "overlaying": "y5",
         "side": "right",
         "title": {
          "font": {
           "size": 18
          },
          "standoff": 5,
          "text": "Backdoor Task Accuary"
         }
        },
        "yaxis7": {
         "anchor": "x5",
         "domain": [
          0.3666666666666667,
          0.6333333333333333
         ],
         "range": [
          0,
          1
         ],
         "tickvals": [
          0,
          0.1,
          0.2,
          0.3,
          0.4,
          0.5,
          0.6,
          0.7,
          0.8,
          0.9,
          1
         ],
         "title": {
          "font": {
           "size": 18
          },
          "standoff": 3,
          "text": "Main Task Accuary"
         }
        },
        "yaxis8": {
         "anchor": "x6",
         "domain": [
          0.3666666666666667,
          0.6333333333333333
         ],
         "range": [
          0,
          1
         ],
         "tickvals": [
          0,
          0.1,
          0.2,
          0.3,
          0.4,
          0.5,
          0.6,
          0.7,
          0.8,
          0.9,
          1
         ],
         "title": {
          "font": {
           "size": 18
          },
          "standoff": 3,
          "text": "Main Task Accuary"
         }
        },
        "yaxis9": {
         "anchor": "x7",
         "domain": [
          0.3666666666666667,
          0.6333333333333333
         ],
         "range": [
          0,
          1
         ],
         "tickvals": [
          0,
          0.1,
          0.2,
          0.3,
          0.4,
          0.5,
          0.6,
          0.7,
          0.8,
          0.9,
          1
         ],
         "title": {
          "font": {
           "size": 18
          },
          "standoff": 3,
          "text": "Main Task Accuary"
         }
        }
       }
      },
      "text/html": [
       "<div>                            <div id=\"a1f7e4e9-fd0e-477e-b4ac-03e7655848d0\" class=\"plotly-graph-div\" style=\"height:1300px; width:2000px;\"></div>            <script type=\"text/javascript\">                require([\"plotly\"], function(Plotly) {                    window.PLOTLYENV=window.PLOTLYENV || {};                                    if (document.getElementById(\"a1f7e4e9-fd0e-477e-b4ac-03e7655848d0\")) {                    Plotly.newPlot(                        \"a1f7e4e9-fd0e-477e-b4ac-03e7655848d0\",                        [{\"marker\":{\"color\":\"rgb(31, 119, 180)\",\"symbol\":\"diamond-open-dot\"},\"name\":\"FedAVG - Main Task\",\"showlegend\":true,\"x\":[10,20,30,40,50,60,70,80,90],\"y\":[0.6348000168800354,0.35569998621940613,0.22310000658035278,0.18369999527931213,0.18140000104904175,0.10000000149011612,0.10000000149011612,0.10000000149011612,0.10000000149011612],\"type\":\"scatter\",\"xaxis\":\"x9\",\"yaxis\":\"y13\"},{\"marker\":{\"color\":\"rgb(255, 127, 14)\",\"symbol\":\"square-open-dot\"},\"name\":\"FedSIGN - Main Task\",\"showlegend\":true,\"x\":[10,20,30,40,50,60,70,80,90],\"y\":[0.7465999722480774,0.7451000213623047,0.7297000288963318,0.717199981212616,0.703499972820282,0.6852999925613403,0.6599000096321106,0.6205000281333923,0.5468000173568726],\"type\":\"scatter\",\"xaxis\":\"x9\",\"yaxis\":\"y13\"},{\"marker\":{\"color\":\"rgb(31, 119, 180)\",\"symbol\":\"diamond-open-dot\"},\"name\":\"FedAVG - Main Task\",\"showlegend\":false,\"x\":[10,20,30,40,50,60,70,80,90],\"y\":[0.7093999981880188,0.6862999796867371,0.6585999727249146,0.10000000149011612,0.10000000149011612,0.10000000149011612,0.10000000149011612,0.10000000149011612,0.10000000149011612],\"type\":\"scatter\",\"xaxis\":\"x5\",\"yaxis\":\"y7\"},{\"marker\":{\"color\":\"rgb(255, 127, 14)\",\"symbol\":\"square-open-dot\"},\"name\":\"FedSIGN - Main Task\",\"showlegend\":false,\"x\":[10,20,30,40,50,60,70,80,90],\"y\":[0.8842999935150146,0.8704000115394592,0.868399977684021,0.8683000206947327,0.8719000220298767,0.8761000037193298,0.8680999875068665,0.8629000186920166,0.8360999822616577],\"type\":\"scatter\",\"xaxis\":\"x5\",\"yaxis\":\"y7\"},{\"marker\":{\"color\":\"rgb(31, 119, 180)\",\"symbol\":\"diamond-open-dot\"},\"name\":\"FedAVG - Main Task\",\"showlegend\":false,\"x\":[10,20,30,40,50,60,70,80,90],\"y\":[0.9598000049591064,0.9438999891281128,0.8992000222206116,0.11349999904632568,0.11349999904632568,0.11349999904632568,0.11349999904632568,0.11349999904632568,0.11349999904632568],\"type\":\"scatter\",\"xaxis\":\"x\",\"yaxis\":\"y\"},{\"marker\":{\"color\":\"rgb(255, 127, 14)\",\"symbol\":\"square-open-dot\"},\"name\":\"FedSIGN - Main Task\",\"showlegend\":false,\"x\":[10,20,30,40,50,60,70,80,90],\"y\":[0.9900000095367432,0.9889000058174133,0.9890999794006348,0.9879999756813049,0.9884999990463257,0.986299991607666,0.9858999848365784,0.9846000075340271,0.9771000146865845],\"type\":\"scatter\",\"xaxis\":\"x\",\"yaxis\":\"y\"},{\"marker\":{\"color\":\"rgb(31, 119, 180)\",\"symbol\":\"diamond-open-dot\"},\"name\":\"FedAVG - Main Task\",\"showlegend\":false,\"x\":[10,20,30,40,50,60,70,80,90],\"y\":[0.7580000162124634,0.7508999705314636,0.7160999774932861,0.7159000039100647,0.6650000214576721,0.5803999900817871,0.4397999942302704,0.28139999508857727,0.13230000436306],\"type\":\"scatter\",\"xaxis\":\"x10\",\"yaxis\":\"y14\"},{\"marker\":{\"color\":\"rgb(255, 127, 14)\",\"symbol\":\"square-open-dot\"},\"name\":\"FedSIGN - Main Task\",\"showlegend\":false,\"x\":[10,20,30,40,50,60,70,80,90],\"y\":[0.7560999989509583,0.7419000267982483,0.7321000099182129,0.7264999747276306,0.7071999907493591,0.6887000203132629,0.6553000211715698,0.620199978351593,0.5516999959945679],\"type\":\"scatter\",\"xaxis\":\"x10\",\"yaxis\":\"y14\"},{\"marker\":{\"color\":\"rgb(31, 119, 180)\",\"symbol\":\"diamond-open-dot\"},\"name\":\"FedAVG - Main Task\",\"showlegend\":false,\"x\":[10,20,30,40,50,60,70,80,90],\"y\":[0.8513000011444092,0.8464000225067139,0.840499997138977,0.8173999786376953,0.8187999725341797,0.7305999994277954,0.2928999960422516,0.02239999920129776,0.011500000022351742],\"type\":\"scatter\",\"xaxis\":\"x6\",\"yaxis\":\"y8\"},{\"marker\":{\"color\":\"rgb(255, 127, 14)\",\"symbol\":\"square-open-dot\"},\"name\":\"FedSIGN - Main Task\",\"showlegend\":false,\"x\":[10,20,30,40,50,60,70,80,90],\"y\":[0.8752999901771545,0.8755999803543091,0.8711000084877014,0.8745999932289124,0.8766000270843506,0.8586999773979187,0.8592000007629395,0.850600004196167,0.8324999809265137],\"type\":\"scatter\",\"xaxis\":\"x6\",\"yaxis\":\"y8\"},{\"marker\":{\"color\":\"rgb(31, 119, 180)\",\"symbol\":\"diamond-open-dot\"},\"name\":\"FedAVG - Main Task\",\"showlegend\":false,\"x\":[10,20,30,40,50,60,70,80,90],\"y\":[0.983299970626831,0.9825000166893005,0.9812999963760376,0.9818999767303467,0.9799000024795532,0.9593999981880188,0.29490000009536743,0.0414000004529953,0.004600000102072954],\"type\":\"scatter\",\"xaxis\":\"x2\",\"yaxis\":\"y2\"},{\"marker\":{\"color\":\"rgb(255, 127, 14)\",\"symbol\":\"square-open-dot\"},\"name\":\"FedSIGN - Main Task\",\"showlegend\":false,\"x\":[10,20,30,40,50,60,70,80,90],\"y\":[0.9902999997138977,0.9898999929428101,0.9884999990463257,0.9865000247955322,0.9887999892234802,0.9846000075340271,0.9854000210762024,0.9833999872207642,0.973800003528595],\"type\":\"scatter\",\"xaxis\":\"x2\",\"yaxis\":\"y2\"},{\"marker\":{\"color\":\"rgb(31, 119, 180)\",\"symbol\":\"diamond-open-dot\"},\"name\":\"FedAVG - Main Task\",\"showlegend\":false,\"x\":[10,20,30,40,50,60,70,80,90],\"y\":[0.7857000231742859,0.7796000242233276,0.7865999937057495,0.7825999855995178,0.7847999930381775,0.7854999899864197,0.7831000089645386,0.784600019454956,0.7886999845504761],\"type\":\"scatter\",\"xaxis\":\"x12\",\"yaxis\":\"y17\"},{\"marker\":{\"color\":\"rgb(255, 127, 14)\",\"symbol\":\"square-open-dot\"},\"name\":\"FedSIGN - Main Task\",\"showlegend\":false,\"x\":[10,20,30,40,50,60,70,80,90],\"y\":[0.7595999836921692,0.7376000285148621,0.7443000078201294,0.7329999804496765,0.727400004863739,0.7160000205039978,0.7163000106811523,0.7045999765396118,0.6919999718666077],\"type\":\"scatter\",\"xaxis\":\"x12\",\"yaxis\":\"y17\"},{\"marker\":{\"color\":\"rgb(31, 119, 180)\",\"symbol\":\"diamond-open-dot\"},\"name\":\"FedAVG - Main Task\",\"showlegend\":false,\"x\":[10,20,30,40,50,60,70,80,90],\"y\":[0.866599977016449,0.8675000071525574,0.8659999966621399,0.8632000088691711,0.8651999831199646,0.8680999875068665,0.8560000061988831,0.857200026512146,0.8550999760627747],\"type\":\"scatter\",\"xaxis\":\"x8\",\"yaxis\":\"y11\"},{\"marker\":{\"color\":\"rgb(255, 127, 14)\",\"symbol\":\"square-open-dot\"},\"name\":\"FedSIGN - Main Task\",\"showlegend\":false,\"x\":[10,20,30,40,50,60,70,80,90],\"y\":[0.878600001335144,0.8715000152587891,0.866100013256073,0.8701000213623047,0.869700014591217,0.8707000017166138,0.8684999942779541,0.8733000159263611,0.8651999831199646],\"type\":\"scatter\",\"xaxis\":\"x8\",\"yaxis\":\"y11\"},{\"marker\":{\"color\":\"rgb(31, 119, 180)\",\"symbol\":\"diamond-open-dot\"},\"name\":\"FedAVG - Main Task\",\"showlegend\":false,\"x\":[10,20,30,40,50,60,70,80,90],\"y\":[0.9879000186920166,0.9853000044822693,0.9857000112533569,0.9858999848365784,0.9873999953269958,0.987500011920929,0.9857000112533569,0.9871000051498413,0.9855999946594238],\"type\":\"scatter\",\"xaxis\":\"x4\",\"yaxis\":\"y5\"},{\"marker\":{\"color\":\"rgb(255, 127, 14)\",\"symbol\":\"square-open-dot\"},\"name\":\"FedSIGN - Main Task\",\"showlegend\":false,\"x\":[10,20,30,40,50,60,70,80,90],\"y\":[0.9908000230789185,0.989300012588501,0.9896000027656555,0.9879000186920166,0.9890999794006348,0.989799976348877,0.9889000058174133,0.9869999885559082,0.9879000186920166],\"type\":\"scatter\",\"xaxis\":\"x4\",\"yaxis\":\"y5\"},{\"marker\":{\"color\":\"rgb(31, 119, 180)\",\"symbol\":\"diamond-open-dot\"},\"name\":\"FedAVG - Main Task\",\"showlegend\":false,\"x\":[10,20,30,40,50,60,70,80,90],\"y\":[0.7785999774932861,0.7741000056266785,0.7581999897956848,0.7480999827384949,0.7337999939918518,0.7172999978065491,0.66839998960495,0.607699990272522,0.5175999999046326],\"type\":\"scatter\",\"xaxis\":\"x11\",\"yaxis\":\"y15\"},{\"marker\":{\"color\":\"rgb(255, 127, 14)\",\"symbol\":\"square-open-dot\"},\"name\":\"FedSIGN - Main Task\",\"showlegend\":false,\"x\":[10,20,30,40,50,60,70,80,90],\"y\":[0.753600001335144,0.7432000041007996,0.734000027179718,0.7210999727249146,0.7071999907493591,0.6883000135421753,0.6607000231742859,0.6191999912261963,0.5507000088691711],\"type\":\"scatter\",\"xaxis\":\"x11\",\"yaxis\":\"y15\"},{\"marker\":{\"color\":\"rgb(31, 119, 180)\",\"symbol\":\"diamond-open-dot\"},\"name\":\"FedAVG - Main Task\",\"showlegend\":false,\"x\":[10,20,30,40,50,60,70,80,90],\"y\":[0.8672000169754028,0.8428999781608582,0.8339999914169312,0.8393999934196472,0.8342000246047974,0.8274999856948853,0.7930999994277954,0.781499981880188,0.583899974822998],\"type\":\"scatter\",\"xaxis\":\"x7\",\"yaxis\":\"y9\"},{\"marker\":{\"color\":\"rgb(255, 127, 14)\",\"symbol\":\"square-open-dot\"},\"name\":\"FedSIGN - Main Task\",\"showlegend\":false,\"x\":[10,20,30,40,50,60,70,80,90],\"y\":[0.8747000098228455,0.8722000122070312,0.8694999814033508,0.8791999816894531,0.8693000078201294,0.8694000244140625,0.8633000254631042,0.854200005531311,0.8144000172615051],\"type\":\"scatter\",\"xaxis\":\"x7\",\"yaxis\":\"y9\"},{\"marker\":{\"color\":\"rgb(31, 119, 180)\",\"symbol\":\"diamond-open-dot\"},\"name\":\"FedAVG - Main Task\",\"showlegend\":false,\"x\":[10,20,30,40,50,60,70,80,90],\"y\":[0.9865000247955322,0.9842000007629395,0.9825000166893005,0.9789999723434448,0.9796000123023987,0.9731000065803528,0.9678999781608582,0.9641000032424927,0.9047999978065491],\"type\":\"scatter\",\"xaxis\":\"x3\",\"yaxis\":\"y3\"},{\"marker\":{\"color\":\"rgb(255, 127, 14)\",\"symbol\":\"square-open-dot\"},\"name\":\"FedSIGN - Main Task\",\"showlegend\":false,\"x\":[10,20,30,40,50,60,70,80,90],\"y\":[0.9909999966621399,0.9900000095367432,0.9886999726295471,0.9904000163078308,0.9883000254631042,0.9869999885559082,0.984499990940094,0.9811000227928162,0.9746000170707703],\"type\":\"scatter\",\"xaxis\":\"x3\",\"yaxis\":\"y3\"},{\"marker\":{\"color\":\"rgb(31, 119, 180)\"},\"name\":\"FedAVG - Backdoor Task\",\"opacity\":0.5,\"showlegend\":true,\"x\":[10,20,30,40,50,60,70,80,90],\"y\":[0.171875,0.25,0.21875,0.34375,0.390625,0.5625,0.546875,0.671875,0.6875],\"type\":\"bar\",\"xaxis\":\"x12\",\"yaxis\":\"y18\"},{\"marker\":{\"color\":\"rgb(255, 127, 14)\"},\"name\":\"FedSIGN - Backdoor Task\",\"opacity\":0.5,\"showlegend\":true,\"x\":[10,20,30,40,50,60,70,80,90],\"y\":[0.09375,0.078125,0.09375,0.09375,0.125,0.09375,0.125,0.125,0.125],\"type\":\"bar\",\"xaxis\":\"x12\",\"yaxis\":\"y18\"},{\"marker\":{\"color\":\"rgb(31, 119, 180)\"},\"name\":\"FedAVG - Backdoor Task\",\"opacity\":0.5,\"showlegend\":false,\"x\":[10,20,30,40,50,60,70,80,90],\"y\":[0.3125,0.546875,0.875,0.890625,0.96875,0.984375,0.984375,0.984375,0.984375],\"type\":\"bar\",\"xaxis\":\"x8\",\"yaxis\":\"y12\"},{\"marker\":{\"color\":\"rgb(255, 127, 14)\"},\"name\":\"FedSIGN - Backdoor Task\",\"opacity\":0.5,\"showlegend\":false,\"x\":[10,20,30,40,50,60,70,80,90],\"y\":[0.015625,0.03125,0.09375,0.015625,0.015625,0.03125,0.03125,0.015625,0.0],\"type\":\"bar\",\"xaxis\":\"x8\",\"yaxis\":\"y12\"},{\"marker\":{\"color\":\"rgb(31, 119, 180)\"},\"name\":\"FedAVG - Backdoor Task\",\"opacity\":0.5,\"showlegend\":false,\"x\":[10,20,30,40,50,60,70,80,90],\"y\":[0.828125,0.96875,1.0,1.0,1.0,1.0,1.0,1.0,1.0],\"type\":\"bar\",\"xaxis\":\"x4\",\"yaxis\":\"y6\"},{\"marker\":{\"color\":\"rgb(255, 127, 14)\"},\"name\":\"FedSIGN - Backdoor Task\",\"opacity\":0.5,\"showlegend\":false,\"x\":[10,20,30,40,50,60,70,80,90],\"y\":[0.015625,0.171875,0.09375,0.125,0.15625,0.265625,0.09375,0.09375,0.125],\"type\":\"bar\",\"xaxis\":\"x4\",\"yaxis\":\"y6\"},{\"marker\":{\"color\":\"rgb(31, 119, 180)\"},\"name\":\"FedAVG - Backdoor Task\",\"opacity\":0.5,\"showlegend\":false,\"x\":[10,20,30,40,50,60,70,80,90],\"y\":[0.9998000264167786,0.9998999834060669,1.0,1.0,1.0,1.0,1.0,1.0,1.0],\"type\":\"bar\",\"xaxis\":\"x11\",\"yaxis\":\"y16\"},{\"marker\":{\"color\":\"rgb(255, 127, 14)\"},\"name\":\"FedSIGN - Backdoor Task\",\"opacity\":0.5,\"showlegend\":false,\"x\":[10,20,30,40,50,60,70,80,90],\"y\":[0.11169999837875366,0.11289999634027481,0.11739999800920486,0.11710000038146973,0.11749999970197678,0.12880000472068787,0.133200004696846,0.13410000503063202,0.11270000040531158],\"type\":\"bar\",\"xaxis\":\"x11\",\"yaxis\":\"y16\"},{\"marker\":{\"color\":\"rgb(31, 119, 180)\"},\"name\":\"FedAVG - Backdoor Task\",\"opacity\":0.5,\"showlegend\":false,\"x\":[10,20,30,40,50,60,70,80,90],\"y\":[0.9174000024795532,0.9830999970436096,0.9861000180244446,0.998199999332428,0.9972000122070312,0.9993000030517578,0.9998999834060669,1.0,1.0],\"type\":\"bar\",\"xaxis\":\"x7\",\"yaxis\":\"y10\"},{\"marker\":{\"color\":\"rgb(255, 127, 14)\"},\"name\":\"FedSIGN - Backdoor Task\",\"opacity\":0.5,\"showlegend\":false,\"x\":[10,20,30,40,50,60,70,80,90],\"y\":[0.09799999743700027,0.09830000251531601,0.09809999912977219,0.09799999743700027,0.09790000319480896,0.09809999912977219,0.0982000008225441,0.09780000150203705,0.09989999979734421],\"type\":\"bar\",\"xaxis\":\"x7\",\"yaxis\":\"y10\"},{\"marker\":{\"color\":\"rgb(31, 119, 180)\"},\"name\":\"FedAVG - Backdoor Task\",\"opacity\":0.5,\"showlegend\":false,\"x\":[10,20,30,40,50,60,70,80,90],\"y\":[0.9851999878883362,0.9944000244140625,0.9995999932289124,0.9998999834060669,1.0,1.0,1.0,1.0,1.0],\"type\":\"bar\",\"xaxis\":\"x3\",\"yaxis\":\"y4\"},{\"marker\":{\"color\":\"rgb(255, 127, 14)\"},\"name\":\"FedSIGN - Backdoor Task\",\"opacity\":0.5,\"showlegend\":false,\"x\":[10,20,30,40,50,60,70,80,90],\"y\":[0.11410000175237656,0.11420000344514847,0.11410000175237656,0.11460000276565552,0.1143999993801117,0.11389999836683273,0.1136000007390976,0.1136000007390976,0.11379999667406082],\"type\":\"bar\",\"xaxis\":\"x3\",\"yaxis\":\"y4\"}],                        {\"template\":{\"data\":{\"histogram2dcontour\":[{\"type\":\"histogram2dcontour\",\"colorbar\":{\"outlinewidth\":0,\"ticks\":\"\"},\"colorscale\":[[0.0,\"#0d0887\"],[0.1111111111111111,\"#46039f\"],[0.2222222222222222,\"#7201a8\"],[0.3333333333333333,\"#9c179e\"],[0.4444444444444444,\"#bd3786\"],[0.5555555555555556,\"#d8576b\"],[0.6666666666666666,\"#ed7953\"],[0.7777777777777778,\"#fb9f3a\"],[0.8888888888888888,\"#fdca26\"],[1.0,\"#f0f921\"]]}],\"choropleth\":[{\"type\":\"choropleth\",\"colorbar\":{\"outlinewidth\":0,\"ticks\":\"\"}}],\"histogram2d\":[{\"type\":\"histogram2d\",\"colorbar\":{\"outlinewidth\":0,\"ticks\":\"\"},\"colorscale\":[[0.0,\"#0d0887\"],[0.1111111111111111,\"#46039f\"],[0.2222222222222222,\"#7201a8\"],[0.3333333333333333,\"#9c179e\"],[0.4444444444444444,\"#bd3786\"],[0.5555555555555556,\"#d8576b\"],[0.6666666666666666,\"#ed7953\"],[0.7777777777777778,\"#fb9f3a\"],[0.8888888888888888,\"#fdca26\"],[1.0,\"#f0f921\"]]}],\"heatmap\":[{\"type\":\"heatmap\",\"colorbar\":{\"outlinewidth\":0,\"ticks\":\"\"},\"colorscale\":[[0.0,\"#0d0887\"],[0.1111111111111111,\"#46039f\"],[0.2222222222222222,\"#7201a8\"],[0.3333333333333333,\"#9c179e\"],[0.4444444444444444,\"#bd3786\"],[0.5555555555555556,\"#d8576b\"],[0.6666666666666666,\"#ed7953\"],[0.7777777777777778,\"#fb9f3a\"],[0.8888888888888888,\"#fdca26\"],[1.0,\"#f0f921\"]]}],\"heatmapgl\":[{\"type\":\"heatmapgl\",\"colorbar\":{\"outlinewidth\":0,\"ticks\":\"\"},\"colorscale\":[[0.0,\"#0d0887\"],[0.1111111111111111,\"#46039f\"],[0.2222222222222222,\"#7201a8\"],[0.3333333333333333,\"#9c179e\"],[0.4444444444444444,\"#bd3786\"],[0.5555555555555556,\"#d8576b\"],[0.6666666666666666,\"#ed7953\"],[0.7777777777777778,\"#fb9f3a\"],[0.8888888888888888,\"#fdca26\"],[1.0,\"#f0f921\"]]}],\"contourcarpet\":[{\"type\":\"contourcarpet\",\"colorbar\":{\"outlinewidth\":0,\"ticks\":\"\"}}],\"contour\":[{\"type\":\"contour\",\"colorbar\":{\"outlinewidth\":0,\"ticks\":\"\"},\"colorscale\":[[0.0,\"#0d0887\"],[0.1111111111111111,\"#46039f\"],[0.2222222222222222,\"#7201a8\"],[0.3333333333333333,\"#9c179e\"],[0.4444444444444444,\"#bd3786\"],[0.5555555555555556,\"#d8576b\"],[0.6666666666666666,\"#ed7953\"],[0.7777777777777778,\"#fb9f3a\"],[0.8888888888888888,\"#fdca26\"],[1.0,\"#f0f921\"]]}],\"surface\":[{\"type\":\"surface\",\"colorbar\":{\"outlinewidth\":0,\"ticks\":\"\"},\"colorscale\":[[0.0,\"#0d0887\"],[0.1111111111111111,\"#46039f\"],[0.2222222222222222,\"#7201a8\"],[0.3333333333333333,\"#9c179e\"],[0.4444444444444444,\"#bd3786\"],[0.5555555555555556,\"#d8576b\"],[0.6666666666666666,\"#ed7953\"],[0.7777777777777778,\"#fb9f3a\"],[0.8888888888888888,\"#fdca26\"],[1.0,\"#f0f921\"]]}],\"mesh3d\":[{\"type\":\"mesh3d\",\"colorbar\":{\"outlinewidth\":0,\"ticks\":\"\"}}],\"scatter\":[{\"fillpattern\":{\"fillmode\":\"overlay\",\"size\":10,\"solidity\":0.2},\"type\":\"scatter\"}],\"parcoords\":[{\"type\":\"parcoords\",\"line\":{\"colorbar\":{\"outlinewidth\":0,\"ticks\":\"\"}}}],\"scatterpolargl\":[{\"type\":\"scatterpolargl\",\"marker\":{\"colorbar\":{\"outlinewidth\":0,\"ticks\":\"\"}}}],\"bar\":[{\"error_x\":{\"color\":\"#2a3f5f\"},\"error_y\":{\"color\":\"#2a3f5f\"},\"marker\":{\"line\":{\"color\":\"#E5ECF6\",\"width\":0.5},\"pattern\":{\"fillmode\":\"overlay\",\"size\":10,\"solidity\":0.2}},\"type\":\"bar\"}],\"scattergeo\":[{\"type\":\"scattergeo\",\"marker\":{\"colorbar\":{\"outlinewidth\":0,\"ticks\":\"\"}}}],\"scatterpolar\":[{\"type\":\"scatterpolar\",\"marker\":{\"colorbar\":{\"outlinewidth\":0,\"ticks\":\"\"}}}],\"histogram\":[{\"marker\":{\"pattern\":{\"fillmode\":\"overlay\",\"size\":10,\"solidity\":0.2}},\"type\":\"histogram\"}],\"scattergl\":[{\"type\":\"scattergl\",\"marker\":{\"colorbar\":{\"outlinewidth\":0,\"ticks\":\"\"}}}],\"scatter3d\":[{\"type\":\"scatter3d\",\"line\":{\"colorbar\":{\"outlinewidth\":0,\"ticks\":\"\"}},\"marker\":{\"colorbar\":{\"outlinewidth\":0,\"ticks\":\"\"}}}],\"scattermapbox\":[{\"type\":\"scattermapbox\",\"marker\":{\"colorbar\":{\"outlinewidth\":0,\"ticks\":\"\"}}}],\"scatterternary\":[{\"type\":\"scatterternary\",\"marker\":{\"colorbar\":{\"outlinewidth\":0,\"ticks\":\"\"}}}],\"scattercarpet\":[{\"type\":\"scattercarpet\",\"marker\":{\"colorbar\":{\"outlinewidth\":0,\"ticks\":\"\"}}}],\"carpet\":[{\"aaxis\":{\"endlinecolor\":\"#2a3f5f\",\"gridcolor\":\"white\",\"linecolor\":\"white\",\"minorgridcolor\":\"white\",\"startlinecolor\":\"#2a3f5f\"},\"baxis\":{\"endlinecolor\":\"#2a3f5f\",\"gridcolor\":\"white\",\"linecolor\":\"white\",\"minorgridcolor\":\"white\",\"startlinecolor\":\"#2a3f5f\"},\"type\":\"carpet\"}],\"table\":[{\"cells\":{\"fill\":{\"color\":\"#EBF0F8\"},\"line\":{\"color\":\"white\"}},\"header\":{\"fill\":{\"color\":\"#C8D4E3\"},\"line\":{\"color\":\"white\"}},\"type\":\"table\"}],\"barpolar\":[{\"marker\":{\"line\":{\"color\":\"#E5ECF6\",\"width\":0.5},\"pattern\":{\"fillmode\":\"overlay\",\"size\":10,\"solidity\":0.2}},\"type\":\"barpolar\"}],\"pie\":[{\"automargin\":true,\"type\":\"pie\"}]},\"layout\":{\"autotypenumbers\":\"strict\",\"colorway\":[\"#636efa\",\"#EF553B\",\"#00cc96\",\"#ab63fa\",\"#FFA15A\",\"#19d3f3\",\"#FF6692\",\"#B6E880\",\"#FF97FF\",\"#FECB52\"],\"font\":{\"color\":\"#2a3f5f\"},\"hovermode\":\"closest\",\"hoverlabel\":{\"align\":\"left\"},\"paper_bgcolor\":\"white\",\"plot_bgcolor\":\"#E5ECF6\",\"polar\":{\"bgcolor\":\"#E5ECF6\",\"angularaxis\":{\"gridcolor\":\"white\",\"linecolor\":\"white\",\"ticks\":\"\"},\"radialaxis\":{\"gridcolor\":\"white\",\"linecolor\":\"white\",\"ticks\":\"\"}},\"ternary\":{\"bgcolor\":\"#E5ECF6\",\"aaxis\":{\"gridcolor\":\"white\",\"linecolor\":\"white\",\"ticks\":\"\"},\"baxis\":{\"gridcolor\":\"white\",\"linecolor\":\"white\",\"ticks\":\"\"},\"caxis\":{\"gridcolor\":\"white\",\"linecolor\":\"white\",\"ticks\":\"\"}},\"coloraxis\":{\"colorbar\":{\"outlinewidth\":0,\"ticks\":\"\"}},\"colorscale\":{\"sequential\":[[0.0,\"#0d0887\"],[0.1111111111111111,\"#46039f\"],[0.2222222222222222,\"#7201a8\"],[0.3333333333333333,\"#9c179e\"],[0.4444444444444444,\"#bd3786\"],[0.5555555555555556,\"#d8576b\"],[0.6666666666666666,\"#ed7953\"],[0.7777777777777778,\"#fb9f3a\"],[0.8888888888888888,\"#fdca26\"],[1.0,\"#f0f921\"]],\"sequentialminus\":[[0.0,\"#0d0887\"],[0.1111111111111111,\"#46039f\"],[0.2222222222222222,\"#7201a8\"],[0.3333333333333333,\"#9c179e\"],[0.4444444444444444,\"#bd3786\"],[0.5555555555555556,\"#d8576b\"],[0.6666666666666666,\"#ed7953\"],[0.7777777777777778,\"#fb9f3a\"],[0.8888888888888888,\"#fdca26\"],[1.0,\"#f0f921\"]],\"diverging\":[[0,\"#8e0152\"],[0.1,\"#c51b7d\"],[0.2,\"#de77ae\"],[0.3,\"#f1b6da\"],[0.4,\"#fde0ef\"],[0.5,\"#f7f7f7\"],[0.6,\"#e6f5d0\"],[0.7,\"#b8e186\"],[0.8,\"#7fbc41\"],[0.9,\"#4d9221\"],[1,\"#276419\"]]},\"xaxis\":{\"gridcolor\":\"white\",\"linecolor\":\"white\",\"ticks\":\"\",\"title\":{\"standoff\":15},\"zerolinecolor\":\"white\",\"automargin\":true,\"zerolinewidth\":2},\"yaxis\":{\"gridcolor\":\"white\",\"linecolor\":\"white\",\"ticks\":\"\",\"title\":{\"standoff\":15},\"zerolinecolor\":\"white\",\"automargin\":true,\"zerolinewidth\":2},\"scene\":{\"xaxis\":{\"backgroundcolor\":\"#E5ECF6\",\"gridcolor\":\"white\",\"linecolor\":\"white\",\"showbackground\":true,\"ticks\":\"\",\"zerolinecolor\":\"white\",\"gridwidth\":2},\"yaxis\":{\"backgroundcolor\":\"#E5ECF6\",\"gridcolor\":\"white\",\"linecolor\":\"white\",\"showbackground\":true,\"ticks\":\"\",\"zerolinecolor\":\"white\",\"gridwidth\":2},\"zaxis\":{\"backgroundcolor\":\"#E5ECF6\",\"gridcolor\":\"white\",\"linecolor\":\"white\",\"showbackground\":true,\"ticks\":\"\",\"zerolinecolor\":\"white\",\"gridwidth\":2}},\"shapedefaults\":{\"line\":{\"color\":\"#2a3f5f\"}},\"annotationdefaults\":{\"arrowcolor\":\"#2a3f5f\",\"arrowhead\":0,\"arrowwidth\":1},\"geo\":{\"bgcolor\":\"white\",\"landcolor\":\"#E5ECF6\",\"subunitcolor\":\"white\",\"showland\":true,\"showlakes\":true,\"lakecolor\":\"white\"},\"title\":{\"x\":0.05},\"mapbox\":{\"style\":\"light\"}}},\"xaxis\":{\"anchor\":\"y\",\"domain\":[0.0,0.1825],\"tickfont\":{\"size\":13},\"title\":{\"font\":{\"size\":18},\"text\":\"Ratio of Malicious Clients (%)\"},\"tickvals\":[0,10,20,30,40,50,60,70,80,90,100]},\"yaxis\":{\"anchor\":\"x\",\"domain\":[0.7333333333333334,1.0],\"title\":{\"font\":{\"size\":18},\"text\":\"Main Task Accuary\",\"standoff\":3},\"tickvals\":[0,0.1,0.2,0.3,0.4,0.5,0.6,0.7,0.8,0.9,1],\"range\":[0,1]},\"xaxis2\":{\"anchor\":\"y2\",\"domain\":[0.2525,0.435],\"tickfont\":{\"size\":13},\"title\":{\"font\":{\"size\":18},\"text\":\"Ratio of Malicious Clients (%)\"},\"tickvals\":[0,10,20,30,40,50,60,70,80,90,100]},\"yaxis2\":{\"anchor\":\"x2\",\"domain\":[0.7333333333333334,1.0],\"title\":{\"font\":{\"size\":18},\"text\":\"Main Task Accuary\",\"standoff\":3},\"tickvals\":[0,0.1,0.2,0.3,0.4,0.5,0.6,0.7,0.8,0.9,1],\"range\":[0,1]},\"xaxis3\":{\"anchor\":\"y3\",\"domain\":[0.505,0.6875],\"tickfont\":{\"size\":13},\"title\":{\"font\":{\"size\":18},\"text\":\"Ratio of Malicious Clients (%)\"},\"tickvals\":[0,10,20,30,40,50,60,70,80,90,100]},\"yaxis3\":{\"anchor\":\"x3\",\"domain\":[0.7333333333333334,1.0],\"title\":{\"font\":{\"size\":18},\"text\":\"Main Task Accuary\",\"standoff\":3},\"tickvals\":[0,0.1,0.2,0.3,0.4,0.5,0.6,0.7,0.8,0.9,1],\"range\":[0,1]},\"yaxis4\":{\"anchor\":\"x3\",\"overlaying\":\"y3\",\"side\":\"right\",\"title\":{\"font\":{\"size\":18},\"text\":\"Backdoor Task Accuary\",\"standoff\":5}},\"xaxis4\":{\"anchor\":\"y5\",\"domain\":[0.7575000000000001,0.9400000000000001],\"tickfont\":{\"size\":13},\"title\":{\"font\":{\"size\":18},\"text\":\"Ratio of Malicious Clients (%)\"},\"tickvals\":[0,10,20,30,40,50,60,70,80,90,100]},\"yaxis5\":{\"anchor\":\"x4\",\"domain\":[0.7333333333333334,1.0],\"title\":{\"font\":{\"size\":18},\"text\":\"Main Task Accuary\",\"standoff\":3},\"tickvals\":[0,0.1,0.2,0.3,0.4,0.5,0.6,0.7,0.8,0.9,1],\"range\":[0,1]},\"yaxis6\":{\"anchor\":\"x4\",\"overlaying\":\"y5\",\"side\":\"right\",\"title\":{\"font\":{\"size\":18},\"text\":\"Backdoor Task Accuary\",\"standoff\":5}},\"xaxis5\":{\"anchor\":\"y7\",\"domain\":[0.0,0.1825],\"tickfont\":{\"size\":13},\"title\":{\"font\":{\"size\":18},\"text\":\"Ratio of Malicious Clients (%)\"},\"tickvals\":[0,10,20,30,40,50,60,70,80,90,100]},\"yaxis7\":{\"anchor\":\"x5\",\"domain\":[0.3666666666666667,0.6333333333333333],\"title\":{\"font\":{\"size\":18},\"text\":\"Main Task Accuary\",\"standoff\":3},\"tickvals\":[0,0.1,0.2,0.3,0.4,0.5,0.6,0.7,0.8,0.9,1],\"range\":[0,1]},\"xaxis6\":{\"anchor\":\"y8\",\"domain\":[0.2525,0.435],\"tickfont\":{\"size\":13},\"title\":{\"font\":{\"size\":18},\"text\":\"Ratio of Malicious Clients (%)\"},\"tickvals\":[0,10,20,30,40,50,60,70,80,90,100]},\"yaxis8\":{\"anchor\":\"x6\",\"domain\":[0.3666666666666667,0.6333333333333333],\"title\":{\"font\":{\"size\":18},\"text\":\"Main Task Accuary\",\"standoff\":3},\"tickvals\":[0,0.1,0.2,0.3,0.4,0.5,0.6,0.7,0.8,0.9,1],\"range\":[0,1]},\"xaxis7\":{\"anchor\":\"y9\",\"domain\":[0.505,0.6875],\"tickfont\":{\"size\":13},\"title\":{\"font\":{\"size\":18},\"text\":\"Ratio of Malicious Clients (%)\"},\"tickvals\":[0,10,20,30,40,50,60,70,80,90,100]},\"yaxis9\":{\"anchor\":\"x7\",\"domain\":[0.3666666666666667,0.6333333333333333],\"title\":{\"font\":{\"size\":18},\"text\":\"Main Task Accuary\",\"standoff\":3},\"tickvals\":[0,0.1,0.2,0.3,0.4,0.5,0.6,0.7,0.8,0.9,1],\"range\":[0,1]},\"yaxis10\":{\"anchor\":\"x7\",\"overlaying\":\"y9\",\"side\":\"right\",\"title\":{\"font\":{\"size\":18},\"text\":\"Backdoor Task Accuary\",\"standoff\":5}},\"xaxis8\":{\"anchor\":\"y11\",\"domain\":[0.7575000000000001,0.9400000000000001],\"tickfont\":{\"size\":13},\"title\":{\"font\":{\"size\":18},\"text\":\"Ratio of Malicious Clients (%)\"},\"tickvals\":[0,10,20,30,40,50,60,70,80,90,100]},\"yaxis11\":{\"anchor\":\"x8\",\"domain\":[0.3666666666666667,0.6333333333333333],\"title\":{\"font\":{\"size\":18},\"text\":\"Main Task Accuary\",\"standoff\":3},\"tickvals\":[0,0.1,0.2,0.3,0.4,0.5,0.6,0.7,0.8,0.9,1],\"range\":[0,1]},\"yaxis12\":{\"anchor\":\"x8\",\"overlaying\":\"y11\",\"side\":\"right\",\"title\":{\"font\":{\"size\":18},\"text\":\"Backdoor Task Accuary\",\"standoff\":5}},\"xaxis9\":{\"anchor\":\"y13\",\"domain\":[0.0,0.1825],\"tickfont\":{\"size\":13},\"title\":{\"font\":{\"size\":18},\"text\":\"Ratio of Malicious Clients (%)\"},\"tickvals\":[0,10,20,30,40,50,60,70,80,90,100]},\"yaxis13\":{\"anchor\":\"x9\",\"domain\":[0.0,0.26666666666666666],\"title\":{\"font\":{\"size\":18},\"text\":\"Main Task Accuary\",\"standoff\":3},\"tickvals\":[0,0.1,0.2,0.3,0.4,0.5,0.6,0.7,0.8,0.9,1],\"range\":[0,1]},\"xaxis10\":{\"anchor\":\"y14\",\"domain\":[0.2525,0.435],\"tickfont\":{\"size\":13},\"title\":{\"font\":{\"size\":18},\"text\":\"Ratio of Malicious Clients (%)\"},\"tickvals\":[0,10,20,30,40,50,60,70,80,90,100]},\"yaxis14\":{\"anchor\":\"x10\",\"domain\":[0.0,0.26666666666666666],\"title\":{\"font\":{\"size\":18},\"text\":\"Main Task Accuary\",\"standoff\":3},\"tickvals\":[0,0.1,0.2,0.3,0.4,0.5,0.6,0.7,0.8,0.9,1],\"range\":[0,1]},\"xaxis11\":{\"anchor\":\"y15\",\"domain\":[0.505,0.6875],\"tickfont\":{\"size\":13},\"title\":{\"font\":{\"size\":18},\"text\":\"Ratio of Malicious Clients (%)\"},\"tickvals\":[0,10,20,30,40,50,60,70,80,90,100]},\"yaxis15\":{\"anchor\":\"x11\",\"domain\":[0.0,0.26666666666666666],\"title\":{\"font\":{\"size\":18},\"text\":\"Main Task Accuary\",\"standoff\":3},\"tickvals\":[0,0.1,0.2,0.3,0.4,0.5,0.6,0.7,0.8,0.9,1],\"range\":[0,1]},\"yaxis16\":{\"anchor\":\"x11\",\"overlaying\":\"y15\",\"side\":\"right\",\"title\":{\"font\":{\"size\":18},\"text\":\"Backdoor Task Accuary\",\"standoff\":5}},\"xaxis12\":{\"anchor\":\"y17\",\"domain\":[0.7575000000000001,0.9400000000000001],\"tickfont\":{\"size\":13},\"title\":{\"font\":{\"size\":18},\"text\":\"Ratio of Malicious Clients (%)\"},\"tickvals\":[0,10,20,30,40,50,60,70,80,90,100]},\"yaxis17\":{\"anchor\":\"x12\",\"domain\":[0.0,0.26666666666666666],\"title\":{\"font\":{\"size\":18},\"text\":\"Main Task Accuary\",\"standoff\":3},\"tickvals\":[0,0.1,0.2,0.3,0.4,0.5,0.6,0.7,0.8,0.9,1],\"range\":[0,1]},\"yaxis18\":{\"anchor\":\"x12\",\"overlaying\":\"y17\",\"side\":\"right\",\"title\":{\"font\":{\"size\":18},\"text\":\"Backdoor Task Accuary\",\"standoff\":5}},\"annotations\":[{\"font\":{\"size\":16},\"showarrow\":false,\"text\":\"GNA (MNIST)\",\"x\":0.09125,\"xanchor\":\"center\",\"xref\":\"paper\",\"y\":1.0,\"yanchor\":\"bottom\",\"yref\":\"paper\"},{\"font\":{\"size\":16},\"showarrow\":false,\"text\":\"LFA (MNIST)\",\"x\":0.34375,\"xanchor\":\"center\",\"xref\":\"paper\",\"y\":1.0,\"yanchor\":\"bottom\",\"yref\":\"paper\"},{\"font\":{\"size\":16},\"showarrow\":false,\"text\":\"PBA (MNIST)\",\"x\":0.59625,\"xanchor\":\"center\",\"xref\":\"paper\",\"y\":1.0,\"yanchor\":\"bottom\",\"yref\":\"paper\"},{\"font\":{\"size\":16},\"showarrow\":false,\"text\":\"MRA (MNIST)\",\"x\":0.8487500000000001,\"xanchor\":\"center\",\"xref\":\"paper\",\"y\":1.0,\"yanchor\":\"bottom\",\"yref\":\"paper\"},{\"font\":{\"size\":16},\"showarrow\":false,\"text\":\"GNA (F-MNIST)\",\"x\":0.09125,\"xanchor\":\"center\",\"xref\":\"paper\",\"y\":0.6333333333333333,\"yanchor\":\"bottom\",\"yref\":\"paper\"},{\"font\":{\"size\":16},\"showarrow\":false,\"text\":\"LFA (F-MNIST)\",\"x\":0.34375,\"xanchor\":\"center\",\"xref\":\"paper\",\"y\":0.6333333333333333,\"yanchor\":\"bottom\",\"yref\":\"paper\"},{\"font\":{\"size\":16},\"showarrow\":false,\"text\":\"PBA (F-MNIST)\",\"x\":0.59625,\"xanchor\":\"center\",\"xref\":\"paper\",\"y\":0.6333333333333333,\"yanchor\":\"bottom\",\"yref\":\"paper\"},{\"font\":{\"size\":16},\"showarrow\":false,\"text\":\"MRA (F-MNIST)\",\"x\":0.8487500000000001,\"xanchor\":\"center\",\"xref\":\"paper\",\"y\":0.6333333333333333,\"yanchor\":\"bottom\",\"yref\":\"paper\"},{\"font\":{\"size\":16},\"showarrow\":false,\"text\":\"GNA (CIFAR10)\",\"x\":0.09125,\"xanchor\":\"center\",\"xref\":\"paper\",\"y\":0.26666666666666666,\"yanchor\":\"bottom\",\"yref\":\"paper\"},{\"font\":{\"size\":16},\"showarrow\":false,\"text\":\"LFA (CIFAR10)\",\"x\":0.34375,\"xanchor\":\"center\",\"xref\":\"paper\",\"y\":0.26666666666666666,\"yanchor\":\"bottom\",\"yref\":\"paper\"},{\"font\":{\"size\":16},\"showarrow\":false,\"text\":\"PBA (CIFAR10)\",\"x\":0.59625,\"xanchor\":\"center\",\"xref\":\"paper\",\"y\":0.26666666666666666,\"yanchor\":\"bottom\",\"yref\":\"paper\"},{\"font\":{\"size\":16},\"showarrow\":false,\"text\":\"MRA (CIFAR10)\",\"x\":0.8487500000000001,\"xanchor\":\"center\",\"xref\":\"paper\",\"y\":0.26666666666666666,\"yanchor\":\"bottom\",\"yref\":\"paper\"}],\"margin\":{\"b\":0,\"t\":0,\"l\":100,\"r\":0},\"legend\":{\"font\":{\"size\":18},\"orientation\":\"h\",\"xanchor\":\"center\",\"yanchor\":\"bottom\",\"x\":0.5,\"y\":1.04},\"height\":1300,\"width\":2000},                        {\"responsive\": true}                    ).then(function(){\n",
       "                            \n",
       "var gd = document.getElementById('a1f7e4e9-fd0e-477e-b4ac-03e7655848d0');\n",
       "var x = new MutationObserver(function (mutations, observer) {{\n",
       "        var display = window.getComputedStyle(gd).display;\n",
       "        if (!display || display === 'none') {{\n",
       "            console.log([gd, 'removed!']);\n",
       "            Plotly.purge(gd);\n",
       "            observer.disconnect();\n",
       "        }}\n",
       "}});\n",
       "\n",
       "// Listen for the removal of the full notebook cells\n",
       "var notebookContainer = gd.closest('#notebook-container');\n",
       "if (notebookContainer) {{\n",
       "    x.observe(notebookContainer, {childList: true});\n",
       "}}\n",
       "\n",
       "// Listen for the clearing of the current output cell\n",
       "var outputEl = gd.closest('.output');\n",
       "if (outputEl) {{\n",
       "    x.observe(outputEl, {childList: true});\n",
       "}}\n",
       "\n",
       "                        })                };                });            </script>        </div>"
      ]
     },
     "metadata": {},
     "output_type": "display_data"
    }
   ],
   "source": [
    "fig = make_subplots(rows=3,cols=4,\n",
    "                    start_cell='top-left',\n",
    "                    # print_grid=True,\n",
    "                    # x_title='111',\n",
    "                    horizontal_spacing=0.07,\n",
    "                    vertical_spacing=0.1,\n",
    "                    column_widths=[0.25,0.25,0.25,0.25],\n",
    "                    subplot_titles=\\\n",
    "                            (\"GNA (MNIST)\", \"LFA (MNIST)\", 'PBA (MNIST)', 'MRA (MNIST)',\n",
    "                            \"GNA (F-MNIST)\", \"LFA (F-MNIST)\", 'PBA (F-MNIST)', 'MRA (F-MNIST)',\n",
    "                            \"GNA (CIFAR10)\", \"LFA (CIFAR10)\", 'PBA (CIFAR10)', 'MRA (CIFAR10)',),\n",
    "                    specs=[[{\"secondary_y\": False},{\"secondary_y\": False},{\"secondary_y\": True}, {\"secondary_y\": True}],\n",
    "                           [{\"secondary_y\": False},{\"secondary_y\": False},{\"secondary_y\": True}, {\"secondary_y\": True}],\n",
    "                           [{\"secondary_y\": False},{\"secondary_y\": False},{\"secondary_y\": True}, {\"secondary_y\": True}],]\n",
    "                            )\n",
    "\n",
    "\n",
    "\n",
    "colors = plotly.colors.DEFAULT_PLOTLY_COLORS\n",
    "symbols = ['diamond-open-dot','square-open-dot']\n",
    "\n",
    "cov_dist = {'MNIST':1,'F-MNIST':2,'CIFAR10':3,\n",
    "            'Gaussian Noise Attack':1,'Label Flip Attack':2,'Pixel Backdoor Attack':3,'Model Replacement Attack':4}\n",
    "\n",
    "lgroup = ['group1','group2']\n",
    "lgroup_title = ['Baseline','FedSIGN']\n",
    "show = True\n",
    "for i, data in enumerate(main_task):\n",
    "\n",
    "    if i>1 :\n",
    "        show=False\n",
    "\n",
    "    # print(data[0],i%2,)\n",
    "    gg = i%2\n",
    "    mk = dict(symbol=symbols[gg],color=colors[gg])\n",
    "    trace= go.Scatter(x=data[1]['Ratio of Malicious Clients (%)'].tolist(), y=data[1]['Main Task Accuracy'].tolist(),name=data[0][2]+' - Main Task',showlegend=show,marker=mk) #,legendgroup=lgroup[gg],legendgrouptitle_text=lgroup_title[gg]\n",
    "    fig.add_trace(trace,row=cov_dist[data[0][1]],col=cov_dist[data[0][0]])\n",
    "\n",
    "#  后门的图像\n",
    "show = True\n",
    "for i, data in enumerate(backdoor_task):\n",
    "    if i>1 :\n",
    "        show=False\n",
    "    gg = i%2\n",
    "    # print(cov_dist[data[0][1]],cov_dist[data[0][0]])\n",
    "    mk = dict(color=colors[gg])\n",
    "    trace= go.Bar(x=data[1]['Ratio of Malicious Clients (%)'].tolist(), y=data[1]['Backdoor Task Accuracy'].tolist(),name=data[0][2]+' - Backdoor Task',showlegend=show,marker=mk,opacity=0.5)\n",
    "    fig.add_trace(trace,row=cov_dist[data[0][1]],col=cov_dist[data[0][0]],secondary_y=True)\n",
    "\n",
    "for i in range(1,4):\n",
    "    for j in range(1,5):\n",
    "        min = 0\n",
    "        if i == 1:\n",
    "            max = 1.02\n",
    "        elif i ==2:\n",
    "            max = 0.9\n",
    "        else:\n",
    "            max = 0.8\n",
    "        \n",
    "        if j>2:\n",
    "            min = 0.4\n",
    "\n",
    "        fig.update_yaxes(title_text=\"Main Task Accuary\",tickvals=[0,0.1,0.2,0.3,0.4,0.5,0.6,0.7,0.8,0.9,1],range=[0,1],row=i,col=j,title_standoff=3,title_font=dict(size=18),secondary_y=False)\n",
    "        fig.update_yaxes(title_text=\"Backdoor Task Accuary\",row=i,col=j,title_standoff=5,title_font=dict(size=18),secondary_y=True)\n",
    "        fig.update\n",
    "\n",
    "fig.update_xaxes(tickfont=dict(size=13),title_text='Ratio of Malicious Clients (%)', title_font=dict(size=18) ,tickvals=[0,10,20,30,40,50,60,70,80,90,100])\n",
    "\n",
    "fig.update_layout(height=1300, width=2000,margin=dict(b=0,t=0,l=100,r=0),\n",
    "                    legend=dict(orientation=\"h\",xanchor='center',yanchor='bottom',x=0.5,y=1.04,font=dict(size=18))\n",
    "    )\n",
    "fig.show()\n",
    "r_path = './r_diff_dataset.png'\n",
    "fig.write_image(r_path, scale=4)\n"
   ]
  },
  {
   "cell_type": "code",
   "execution_count": 89,
   "metadata": {},
   "outputs": [
    {
     "data": {
      "text/plain": [
       "[(('Model Replacement Attack', 'CIFAR10', 'FedAVG'),\n",
       "       Backdoor Task Accuracy  Ratio of Malicious Clients (%)  Dataset  \\\n",
       "  99                 0.171875                              10  CIFAR10   \n",
       "  100                0.250000                              20  CIFAR10   \n",
       "  101                0.218750                              30  CIFAR10   \n",
       "  102                0.343750                              40  CIFAR10   \n",
       "  103                0.390625                              50  CIFAR10   \n",
       "  104                0.562500                              60  CIFAR10   \n",
       "  105                0.546875                              70  CIFAR10   \n",
       "  106                0.671875                              80  CIFAR10   \n",
       "  107                0.687500                              90  CIFAR10   \n",
       "  \n",
       "      Framework               Attack Type  \n",
       "  99     FedAVG  Model Replacement Attack  \n",
       "  100    FedAVG  Model Replacement Attack  \n",
       "  101    FedAVG  Model Replacement Attack  \n",
       "  102    FedAVG  Model Replacement Attack  \n",
       "  103    FedAVG  Model Replacement Attack  \n",
       "  104    FedAVG  Model Replacement Attack  \n",
       "  105    FedAVG  Model Replacement Attack  \n",
       "  106    FedAVG  Model Replacement Attack  \n",
       "  107    FedAVG  Model Replacement Attack  ),\n",
       " (('Model Replacement Attack', 'CIFAR10', 'FedSIGN'),\n",
       "      Backdoor Task Accuracy  Ratio of Malicious Clients (%)  Dataset Framework  \\\n",
       "  81                0.093750                              10  CIFAR10   FedSIGN   \n",
       "  82                0.078125                              20  CIFAR10   FedSIGN   \n",
       "  83                0.093750                              30  CIFAR10   FedSIGN   \n",
       "  84                0.093750                              40  CIFAR10   FedSIGN   \n",
       "  85                0.125000                              50  CIFAR10   FedSIGN   \n",
       "  86                0.093750                              60  CIFAR10   FedSIGN   \n",
       "  87                0.125000                              70  CIFAR10   FedSIGN   \n",
       "  88                0.125000                              80  CIFAR10   FedSIGN   \n",
       "  89                0.125000                              90  CIFAR10   FedSIGN   \n",
       "  \n",
       "                   Attack Type  \n",
       "  81  Model Replacement Attack  \n",
       "  82  Model Replacement Attack  \n",
       "  83  Model Replacement Attack  \n",
       "  84  Model Replacement Attack  \n",
       "  85  Model Replacement Attack  \n",
       "  86  Model Replacement Attack  \n",
       "  87  Model Replacement Attack  \n",
       "  88  Model Replacement Attack  \n",
       "  89  Model Replacement Attack  ),\n",
       " (('Model Replacement Attack', 'F-MNIST', 'FedAVG'),\n",
       "      Backdoor Task Accuracy  Ratio of Malicious Clients (%)  Dataset Framework  \\\n",
       "  63                0.312500                              10  F-MNIST    FedAVG   \n",
       "  64                0.546875                              20  F-MNIST    FedAVG   \n",
       "  65                0.875000                              30  F-MNIST    FedAVG   \n",
       "  66                0.890625                              40  F-MNIST    FedAVG   \n",
       "  67                0.968750                              50  F-MNIST    FedAVG   \n",
       "  68                0.984375                              60  F-MNIST    FedAVG   \n",
       "  69                0.984375                              70  F-MNIST    FedAVG   \n",
       "  70                0.984375                              80  F-MNIST    FedAVG   \n",
       "  71                0.984375                              90  F-MNIST    FedAVG   \n",
       "  \n",
       "                   Attack Type  \n",
       "  63  Model Replacement Attack  \n",
       "  64  Model Replacement Attack  \n",
       "  65  Model Replacement Attack  \n",
       "  66  Model Replacement Attack  \n",
       "  67  Model Replacement Attack  \n",
       "  68  Model Replacement Attack  \n",
       "  69  Model Replacement Attack  \n",
       "  70  Model Replacement Attack  \n",
       "  71  Model Replacement Attack  ),\n",
       " (('Model Replacement Attack', 'F-MNIST', 'FedSIGN'),\n",
       "      Backdoor Task Accuracy  Ratio of Malicious Clients (%)  Dataset Framework  \\\n",
       "  45                0.015625                              10  F-MNIST   FedSIGN   \n",
       "  46                0.031250                              20  F-MNIST   FedSIGN   \n",
       "  47                0.093750                              30  F-MNIST   FedSIGN   \n",
       "  48                0.015625                              40  F-MNIST   FedSIGN   \n",
       "  49                0.015625                              50  F-MNIST   FedSIGN   \n",
       "  50                0.031250                              60  F-MNIST   FedSIGN   \n",
       "  51                0.031250                              70  F-MNIST   FedSIGN   \n",
       "  52                0.015625                              80  F-MNIST   FedSIGN   \n",
       "  53                0.000000                              90  F-MNIST   FedSIGN   \n",
       "  \n",
       "                   Attack Type  \n",
       "  45  Model Replacement Attack  \n",
       "  46  Model Replacement Attack  \n",
       "  47  Model Replacement Attack  \n",
       "  48  Model Replacement Attack  \n",
       "  49  Model Replacement Attack  \n",
       "  50  Model Replacement Attack  \n",
       "  51  Model Replacement Attack  \n",
       "  52  Model Replacement Attack  \n",
       "  53  Model Replacement Attack  ),\n",
       " (('Model Replacement Attack', 'MNIST', 'FedAVG'),\n",
       "      Backdoor Task Accuracy  Ratio of Malicious Clients (%) Dataset Framework  \\\n",
       "  27                0.828125                              10   MNIST    FedAVG   \n",
       "  28                0.968750                              20   MNIST    FedAVG   \n",
       "  29                1.000000                              30   MNIST    FedAVG   \n",
       "  30                1.000000                              40   MNIST    FedAVG   \n",
       "  31                1.000000                              50   MNIST    FedAVG   \n",
       "  32                1.000000                              60   MNIST    FedAVG   \n",
       "  33                1.000000                              70   MNIST    FedAVG   \n",
       "  34                1.000000                              80   MNIST    FedAVG   \n",
       "  35                1.000000                              90   MNIST    FedAVG   \n",
       "  \n",
       "                   Attack Type  \n",
       "  27  Model Replacement Attack  \n",
       "  28  Model Replacement Attack  \n",
       "  29  Model Replacement Attack  \n",
       "  30  Model Replacement Attack  \n",
       "  31  Model Replacement Attack  \n",
       "  32  Model Replacement Attack  \n",
       "  33  Model Replacement Attack  \n",
       "  34  Model Replacement Attack  \n",
       "  35  Model Replacement Attack  ),\n",
       " (('Model Replacement Attack', 'MNIST', 'FedSIGN'),\n",
       "      Backdoor Task Accuracy  Ratio of Malicious Clients (%) Dataset Framework  \\\n",
       "  9                 0.015625                              10   MNIST   FedSIGN   \n",
       "  10                0.171875                              20   MNIST   FedSIGN   \n",
       "  11                0.093750                              30   MNIST   FedSIGN   \n",
       "  12                0.125000                              40   MNIST   FedSIGN   \n",
       "  13                0.156250                              50   MNIST   FedSIGN   \n",
       "  14                0.265625                              60   MNIST   FedSIGN   \n",
       "  15                0.093750                              70   MNIST   FedSIGN   \n",
       "  16                0.093750                              80   MNIST   FedSIGN   \n",
       "  17                0.125000                              90   MNIST   FedSIGN   \n",
       "  \n",
       "                   Attack Type  \n",
       "  9   Model Replacement Attack  \n",
       "  10  Model Replacement Attack  \n",
       "  11  Model Replacement Attack  \n",
       "  12  Model Replacement Attack  \n",
       "  13  Model Replacement Attack  \n",
       "  14  Model Replacement Attack  \n",
       "  15  Model Replacement Attack  \n",
       "  16  Model Replacement Attack  \n",
       "  17  Model Replacement Attack  ),\n",
       " (('Pixel Backdoor Attack', 'CIFAR10', 'FedAVG'),\n",
       "      Backdoor Task Accuracy  Ratio of Malicious Clients (%)  Dataset Framework  \\\n",
       "  90                  0.9998                              10  CIFAR10    FedAVG   \n",
       "  91                  0.9999                              20  CIFAR10    FedAVG   \n",
       "  92                  1.0000                              30  CIFAR10    FedAVG   \n",
       "  93                  1.0000                              40  CIFAR10    FedAVG   \n",
       "  94                  1.0000                              50  CIFAR10    FedAVG   \n",
       "  95                  1.0000                              60  CIFAR10    FedAVG   \n",
       "  96                  1.0000                              70  CIFAR10    FedAVG   \n",
       "  97                  1.0000                              80  CIFAR10    FedAVG   \n",
       "  98                  1.0000                              90  CIFAR10    FedAVG   \n",
       "  \n",
       "                Attack Type  \n",
       "  90  Pixel Backdoor Attack  \n",
       "  91  Pixel Backdoor Attack  \n",
       "  92  Pixel Backdoor Attack  \n",
       "  93  Pixel Backdoor Attack  \n",
       "  94  Pixel Backdoor Attack  \n",
       "  95  Pixel Backdoor Attack  \n",
       "  96  Pixel Backdoor Attack  \n",
       "  97  Pixel Backdoor Attack  \n",
       "  98  Pixel Backdoor Attack  ),\n",
       " (('Pixel Backdoor Attack', 'CIFAR10', 'FedSIGN'),\n",
       "      Backdoor Task Accuracy  Ratio of Malicious Clients (%)  Dataset Framework  \\\n",
       "  72                  0.1117                              10  CIFAR10   FedSIGN   \n",
       "  73                  0.1129                              20  CIFAR10   FedSIGN   \n",
       "  74                  0.1174                              30  CIFAR10   FedSIGN   \n",
       "  75                  0.1171                              40  CIFAR10   FedSIGN   \n",
       "  76                  0.1175                              50  CIFAR10   FedSIGN   \n",
       "  77                  0.1288                              60  CIFAR10   FedSIGN   \n",
       "  78                  0.1332                              70  CIFAR10   FedSIGN   \n",
       "  79                  0.1341                              80  CIFAR10   FedSIGN   \n",
       "  80                  0.1127                              90  CIFAR10   FedSIGN   \n",
       "  \n",
       "                Attack Type  \n",
       "  72  Pixel Backdoor Attack  \n",
       "  73  Pixel Backdoor Attack  \n",
       "  74  Pixel Backdoor Attack  \n",
       "  75  Pixel Backdoor Attack  \n",
       "  76  Pixel Backdoor Attack  \n",
       "  77  Pixel Backdoor Attack  \n",
       "  78  Pixel Backdoor Attack  \n",
       "  79  Pixel Backdoor Attack  \n",
       "  80  Pixel Backdoor Attack  ),\n",
       " (('Pixel Backdoor Attack', 'F-MNIST', 'FedAVG'),\n",
       "      Backdoor Task Accuracy  Ratio of Malicious Clients (%)  Dataset Framework  \\\n",
       "  54                  0.9174                              10  F-MNIST    FedAVG   \n",
       "  55                  0.9831                              20  F-MNIST    FedAVG   \n",
       "  56                  0.9861                              30  F-MNIST    FedAVG   \n",
       "  57                  0.9982                              40  F-MNIST    FedAVG   \n",
       "  58                  0.9972                              50  F-MNIST    FedAVG   \n",
       "  59                  0.9993                              60  F-MNIST    FedAVG   \n",
       "  60                  0.9999                              70  F-MNIST    FedAVG   \n",
       "  61                  1.0000                              80  F-MNIST    FedAVG   \n",
       "  62                  1.0000                              90  F-MNIST    FedAVG   \n",
       "  \n",
       "                Attack Type  \n",
       "  54  Pixel Backdoor Attack  \n",
       "  55  Pixel Backdoor Attack  \n",
       "  56  Pixel Backdoor Attack  \n",
       "  57  Pixel Backdoor Attack  \n",
       "  58  Pixel Backdoor Attack  \n",
       "  59  Pixel Backdoor Attack  \n",
       "  60  Pixel Backdoor Attack  \n",
       "  61  Pixel Backdoor Attack  \n",
       "  62  Pixel Backdoor Attack  ),\n",
       " (('Pixel Backdoor Attack', 'F-MNIST', 'FedSIGN'),\n",
       "      Backdoor Task Accuracy  Ratio of Malicious Clients (%)  Dataset Framework  \\\n",
       "  36                  0.0980                              10  F-MNIST   FedSIGN   \n",
       "  37                  0.0983                              20  F-MNIST   FedSIGN   \n",
       "  38                  0.0981                              30  F-MNIST   FedSIGN   \n",
       "  39                  0.0980                              40  F-MNIST   FedSIGN   \n",
       "  40                  0.0979                              50  F-MNIST   FedSIGN   \n",
       "  41                  0.0981                              60  F-MNIST   FedSIGN   \n",
       "  42                  0.0982                              70  F-MNIST   FedSIGN   \n",
       "  43                  0.0978                              80  F-MNIST   FedSIGN   \n",
       "  44                  0.0999                              90  F-MNIST   FedSIGN   \n",
       "  \n",
       "                Attack Type  \n",
       "  36  Pixel Backdoor Attack  \n",
       "  37  Pixel Backdoor Attack  \n",
       "  38  Pixel Backdoor Attack  \n",
       "  39  Pixel Backdoor Attack  \n",
       "  40  Pixel Backdoor Attack  \n",
       "  41  Pixel Backdoor Attack  \n",
       "  42  Pixel Backdoor Attack  \n",
       "  43  Pixel Backdoor Attack  \n",
       "  44  Pixel Backdoor Attack  ),\n",
       " (('Pixel Backdoor Attack', 'MNIST', 'FedAVG'),\n",
       "      Backdoor Task Accuracy  Ratio of Malicious Clients (%) Dataset Framework  \\\n",
       "  18                  0.9852                              10   MNIST    FedAVG   \n",
       "  19                  0.9944                              20   MNIST    FedAVG   \n",
       "  20                  0.9996                              30   MNIST    FedAVG   \n",
       "  21                  0.9999                              40   MNIST    FedAVG   \n",
       "  22                  1.0000                              50   MNIST    FedAVG   \n",
       "  23                  1.0000                              60   MNIST    FedAVG   \n",
       "  24                  1.0000                              70   MNIST    FedAVG   \n",
       "  25                  1.0000                              80   MNIST    FedAVG   \n",
       "  26                  1.0000                              90   MNIST    FedAVG   \n",
       "  \n",
       "                Attack Type  \n",
       "  18  Pixel Backdoor Attack  \n",
       "  19  Pixel Backdoor Attack  \n",
       "  20  Pixel Backdoor Attack  \n",
       "  21  Pixel Backdoor Attack  \n",
       "  22  Pixel Backdoor Attack  \n",
       "  23  Pixel Backdoor Attack  \n",
       "  24  Pixel Backdoor Attack  \n",
       "  25  Pixel Backdoor Attack  \n",
       "  26  Pixel Backdoor Attack  ),\n",
       " (('Pixel Backdoor Attack', 'MNIST', 'FedSIGN'),\n",
       "     Backdoor Task Accuracy  Ratio of Malicious Clients (%) Dataset Framework  \\\n",
       "  0                  0.1141                              10   MNIST   FedSIGN   \n",
       "  1                  0.1142                              20   MNIST   FedSIGN   \n",
       "  2                  0.1141                              30   MNIST   FedSIGN   \n",
       "  3                  0.1146                              40   MNIST   FedSIGN   \n",
       "  4                  0.1144                              50   MNIST   FedSIGN   \n",
       "  5                  0.1139                              60   MNIST   FedSIGN   \n",
       "  6                  0.1136                              70   MNIST   FedSIGN   \n",
       "  7                  0.1136                              80   MNIST   FedSIGN   \n",
       "  8                  0.1138                              90   MNIST   FedSIGN   \n",
       "  \n",
       "               Attack Type  \n",
       "  0  Pixel Backdoor Attack  \n",
       "  1  Pixel Backdoor Attack  \n",
       "  2  Pixel Backdoor Attack  \n",
       "  3  Pixel Backdoor Attack  \n",
       "  4  Pixel Backdoor Attack  \n",
       "  5  Pixel Backdoor Attack  \n",
       "  6  Pixel Backdoor Attack  \n",
       "  7  Pixel Backdoor Attack  \n",
       "  8  Pixel Backdoor Attack  )]"
      ]
     },
     "execution_count": 89,
     "metadata": {},
     "output_type": "execute_result"
    }
   ],
   "source": [
    "backdoor_task"
   ]
  }
 ],
 "metadata": {
  "kernelspec": {
   "display_name": "Python 3",
   "language": "python",
   "name": "python3"
  },
  "language_info": {
   "codemirror_mode": {
    "name": "ipython",
    "version": 3
   },
   "file_extension": ".py",
   "mimetype": "text/x-python",
   "name": "python",
   "nbconvert_exporter": "python",
   "pygments_lexer": "ipython3",
   "version": "3.9.12"
  },
  "orig_nbformat": 4,
  "vscode": {
   "interpreter": {
    "hash": "940150d48c6d028077f78b77b5d61b235146cd56828089fb81c879a25d816b66"
   }
  }
 },
 "nbformat": 4,
 "nbformat_minor": 2
}
