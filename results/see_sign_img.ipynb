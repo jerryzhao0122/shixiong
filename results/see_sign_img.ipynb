{
 "cells": [
  {
   "cell_type": "code",
   "execution_count": 8,
   "metadata": {},
   "outputs": [],
   "source": [
    "import torch\n",
    "import numpy as np\n",
    "\n",
    "a = torch.rand((20,15,35))\n",
    "b = torch.rand((3,54,21))\n",
    "\n",
    "a_ = a.view(-1)\n",
    "b_ = b.view(-1)\n",
    "c = [a_,b_]\n",
    "c_ = torch.cat(c)"
   ]
  },
  {
   "cell_type": "code",
   "execution_count": 13,
   "metadata": {},
   "outputs": [
    {
     "data": {
      "text/plain": [
       "tensor([0., 0., 0., 0., 0., 0., 0., 0., 0., 0.])"
      ]
     },
     "execution_count": 13,
     "metadata": {},
     "output_type": "execute_result"
    }
   ],
   "source": [
    "torch.zeros(10)"
   ]
  },
  {
   "cell_type": "code",
   "execution_count": 15,
   "metadata": {},
   "outputs": [
    {
     "name": "stdout",
     "output_type": "stream",
     "text": [
      "22\n"
     ]
    }
   ],
   "source": [
    "import math\n",
    "l = len(c_)\n",
    "w = math.ceil(l**0.5)\n",
    "f = w-l%w\n",
    "c_ = torch.cat([c_,torch.zeros(f)])\n"
   ]
  }
 ],
 "metadata": {
  "interpreter": {
   "hash": "124b2e1e048c176ee2ffe5b73aa94387eaae78bfeef6f5c8386705ace3e56876"
  },
  "kernelspec": {
   "display_name": "Python 3.9.7 ('yuan')",
   "language": "python",
   "name": "python3"
  },
  "language_info": {
   "codemirror_mode": {
    "name": "ipython",
    "version": 3
   },
   "file_extension": ".py",
   "mimetype": "text/x-python",
   "name": "python",
   "nbconvert_exporter": "python",
   "pygments_lexer": "ipython3",
   "version": "3.9.7"
  },
  "orig_nbformat": 4
 },
 "nbformat": 4,
 "nbformat_minor": 2
}
