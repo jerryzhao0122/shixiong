{
 "cells": [
  {
   "cell_type": "code",
   "execution_count": 65,
   "metadata": {},
   "outputs": [],
   "source": [
    "import torch\n",
    "import torchvision \n",
    "from torchvision.transforms import ToTensor\n",
    "import torchvision.transforms as transforms\n",
    "\n",
    "train_dataset = torchvision.datasets.MNIST(\n",
    "    root=\"./data\",\n",
    "    train=True,\n",
    "    download=True,\n",
    "    transform=ToTensor()\n",
    ")\n",
    "test_dataset = torchvision.datasets.MNIST(\n",
    "    root=\"./data\",\n",
    "    train=False,\n",
    "    download=True,\n",
    "    transform=ToTensor()\n",
    ")"
   ]
  },
  {
   "cell_type": "code",
   "execution_count": 1,
   "metadata": {},
   "outputs": [],
   "source": [
    "import torch.nn.functional as F\n",
    "from torch import nn\n",
    "class Mnist(nn.Module):\n",
    "    def __init__(self):\n",
    "        super(Mnist, self).__init__()\n",
    "        self.conv1 = nn.Conv2d(1, 10, kernel_size=5)\n",
    "        self.conv2 = nn.Conv2d(10, 20, kernel_size=5)\n",
    "        self.conv2_drop = nn.Dropout2d()\n",
    "        self.fc1 = nn.Linear(320, 50)\n",
    "        self.fc2 = nn.Linear(50, 10)\n",
    "\n",
    "    def forward(self, x):\n",
    "        x = F.relu(F.max_pool2d(self.conv1(x), 2))\n",
    "        x = F.relu(F.max_pool2d(self.conv2_drop(self.conv2(x)), 2))\n",
    "        x = x.view(-1, x.shape[1]*x.shape[2]*x.shape[3])\n",
    "        x = F.relu(self.fc1(x))\n",
    "        x = F.dropout(x, training=self.training)\n",
    "        x = self.fc2(x)\n",
    "        return F.log_softmax(x, dim=1)"
   ]
  },
  {
   "cell_type": "code",
   "execution_count": 78,
   "metadata": {},
   "outputs": [
    {
     "name": "stdout",
     "output_type": "stream",
     "text": [
      "first\n",
      "tensor([[[[-1.3603e-03, -1.2890e-03, -2.7180e-04,  1.6878e-03,  6.6695e-04],\n",
      "          [-1.9380e-04, -7.7319e-04,  7.5433e-04, -1.0304e-04,  3.3000e-04],\n",
      "          [-1.4080e-03,  1.7930e-03,  1.8856e-03,  3.9164e-05,  1.9328e-03],\n",
      "          [-7.1406e-04,  2.9150e-03,  2.1352e-03,  9.0701e-04,  1.3595e-03],\n",
      "          [ 6.5306e-04,  1.6545e-03,  1.0089e-03,  1.0613e-03,  1.4596e-03]]],\n",
      "\n",
      "\n",
      "        [[[ 1.9566e-04,  4.4782e-04, -4.2625e-04, -2.6204e-04, -6.1343e-04],\n",
      "          [ 1.7596e-03,  8.0793e-04, -1.1185e-03,  4.4826e-04,  1.0328e-04],\n",
      "          [ 2.8768e-03,  1.1406e-04, -2.1821e-03, -2.8039e-03, -1.4895e-03],\n",
      "          [ 2.3974e-03,  9.6932e-04,  5.5794e-05, -1.9315e-03, -1.1177e-03],\n",
      "          [ 1.6928e-04, -4.4182e-04, -1.0862e-03, -9.6205e-04, -1.4641e-03]]],\n",
      "\n",
      "\n",
      "        [[[ 6.7977e-04, -4.5015e-05,  2.6043e-04,  3.7562e-04,  1.2388e-03],\n",
      "          [ 3.6587e-03,  1.4177e-03,  1.5232e-03,  4.0510e-04,  1.1500e-03],\n",
      "          [ 3.2988e-03,  2.5273e-03, -1.8822e-04, -1.9760e-03, -2.0347e-03],\n",
      "          [ 2.6580e-03,  1.6950e-03, -3.4853e-03, -3.4324e-03, -2.8749e-03],\n",
      "          [ 1.6105e-03, -7.6627e-04, -2.9619e-03, -2.3412e-05,  1.8254e-03]]],\n",
      "\n",
      "\n",
      "        [[[ 2.8030e-04,  1.4859e-04,  8.1598e-04,  2.4951e-03,  1.5809e-03],\n",
      "          [ 2.1307e-03,  2.2554e-03,  2.6241e-03,  3.5515e-03,  2.3323e-03],\n",
      "          [ 2.4190e-03,  2.2244e-03,  2.3331e-03,  3.2895e-03,  2.6960e-03],\n",
      "          [ 8.3452e-04,  6.9270e-04,  1.2291e-03,  1.8095e-03,  1.3077e-03],\n",
      "          [ 2.9844e-04,  4.7451e-04,  1.1163e-03,  1.3566e-03,  7.6945e-04]]],\n",
      "\n",
      "\n",
      "        [[[ 4.8152e-03,  4.6562e-03,  4.6409e-03,  5.5123e-03,  4.0957e-03],\n",
      "          [ 2.4381e-03,  1.5021e-03,  1.9435e-03,  5.1244e-03,  3.2121e-03],\n",
      "          [ 1.3670e-03,  2.0596e-03,  3.0378e-03,  4.9539e-03,  7.9265e-04],\n",
      "          [ 2.0245e-03,  2.0545e-03,  5.4152e-03,  2.9786e-03, -6.8175e-04],\n",
      "          [ 2.5136e-03,  4.4278e-03,  7.4221e-03,  1.7805e-03, -1.2197e-04]]],\n",
      "\n",
      "\n",
      "        [[[ 9.1381e-03,  1.1619e-02,  9.9059e-03,  4.2345e-03,  3.9015e-03],\n",
      "          [ 1.1565e-02,  1.0944e-02,  7.7163e-03,  7.8841e-03,  6.6944e-03],\n",
      "          [ 7.3232e-03,  5.2045e-03,  4.0514e-03,  6.3090e-03,  5.4429e-03],\n",
      "          [ 4.4175e-03,  1.4126e-03,  2.6109e-03,  5.6780e-03,  6.3482e-03],\n",
      "          [ 3.8685e-03,  1.2683e-03,  2.3545e-03,  3.7008e-03,  4.9186e-03]]],\n",
      "\n",
      "\n",
      "        [[[-2.8241e-04, -2.1463e-03, -1.7380e-03, -1.4070e-03,  1.1777e-03],\n",
      "          [-1.1133e-03, -3.2420e-03, -1.8831e-03, -2.3498e-03,  2.3426e-04],\n",
      "          [-3.0103e-03, -4.6754e-03, -4.8998e-03, -4.4766e-03, -1.4325e-03],\n",
      "          [-3.6549e-03, -3.9483e-03, -4.7336e-03, -3.3536e-03, -1.5133e-03],\n",
      "          [-2.9457e-03, -4.1949e-03, -3.8394e-03, -3.9714e-03, -3.4362e-03]]],\n",
      "\n",
      "\n",
      "        [[[ 2.1262e-03,  3.0148e-03,  2.6352e-03,  3.2418e-03,  4.3943e-03],\n",
      "          [ 4.9184e-04,  7.2792e-04,  2.6719e-03,  3.5544e-03,  2.5210e-03],\n",
      "          [-1.2530e-03,  1.2662e-03,  2.8414e-03,  4.2939e-03,  2.7242e-03],\n",
      "          [-4.2554e-04,  2.5074e-03,  4.1634e-03,  5.7421e-03,  2.8827e-03],\n",
      "          [ 2.7807e-03,  5.0705e-03,  4.7117e-03,  4.8752e-03,  3.5102e-03]]],\n",
      "\n",
      "\n",
      "        [[[ 9.2644e-04,  6.9251e-04, -1.8879e-03, -8.6110e-04, -1.4304e-03],\n",
      "          [ 2.4948e-03,  9.6935e-05, -9.6089e-04, -2.1892e-03, -2.6729e-03],\n",
      "          [ 2.3160e-03,  2.2994e-03,  4.5209e-04, -2.3643e-03, -3.7751e-03],\n",
      "          [ 1.6776e-03,  1.6412e-03, -2.2131e-03, -3.9482e-03, -1.3261e-03],\n",
      "          [ 6.0453e-04,  5.7799e-04, -3.1843e-03, -3.3245e-03,  8.6050e-04]]],\n",
      "\n",
      "\n",
      "        [[[-5.1555e-04, -4.4325e-04, -1.0694e-03, -1.4330e-03, -9.9287e-05],\n",
      "          [-1.9012e-03, -2.0244e-03, -2.1463e-03, -2.2805e-03, -8.5452e-04],\n",
      "          [-3.7658e-03, -3.7454e-03, -3.8659e-03, -4.5690e-03, -2.4323e-03],\n",
      "          [-3.5415e-03, -5.2847e-03, -7.6250e-03, -5.9697e-03, -3.6115e-03],\n",
      "          [-4.0103e-03, -6.0678e-03, -6.2495e-03, -3.8129e-03, -3.4305e-03]]]])\n",
      "tensor([[[[-1.3603e-03, -1.2890e-03, -2.7180e-04,  1.6878e-03,  6.6695e-04],\n",
      "          [-1.9380e-04, -7.7319e-04,  7.5433e-04, -1.0304e-04,  3.3000e-04],\n",
      "          [-1.4080e-03,  1.7930e-03,  1.8856e-03,  3.9164e-05,  1.9328e-03],\n",
      "          [-7.1406e-04,  2.9150e-03,  2.1352e-03,  9.0701e-04,  1.3595e-03],\n",
      "          [ 6.5306e-04,  1.6545e-03,  1.0089e-03,  1.0613e-03,  1.4596e-03]]],\n",
      "\n",
      "\n",
      "        [[[ 1.9566e-04,  4.4782e-04, -4.2625e-04, -2.6204e-04, -6.1343e-04],\n",
      "          [ 1.7596e-03,  8.0793e-04, -1.1185e-03,  4.4826e-04,  1.0328e-04],\n",
      "          [ 2.8768e-03,  1.1406e-04, -2.1821e-03, -2.8039e-03, -1.4895e-03],\n",
      "          [ 2.3974e-03,  9.6932e-04,  5.5794e-05, -1.9315e-03, -1.1177e-03],\n",
      "          [ 1.6928e-04, -4.4182e-04, -1.0862e-03, -9.6205e-04, -1.4641e-03]]],\n",
      "\n",
      "\n",
      "        [[[ 6.7977e-04, -4.5015e-05,  2.6043e-04,  3.7562e-04,  1.2388e-03],\n",
      "          [ 3.6587e-03,  1.4177e-03,  1.5232e-03,  4.0510e-04,  1.1500e-03],\n",
      "          [ 3.2988e-03,  2.5273e-03, -1.8822e-04, -1.9760e-03, -2.0347e-03],\n",
      "          [ 2.6580e-03,  1.6950e-03, -3.4853e-03, -3.4324e-03, -2.8749e-03],\n",
      "          [ 1.6105e-03, -7.6627e-04, -2.9619e-03, -2.3412e-05,  1.8254e-03]]],\n",
      "\n",
      "\n",
      "        [[[ 2.8030e-04,  1.4859e-04,  8.1598e-04,  2.4951e-03,  1.5809e-03],\n",
      "          [ 2.1307e-03,  2.2554e-03,  2.6241e-03,  3.5515e-03,  2.3323e-03],\n",
      "          [ 2.4190e-03,  2.2244e-03,  2.3331e-03,  3.2895e-03,  2.6960e-03],\n",
      "          [ 8.3452e-04,  6.9270e-04,  1.2291e-03,  1.8095e-03,  1.3077e-03],\n",
      "          [ 2.9844e-04,  4.7451e-04,  1.1163e-03,  1.3566e-03,  7.6945e-04]]],\n",
      "\n",
      "\n",
      "        [[[ 4.8152e-03,  4.6562e-03,  4.6409e-03,  5.5123e-03,  4.0957e-03],\n",
      "          [ 2.4381e-03,  1.5021e-03,  1.9435e-03,  5.1244e-03,  3.2121e-03],\n",
      "          [ 1.3670e-03,  2.0596e-03,  3.0378e-03,  4.9539e-03,  7.9265e-04],\n",
      "          [ 2.0245e-03,  2.0545e-03,  5.4152e-03,  2.9786e-03, -6.8175e-04],\n",
      "          [ 2.5136e-03,  4.4278e-03,  7.4221e-03,  1.7805e-03, -1.2197e-04]]],\n",
      "\n",
      "\n",
      "        [[[ 9.1381e-03,  1.1619e-02,  9.9059e-03,  4.2345e-03,  3.9015e-03],\n",
      "          [ 1.1565e-02,  1.0944e-02,  7.7163e-03,  7.8841e-03,  6.6944e-03],\n",
      "          [ 7.3232e-03,  5.2045e-03,  4.0514e-03,  6.3090e-03,  5.4429e-03],\n",
      "          [ 4.4175e-03,  1.4126e-03,  2.6109e-03,  5.6780e-03,  6.3482e-03],\n",
      "          [ 3.8685e-03,  1.2683e-03,  2.3545e-03,  3.7008e-03,  4.9186e-03]]],\n",
      "\n",
      "\n",
      "        [[[-2.8241e-04, -2.1463e-03, -1.7380e-03, -1.4070e-03,  1.1777e-03],\n",
      "          [-1.1133e-03, -3.2420e-03, -1.8831e-03, -2.3498e-03,  2.3426e-04],\n",
      "          [-3.0103e-03, -4.6754e-03, -4.8998e-03, -4.4766e-03, -1.4325e-03],\n",
      "          [-3.6549e-03, -3.9483e-03, -4.7336e-03, -3.3536e-03, -1.5133e-03],\n",
      "          [-2.9457e-03, -4.1949e-03, -3.8394e-03, -3.9714e-03, -3.4362e-03]]],\n",
      "\n",
      "\n",
      "        [[[ 2.1262e-03,  3.0148e-03,  2.6352e-03,  3.2418e-03,  4.3943e-03],\n",
      "          [ 4.9184e-04,  7.2792e-04,  2.6719e-03,  3.5544e-03,  2.5210e-03],\n",
      "          [-1.2530e-03,  1.2662e-03,  2.8414e-03,  4.2939e-03,  2.7242e-03],\n",
      "          [-4.2554e-04,  2.5074e-03,  4.1634e-03,  5.7421e-03,  2.8827e-03],\n",
      "          [ 2.7807e-03,  5.0705e-03,  4.7117e-03,  4.8752e-03,  3.5102e-03]]],\n",
      "\n",
      "\n",
      "        [[[ 9.2644e-04,  6.9251e-04, -1.8879e-03, -8.6110e-04, -1.4304e-03],\n",
      "          [ 2.4948e-03,  9.6935e-05, -9.6089e-04, -2.1892e-03, -2.6729e-03],\n",
      "          [ 2.3160e-03,  2.2994e-03,  4.5209e-04, -2.3643e-03, -3.7751e-03],\n",
      "          [ 1.6776e-03,  1.6412e-03, -2.2131e-03, -3.9482e-03, -1.3261e-03],\n",
      "          [ 6.0453e-04,  5.7799e-04, -3.1843e-03, -3.3245e-03,  8.6050e-04]]],\n",
      "\n",
      "\n",
      "        [[[-5.1555e-04, -4.4325e-04, -1.0694e-03, -1.4330e-03, -9.9287e-05],\n",
      "          [-1.9012e-03, -2.0244e-03, -2.1463e-03, -2.2805e-03, -8.5452e-04],\n",
      "          [-3.7658e-03, -3.7454e-03, -3.8659e-03, -4.5690e-03, -2.4323e-03],\n",
      "          [-3.5415e-03, -5.2847e-03, -7.6250e-03, -5.9697e-03, -3.6115e-03],\n",
      "          [-4.0103e-03, -6.0678e-03, -6.2495e-03, -3.8129e-03, -3.4305e-03]]]])\n",
      "second\n",
      "tensor([[[[-0.7014, -0.7013, -0.7003, -0.6983, -0.6993],\n",
      "          [ 0.6998,  0.6992, -0.6992,  0.6999,  0.7003],\n",
      "          [ 0.6986,  0.7018,  0.7019, -0.7000, -0.6981],\n",
      "          [-0.7007,  0.7029,  0.7021,  0.7009, -0.6986],\n",
      "          [ 0.7007,  0.7017, -0.6990,  0.7011,  0.7015]]],\n",
      "\n",
      "\n",
      "        [[[ 0.7002,  0.7004, -0.7004, -0.7003,  0.6994],\n",
      "          [-0.6982,  0.7008,  0.6989, -0.6996,  0.7001],\n",
      "          [ 0.7029, -0.6999, -0.7022,  0.6972,  0.6985],\n",
      "          [-0.6976, -0.6990, -0.6999, -0.7019, -0.7011],\n",
      "          [ 0.7002,  0.6996,  0.6989, -0.7010,  0.6985]]],\n",
      "\n",
      "\n",
      "        [[[-0.6993,  0.7000, -0.6997,  0.7004, -0.6988],\n",
      "          [ 0.7037,  0.7014, -0.6985, -0.6996,  0.7012],\n",
      "          [-0.6967,  0.7025, -0.7002, -0.7020, -0.7020],\n",
      "          [-0.6973, -0.6983,  0.6965,  0.6966, -0.7029],\n",
      "          [ 0.7016, -0.7008,  0.6970, -0.7000,  0.7018]]],\n",
      "\n",
      "\n",
      "        [[[-0.6997, -0.6999, -0.6992,  0.7025, -0.6984],\n",
      "          [ 0.7021, -0.6977, -0.6974,  0.7036, -0.6977],\n",
      "          [ 0.7024,  0.7022, -0.6977,  0.7033,  0.7027],\n",
      "          [ 0.7008, -0.6993, -0.6988, -0.6982, -0.6987],\n",
      "          [-0.6997, -0.6995, -0.6989,  0.7014, -0.6992]]],\n",
      "\n",
      "\n",
      "        [[[ 0.7048, -0.6953, -0.6954, -0.6945,  0.7041],\n",
      "          [ 0.7024,  0.7015,  0.7019,  0.7051,  0.7032],\n",
      "          [ 0.7014, -0.6979,  0.7030,  0.7050,  0.7008],\n",
      "          [ 0.7020, -0.6979, -0.6946, -0.6970, -0.7007],\n",
      "          [-0.6975,  0.7044,  0.7074, -0.6982, -0.7001]]],\n",
      "\n",
      "\n",
      "        [[[ 0.7091, -0.6884,  0.7099, -0.6958,  0.7039],\n",
      "          [ 0.7116,  0.7109,  0.7077,  0.7079,  0.7067],\n",
      "          [-0.6927, -0.6948,  0.7041,  0.7063, -0.6946],\n",
      "          [ 0.7044, -0.6986, -0.6974,  0.7057, -0.6937],\n",
      "          [-0.6961, -0.6987,  0.7024,  0.7037, -0.6951]]],\n",
      "\n",
      "\n",
      "        [[[-0.7003,  0.6979,  0.6983,  0.6986, -0.6988],\n",
      "          [ 0.6989,  0.6968, -0.7019,  0.6977, -0.6998],\n",
      "          [-0.7030,  0.6953, -0.7049,  0.6955,  0.6986],\n",
      "          [ 0.6963, -0.7039, -0.7047,  0.6966,  0.6985],\n",
      "          [-0.7029,  0.6958,  0.6962, -0.7040, -0.7034]]],\n",
      "\n",
      "\n",
      "        [[[ 0.7021,  0.7030,  0.7026,  0.7032,  0.7044],\n",
      "          [-0.6995,  0.7007, -0.6973,  0.7036, -0.6975],\n",
      "          [ 0.6987,  0.7013, -0.6972,  0.7043, -0.6973],\n",
      "          [-0.7004,  0.7025, -0.6958,  0.7057, -0.6971],\n",
      "          [ 0.7028,  0.7051,  0.7047,  0.7049,  0.7035]]],\n",
      "\n",
      "\n",
      "        [[[-0.6991,  0.7007,  0.6981,  0.6991,  0.6986],\n",
      "          [ 0.7025,  0.7001,  0.6990,  0.6978,  0.6973],\n",
      "          [ 0.7023, -0.6977,  0.7005, -0.7024, -0.7038],\n",
      "          [ 0.7017,  0.7016,  0.6978,  0.6961, -0.7013],\n",
      "          [-0.6994,  0.7006,  0.6968, -0.7033, -0.6991]]],\n",
      "\n",
      "\n",
      "        [[[-0.7005, -0.7004, -0.7011, -0.7014, -0.7001],\n",
      "          [-0.7019,  0.6980, -0.7021,  0.6977, -0.7009],\n",
      "          [ 0.6962, -0.7037, -0.7039,  0.6954,  0.6976],\n",
      "          [ 0.6965,  0.6947,  0.6924, -0.7060,  0.6964],\n",
      "          [ 0.6960,  0.6939,  0.6938, -0.7038,  0.6966]]]],\n",
      "       grad_fn=<AddBackward0>)\n"
     ]
    }
   ],
   "source": [
    "from torch.utils.data import DataLoader\n",
    "from configs import fedl_params\n",
    "from torch import nn\n",
    "\n",
    "train_loader = DataLoader(train_dataset,batch_size=64)\n",
    "\n",
    "model0 = Mnist()\n",
    "model = Mnist()\n",
    "model.train()\n",
    "kk = model.state_dict()\n",
    "\n",
    "device = torch.device(\"cuda\" if torch.cuda.is_available() else \"cpu\")\n",
    "criterion=nn.CrossEntropyLoss()\n",
    "optimizer = torch.optim.SGD(model.parameters(),lr = 0.1, momentum=0.5)\n",
    "l1_lambda = 0.7\n",
    "for epoch in range(10):\n",
    "    for data,target in train_loader:\n",
    "        data,target = data.to(device),target.to(device)\n",
    "        optimizer.zero_grad()\n",
    "        output = model(data)\n",
    "        loss = criterion(output,target)\n",
    "        loss.backward()\n",
    "        # print(model.parameters())\n",
    "        # print(model.state_dict())\n",
    "        for p in model.parameters():\n",
    "            # print(p)\n",
    "            print('first')\n",
    "            print(p.grad)\n",
    "            print(p.grad.data)\n",
    "            # print(torch.sign(p))\n",
    "            p.grad = p.grad + l1_lambda * torch.sign(p)\n",
    "            break\n",
    "        for p in model.parameters():\n",
    "            print('second')\n",
    "            print(p.grad)\n",
    "            break\n",
    "        break\n",
    "    break\n",
    "\n",
    "        "
   ]
  },
  {
   "cell_type": "code",
   "execution_count": 300,
   "metadata": {},
   "outputs": [
    {
     "name": "stdout",
     "output_type": "stream",
     "text": [
      "tensor([[[[0.7763, 0.9751],\n",
      "          [0.0840, 0.0292]],\n",
      "\n",
      "         [[0.6322, 0.0356],\n",
      "          [0.2102, 0.4385]]],\n",
      "\n",
      "\n",
      "        [[[0.8721, 0.0517],\n",
      "          [0.2492, 0.6330]],\n",
      "\n",
      "         [[0.9362, 0.3308],\n",
      "          [0.5573, 0.9888]]],\n",
      "\n",
      "\n",
      "        [[[0.3084, 0.5538],\n",
      "          [0.9638, 0.7139]],\n",
      "\n",
      "         [[0.7641, 0.6431],\n",
      "          [1.0000, 0.9910]]]])\n"
     ]
    }
   ],
   "source": [
    "a = torch.rand((2,2,2))\n",
    "b = torch.rand((2,2,2))\n",
    "c = torch.rand((2,2,2))\n",
    "sor = torch.stack((a,b,c))\n",
    "print(sor)\n",
    "\n"
   ]
  },
  {
   "cell_type": "code",
   "execution_count": 301,
   "metadata": {},
   "outputs": [
    {
     "data": {
      "text/plain": [
       "tensor([[[[0.3084, 0.0517],\n",
       "          [0.0840, 0.0292]],\n",
       "\n",
       "         [[0.6322, 0.0356],\n",
       "          [0.2102, 0.4385]]],\n",
       "\n",
       "\n",
       "        [[[0.7763, 0.5538],\n",
       "          [0.2492, 0.6330]],\n",
       "\n",
       "         [[0.7641, 0.3308],\n",
       "          [0.5573, 0.9888]]],\n",
       "\n",
       "\n",
       "        [[[0.8721, 0.9751],\n",
       "          [0.9638, 0.7139]],\n",
       "\n",
       "         [[0.9362, 0.6431],\n",
       "          [1.0000, 0.9910]]]])"
      ]
     },
     "execution_count": 301,
     "metadata": {},
     "output_type": "execute_result"
    }
   ],
   "source": [
    "sor,idx = torch.sort(sor,0)\n"
   ]
  },
  {
   "cell_type": "code",
   "execution_count": 112,
   "metadata": {},
   "outputs": [
    {
     "name": "stdout",
     "output_type": "stream",
     "text": [
      "tensor([-1.,  1., -1.,  1., -1.,  1.,  1., -1., -1.,  1., -1.,  1.,  1.,  1.,\n",
      "         1., -1., -1.,  1., -1.,  1.,  1., -1., -1.,  1., -1.,  1.,  1.,  1.,\n",
      "         1., -1.,  1.,  1.,  1., -1.,  1., -1.,  1., -1., -1., -1., -1., -1.,\n",
      "        -1., -1., -1.,  1.,  1.,  1., -1., -1., -1.,  1., -1.,  1.,  1., -1.,\n",
      "         1.,  1., -1.,  1., -1.,  1.,  1., -1.,  1.,  1., -1.,  1., -1., -1.,\n",
      "        -1.,  1.,  1., -1.,  1., -1.,  1., -1., -1.,  1.,  1.,  1.,  1.,  1.,\n",
      "        -1., -1.,  1., -1., -1., -1., -1.,  1., -1., -1., -1., -1.,  1., -1.,\n",
      "        -1.,  1., -1., -1.,  1., -1.,  1.,  1.,  1.,  1., -1.,  1.,  1.,  1.,\n",
      "         1.,  1.,  1., -1.,  1., -1.,  1.,  1., -1., -1., -1., -1.,  1.,  1.,\n",
      "         1.,  1., -1.,  1., -1., -1.,  1., -1., -1.,  1.,  1.,  1., -1.,  1.,\n",
      "         1., -1., -1., -1., -1., -1., -1.,  1., -1., -1.,  1., -1., -1., -1.,\n",
      "        -1., -1., -1., -1., -1.,  1., -1.,  1.,  1., -1.,  1., -1.,  1.,  1.,\n",
      "        -1.,  1., -1.,  1.,  1., -1., -1., -1., -1.,  1., -1.,  1.,  1., -1.,\n",
      "         1.,  1.,  1., -1., -1.,  1.,  1.,  1.,  1., -1.,  1., -1.,  1., -1.,\n",
      "         1.,  1., -1.,  1., -1., -1.,  1., -1., -1., -1., -1., -1., -1.,  1.,\n",
      "        -1., -1.,  1., -1., -1.,  1.,  1.,  1., -1.,  1., -1.,  1., -1., -1.,\n",
      "         1., -1., -1., -1.,  1.,  1.,  1.,  1.,  1., -1.,  1.,  1.,  1.,  1.,\n",
      "        -1.,  1.,  1., -1.,  1., -1.,  1.,  1., -1., -1., -1., -1.])\n",
      "[[  0. 255.   0. 255.   0. 255. 255.   0.   0. 255.   0. 255. 255. 255.\n",
      "  255.   0.   0. 255.   0. 255. 255.   0.   0. 255.   0. 255. 255. 255.\n",
      "  255.   0. 255. 255. 255.   0. 255.   0. 255.   0.   0.   0.   0.   0.\n",
      "    0.   0.   0. 255. 255. 255.   0.   0.]\n",
      " [  0. 255.   0. 255. 255.   0. 255. 255.   0. 255.   0. 255. 255.   0.\n",
      "  255. 255.   0. 255.   0.   0.   0. 255. 255.   0. 255.   0. 255.   0.\n",
      "    0. 255. 255. 255. 255. 255.   0.   0. 255.   0.   0.   0.   0. 255.\n",
      "    0.   0.   0.   0. 255.   0.   0. 255.]\n",
      " [  0.   0. 255.   0. 255. 255. 255. 255.   0. 255. 255. 255. 255. 255.\n",
      "  255.   0. 255.   0. 255. 255.   0.   0.   0.   0. 255. 255. 255. 255.\n",
      "    0. 255.   0.   0. 255.   0.   0. 255. 255. 255.   0. 255. 255.   0.\n",
      "    0.   0.   0.   0.   0. 255.   0.   0.]\n",
      " [255.   0.   0.   0.   0.   0.   0.   0.   0. 255.   0. 255. 255.   0.\n",
      "  255.   0. 255. 255.   0. 255.   0. 255. 255.   0.   0.   0.   0. 255.\n",
      "    0. 255. 255.   0. 255. 255. 255.   0.   0. 255. 255. 255. 255.   0.\n",
      "  255.   0. 255.   0. 255. 255.   0. 255.]\n",
      " [  0.   0. 255.   0.   0.   0.   0.   0.   0. 255.   0.   0. 255.   0.\n",
      "    0. 255. 255. 255.   0. 255.   0. 255.   0.   0. 255.   0.   0.   0.\n",
      "  255. 255. 255. 255. 255.   0. 255. 255. 255. 255.   0. 255. 255.   0.\n",
      "  255.   0. 255. 255.   0.   0.   0.   0.]]\n",
      "conv1-weight torch.Size([10, 1, 5, 5]) torch.Size([5, 50])\n"
     ]
    }
   ],
   "source": [
    "import torch\n",
    "import cv2\n",
    "import copy\n",
    "import math\n",
    "import numpy as np\n",
    "import matplotlib.pyplot as plt\n",
    "\n",
    "a = torch.rand((2,3,4,5))\n",
    "b = torch.rand((2,3,4,5))\n",
    "w = a.shape[-1]\n",
    "h = a.shape[-2]\n",
    "\n",
    "model = Mnist()\n",
    "for key,value in model.state_dict().items():\n",
    "    tmp = str(key).replace('.','-')\n",
    "    value_shape = value.shape\n",
    "    # print(len(value_shape))\n",
    "    if len(value_shape)<2:\n",
    "        h = value_shape[-1]\n",
    "    else:\n",
    "        h = value_shape[-2]\n",
    "\n",
    "    kk = torch.sign(value.view(-1))\n",
    "    print(kk)\n",
    "    img = torch.where(kk==0,torch.full_like(kk,125),kk)\n",
    "    # print(img)\n",
    "    img = torch.where(kk==1,torch.full_like(kk,255),img)\n",
    "    # print(img)\n",
    "    img = torch.where(kk==-1,torch.full_like(kk,0),img)\n",
    "    \n",
    "   \n",
    "    tt = img.view((h,-1))    \n",
    "    img = tt.numpy()\n",
    "    print(img)\n",
    "    cv2.imwrite('test.jpg',img)\n",
    "    print(tmp,value.shape,tt.shape)\n",
    "    break"
   ]
  },
  {
   "cell_type": "code",
   "execution_count": 30,
   "metadata": {},
   "outputs": [
    {
     "data": {
      "text/plain": [
       "'adfda-adfad'"
      ]
     },
     "execution_count": 30,
     "metadata": {},
     "output_type": "execute_result"
    }
   ],
   "source": [
    "l = 'adfda.adfad'\n",
    "l = l.replace('.','-')\n",
    "l"
   ]
  },
  {
   "cell_type": "code",
   "execution_count": 1,
   "metadata": {},
   "outputs": [
    {
     "name": "stdout",
     "output_type": "stream",
     "text": [
      "Files already downloaded and verified\n",
      "Files already downloaded and verified\n"
     ]
    }
   ],
   "source": [
    "import yaml\n",
    "from torchvision import datasets, transforms\n",
    "from torch.utils.data import DataLoader,Dataset,TensorDataset\n",
    "\n",
    "\n",
    "data_dir = './data/cifar/'\n",
    "apply_transform = transforms.Compose([\n",
    "                                            transforms.Resize((28,28)),\n",
    "                                            transforms.Grayscale(1),\n",
    "                                            transforms.ToTensor()\n",
    "                                                ])\n",
    "\n",
    "train_dataset = datasets.CIFAR10(data_dir, train=True, download=True,\n",
    "                                        transform=apply_transform)\n",
    "\n",
    "test_dataset = datasets.CIFAR10(data_dir, train=False, download=True,\n",
    "                                        transform=apply_transform)\n",
    "\n",
    "# 获取后门数据的索引值\n",
    "with open(f'./configs/poison_images.yaml','r') as f:\n",
    "    poisson = yaml.safe_load(f) \n",
    "\n",
    "backdoor_img_index = poisson['poison_images_test']\n",
    "\n",
    "backdoor_dataset = [train_dataset[i] for i in backdoor_img_index]\n",
    "\n",
    "backdoor_dataloader = DataLoader(backdoor_dataset,batch_size=64)\n",
    "\n",
    "\n"
   ]
  },
  {
   "cell_type": "code",
   "execution_count": 8,
   "metadata": {},
   "outputs": [
    {
     "data": {
      "text/plain": [
       "<matplotlib.image.AxesImage at 0x7f9ba10f9d60>"
      ]
     },
     "execution_count": 8,
     "metadata": {},
     "output_type": "execute_result"
    },
    {
     "data": {
      "image/png": "[encoded data removed]",
      "text/plain": [
       "<Figure size 432x288 with 1 Axes>"
      ]
     },
     "metadata": {
      "needs_background": "light"
     },
     "output_type": "display_data"
    }
   ],
   "source": [
    "import matplotlib.pyplot as plt\n",
    "plt.imshow(backdoor_dataset[2][0][0])"
   ]
  },
  {
   "cell_type": "code",
   "execution_count": 180,
   "metadata": {},
   "outputs": [],
   "source": [
    "# for i,j in train_loader.dataset:\n",
    "#     i[:,-5:,-5:,]=1\n",
    "#     j=1\n",
    "#     print(i)\n",
    "#     break\n",
    "\n",
    "all_data=[]\n",
    "all_target=[]\n",
    "for i,j in train_loader.dataset:\n",
    "    if j == 5:\n",
    "        j = torch.tensor(6)\n",
    "    all_data.append(i)\n",
    "    all_target.append(j)\n",
    "    break\n",
    "\n",
    "new_dataset_data = torch.stack(all_data)\n",
    "new_dataset_target = torch.stack(all_target)\n",
    "\n",
    "pixel_dataset = TensorDataset(new_dataset_data,new_dataset_target)\n",
    "\n"
   ]
  },
  {
   "cell_type": "code",
   "execution_count": 176,
   "metadata": {},
   "outputs": [
    {
     "name": "stdout",
     "output_type": "stream",
     "text": [
      "torch.Size([64, 1, 28, 28])\n"
     ]
    },
    {
     "data": {
      "image/png": "[encoded data removed]",
      "text/plain": [
       "<Figure size 432x288 with 1 Axes>"
      ]
     },
     "metadata": {
      "needs_background": "light"
     },
     "output_type": "display_data"
    }
   ],
   "source": [
    "pixel_loader = DataLoader(pixel_dataset,batch_size=64,shuffle=True)\n",
    "\n",
    "for i,j in pixel_loader:\n",
    "    print(i.shape)\n",
    "    plt.imshow(i[0][0])\n",
    "    break"
   ]
  },
  {
   "cell_type": "code",
   "execution_count": 23,
   "metadata": {},
   "outputs": [],
   "source": [
    "import numpy as np\n",
    "labels = train_dataset.targets.numpy()\n",
    "dict_users = {i: np.array([]) for i in range(20)}\n",
    "\n",
    "idxs = np.arange(60000)\n",
    "idxs_labels = np.vstack((idxs,labels))\n",
    "idxs_labels = idxs_labels[:, idxs_labels[1, :].argsort()] #argsort排序返回索引\n",
    "idxs = idxs_labels[0, :]\n",
    "\n",
    "idx_shard = [i for i in range(200)]\n"
   ]
  },
  {
   "cell_type": "code",
   "execution_count": 19,
   "metadata": {},
   "outputs": [
    {
     "data": {
      "text/plain": [
       "[1, 2, 2, 3]"
      ]
     },
     "execution_count": 19,
     "metadata": {},
     "output_type": "execute_result"
    }
   ],
   "source": [
    "kk = [1,2]\n",
    "tt = [2,3]\n",
    "kk+ tt"
   ]
  },
  {
   "cell_type": "code",
   "execution_count": 72,
   "metadata": {},
   "outputs": [],
   "source": [
    "from torch.utils.data import DataLoader,Dataset,TensorDataset\n",
    "train_dataset.data = train_dataset.data[:12000]\n",
    "train_loader = DataLoader(train_dataset)"
   ]
  },
  {
   "cell_type": "code",
   "execution_count": 74,
   "metadata": {},
   "outputs": [
    {
     "name": "stdout",
     "output_type": "stream",
     "text": [
      "0\n",
      "1\n",
      "2\n",
      "3\n",
      "4\n",
      "5\n"
     ]
    }
   ],
   "source": [
    "for i in range(10):\n",
    "    print(i)\n",
    "    if i==5:\n",
    "        break\n"
   ]
  },
  {
   "cell_type": "code",
   "execution_count": 223,
   "metadata": {},
   "outputs": [
    {
     "data": {
      "text/plain": [
       "[5, 4, 42, 0, 0, 12, 5, 14, 4, 14]"
      ]
     },
     "execution_count": 223,
     "metadata": {},
     "output_type": "execute_result"
    }
   ],
   "source": [
    "kk = 100 * np.random.dirichlet(np.array(10 * [0.5]))\n",
    "[int(round(i)) for i in kk]"
   ]
  },
  {
   "cell_type": "code",
   "execution_count": 7,
   "metadata": {},
   "outputs": [
    {
     "data": {
      "text/plain": [
       "Counter({0.061324894: 1,\n",
       "         0.48782027: 1,\n",
       "         0.79120165: 1,\n",
       "         0.060999215: 1,\n",
       "         0.5734793: 1,\n",
       "         0.95576334: 1,\n",
       "         0.61075264: 1,\n",
       "         0.09579706: 1,\n",
       "         0.107647836: 1,\n",
       "         0.55246866: 1,\n",
       "         0.6836598: 1,\n",
       "         0.49132258: 1,\n",
       "         0.05168289: 1,\n",
       "         0.28370887: 1,\n",
       "         0.02612567: 1,\n",
       "         0.72451794: 1,\n",
       "         0.12967145: 1,\n",
       "         0.6368691: 1,\n",
       "         0.3262539: 1,\n",
       "         0.7769999: 1,\n",
       "         0.93121666: 1,\n",
       "         0.43582493: 1,\n",
       "         0.92212516: 1,\n",
       "         0.15963662: 1,\n",
       "         0.36683828: 1,\n",
       "         0.48775637: 1,\n",
       "         0.50189537: 1,\n",
       "         0.77784854: 1,\n",
       "         0.04653424: 1,\n",
       "         0.141877: 1,\n",
       "         0.34539384: 1,\n",
       "         0.8359716: 1,\n",
       "         0.68197596: 1,\n",
       "         0.09807068: 1,\n",
       "         0.6350919: 1,\n",
       "         0.40250552: 1,\n",
       "         0.06573522: 1,\n",
       "         0.18535888: 1,\n",
       "         0.5180687: 1,\n",
       "         0.10308218: 1,\n",
       "         0.3243158: 1,\n",
       "         0.106012106: 1,\n",
       "         0.47597164: 1,\n",
       "         0.9300039: 1,\n",
       "         0.78566086: 1,\n",
       "         0.74716765: 1,\n",
       "         0.4653468: 1,\n",
       "         0.4743219: 1,\n",
       "         0.5348564: 1,\n",
       "         0.9442349: 1,\n",
       "         0.43539834: 1,\n",
       "         0.05912721: 1,\n",
       "         0.8004508: 1,\n",
       "         0.010502815: 1,\n",
       "         0.143938: 1,\n",
       "         0.24316216: 1,\n",
       "         0.8312688: 1,\n",
       "         0.5565552: 1,\n",
       "         0.4054262: 1,\n",
       "         0.13327688: 1,\n",
       "         0.09102094: 1,\n",
       "         0.7627384: 1,\n",
       "         0.59056354: 1,\n",
       "         0.27544212: 1,\n",
       "         0.0017262697: 1,\n",
       "         0.34910595: 1,\n",
       "         0.13102764: 1,\n",
       "         0.25614333: 1,\n",
       "         0.605581: 1,\n",
       "         0.30045015: 1,\n",
       "         0.5500255: 1,\n",
       "         0.8079216: 1,\n",
       "         0.7502634: 1,\n",
       "         0.48345387: 1,\n",
       "         0.068932116: 1})"
      ]
     },
     "execution_count": 7,
     "metadata": {},
     "output_type": "execute_result"
    }
   ],
   "source": [
    "from collections import Counter\n",
    "import torch\n",
    "kk = torch.rand((3,5,5))\n",
    "bb = kk.view(-1).numpy()\n",
    "t = Counter(bb)\n",
    "t"
   ]
  },
  {
   "cell_type": "code",
   "execution_count": 98,
   "metadata": {},
   "outputs": [],
   "source": [
    "import numpy as np \n",
    "from scipy.cluster.hierarchy import linkage, dendrogram,fcluster\n",
    "import scipy.cluster.hierarchy as sch\n",
    "\n",
    "k = [ list(np.random.randint(low=0,high=100,size=3)) for i in range(20)]\n",
    "\n",
    "disMat = sch.distance.pdist(k,'euclidean') \n",
    "Z=sch.linkage(disMat,method='average') \n",
    "# P=sch.dendrogram(Z)\n",
    "cluster= sch.fcluster(Z, t=2, criterion='maxclust') \n",
    "c1 = np.argwhere(cluster==1).reshape(-1)\n",
    "c2 = np.argwhere(cluster==2).reshape(-1)"
   ]
  },
  {
   "cell_type": "code",
   "execution_count": 100,
   "metadata": {},
   "outputs": [],
   "source": [
    "kk = torch.rand((1,5,4))\n",
    "pp = torch.rand((4,5))\n",
    "c = torch.cat([kk.view(-1),pp.view(-1)])"
   ]
  },
  {
   "cell_type": "code",
   "execution_count": 103,
   "metadata": {},
   "outputs": [
    {
     "data": {
      "text/plain": [
       "True"
      ]
     },
     "execution_count": 103,
     "metadata": {},
     "output_type": "execute_result"
    }
   ],
   "source": [
    "tt = [1,2]\n",
    "type(tt) == list"
   ]
  },
  {
   "cell_type": "code",
   "execution_count": 107,
   "metadata": {},
   "outputs": [
    {
     "data": {
      "text/plain": [
       "array([1, 1, 2, 2, 3, 3, 4, 4])"
      ]
     },
     "execution_count": 107,
     "metadata": {},
     "output_type": "execute_result"
    }
   ],
   "source": [
    "x=np.array([[1,2],[3,4]]) \n",
    "np.repeat(x,2)"
   ]
  },
  {
   "cell_type": "code",
   "execution_count": 73,
   "metadata": {},
   "outputs": [
    {
     "name": "stdout",
     "output_type": "stream",
     "text": [
      "Z:\n",
      " [[ 2.          7.          0.          2.        ]\n",
      " [ 5.          6.          0.          2.        ]\n",
      " [ 1.          9.          1.          3.        ]\n",
      " [ 4.          8.          1.          3.        ]\n",
      " [ 0.         11.          1.66666667  4.        ]\n",
      " [ 3.         12.          3.25        5.        ]\n",
      " [10.         13.          7.26666667  8.        ]]\n",
      "f:\n",
      " [2 1 2 2 2 1 1 2]\n"
     ]
    },
    {
     "data": {
      "image/png": "[encoded data removed]",
      "text/plain": [
       "<Figure size 360x216 with 1 Axes>"
      ]
     },
     "metadata": {
      "needs_background": "light"
     },
     "output_type": "display_data"
    }
   ],
   "source": [
    "import numpy as np\n",
    "from scipy.cluster.hierarchy import dendrogram, linkage,fcluster\n",
    "from matplotlib import pyplot as plt\n",
    "X = [[i] for i in [2, 8, 0, 4, 1, 9, 9, 0]]\n",
    "Z = linkage(X, method='centroid')\n",
    "f = fcluster(Z,t=5,criterion='distance')\n",
    "fig = plt.figure(figsize=(5, 3))\n",
    "dn = dendrogram(Z)\n",
    "print('Z:\\n', Z)\n",
    "print('f:\\n', f)\n",
    "plt.show()\n"
   ]
  }
 ],
 "metadata": {
  "kernelspec": {
   "display_name": "Python 3.9.12",
   "language": "python",
   "name": "python3"
  },
  "language_info": {
   "codemirror_mode": {
    "name": "ipython",
    "version": 3
   },
   "file_extension": ".py",
   "mimetype": "text/x-python",
   "name": "python",
   "nbconvert_exporter": "python",
   "pygments_lexer": "ipython3",
   "version": "3.9.12"
  },
  "orig_nbformat": 4,
  "vscode": {
   "interpreter": {
    "hash": "940150d48c6d028077f78b77b5d61b235146cd56828089fb81c879a25d816b66"
   }
  }
 },
 "nbformat": 4,
 "nbformat_minor": 2
}
